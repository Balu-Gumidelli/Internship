{
 "cells": [
  {
   "cell_type": "code",
   "execution_count": null,
   "id": "92f7255a",
   "metadata": {},
   "outputs": [],
   "source": [
    "from selenium import webdriver\n",
    "import time\n",
    "import requests\n",
    "import re\n",
    "from selenium.common.exceptions import NoSuchElementException\n",
    "import warnings\n",
    "warnings.filterwarnings(\"ignore\")"
   ]
  },
  {
   "cell_type": "markdown",
   "id": "a988da96",
   "metadata": {},
   "source": [
    "# 1. Scrape the details of most viewed videos on YouTube from Wikipedia.\n",
    "Url = https://en.wikipedia.org/wiki/List_of_most-viewed_YouTube_videos\n",
    "You need to find following details:\n",
    "\n",
    "A) Rank\n",
    "\n",
    "B) Name\n",
    "\n",
    "C) Artist\n",
    "\n",
    "D) Upload date\n",
    "\n",
    "E) Views"
   ]
  },
  {
   "cell_type": "code",
   "execution_count": null,
   "id": "68293c7d",
   "metadata": {},
   "outputs": [],
   "source": [
    "driver=webdriver.Chrome(r'C:\\Users\\balub\\chromedriver.exe')\n",
    "driver=webdriver.Chrome(\"chromedriver.exe\")"
   ]
  },
  {
   "cell_type": "code",
   "execution_count": null,
   "id": "b87766bd",
   "metadata": {},
   "outputs": [],
   "source": [
    "url = \"https://en.wikipedia.org/wiki/List_of_most-viewed_YouTube_videos\"\n",
    "driver.get(url)\n",
    "time.sleep(3)"
   ]
  },
  {
   "cell_type": "code",
   "execution_count": null,
   "id": "da874608",
   "metadata": {},
   "outputs": [],
   "source": [
    "rank = []\n",
    "name = []\n",
    "artist = []\n",
    "upload_date = []\n",
    "views = []"
   ]
  },
  {
   "cell_type": "code",
   "execution_count": null,
   "id": "3e896db3",
   "metadata": {},
   "outputs": [],
   "source": [
    "#scraping rank\n",
    "try:\n",
    "    for i in driver.find_elements_by_xpath(\"//table[@class='wikitable sortable jquery-tablesorter']//tbody//tr//td[1]\")[:30]:\n",
    "        rank.append(i.text)\n",
    "except NoSuchElementException:\n",
    "    rank.append('-')"
   ]
  },
  {
   "cell_type": "code",
   "execution_count": null,
   "id": "7278bf48",
   "metadata": {},
   "outputs": [],
   "source": [
    "#Scraping names\n",
    "try:\n",
    "    for i in driver.find_elements_by_xpath(\"//table[@class='wikitable sortable jquery-tablesorter']//tbody//tr//td[2]\")[:30]:\n",
    "        name.append(i.text)\n",
    "except NoSuchElementException:\n",
    "    name.append('-')"
   ]
  },
  {
   "cell_type": "code",
   "execution_count": null,
   "id": "7abfff91",
   "metadata": {},
   "outputs": [],
   "source": [
    "#Scraping artist\n",
    "try:\n",
    "    for i in driver.find_elements_by_xpath(\"//table[@class='wikitable sortable jquery-tablesorter']//tbody//tr//td[3]\")[:30]:\n",
    "        artist.append(i.text)\n",
    "except NoSuchElementException:        \n",
    "    artist.append('-')"
   ]
  },
  {
   "cell_type": "code",
   "execution_count": null,
   "id": "f1727c24",
   "metadata": {},
   "outputs": [],
   "source": [
    "#Scraping upload date\n",
    "try:\n",
    "    for i in driver.find_elements_by_xpath(\"//table[@class='wikitable sortable jquery-tablesorter']//tbody//tr//td[5]\")[:30]:\n",
    "        upload_date.append(i.text)\n",
    "except NoSuchElementException:        \n",
    "    upload_date.append('-')"
   ]
  },
  {
   "cell_type": "code",
   "execution_count": null,
   "id": "a94b1758",
   "metadata": {},
   "outputs": [],
   "source": [
    "#scraping views\n",
    "try:\n",
    "    for i in driver.find_elements_by_xpath(\"//table[@class='wikitable sortable jquery-tablesorter']//tbody//tr//td[4]\")[:30]:\n",
    "        views.append(i.text)\n",
    "except NoSuchElementException:\n",
    "    views.append('-')"
   ]
  },
  {
   "cell_type": "code",
   "execution_count": null,
   "id": "337f264f",
   "metadata": {},
   "outputs": [],
   "source": [
    "import pandas as pd"
   ]
  },
  {
   "cell_type": "code",
   "execution_count": null,
   "id": "2f11a5b0",
   "metadata": {},
   "outputs": [],
   "source": [
    "yt=pd.DataFrame({})\n",
    "yt['Rank']=rank\n",
    "yt['Name']=name\n",
    "yt['Artist']=artist\n",
    "yt['Upload_Date']=upload_date\n",
    "yt['Views']=views"
   ]
  },
  {
   "cell_type": "code",
   "execution_count": null,
   "id": "5b44e5da",
   "metadata": {},
   "outputs": [],
   "source": [
    "yt"
   ]
  },
  {
   "cell_type": "markdown",
   "id": "7702b894",
   "metadata": {},
   "source": [
    "# 2. Scrape the details team India’s international fixtures from bcci.tv\n",
    "Url = https://www.bcci.tv/. You need to find following details:\n",
    "\n",
    "A) Match title\n",
    "\n",
    "B) Series\n",
    "\n",
    "C) Place\n",
    "\n",
    "D) Date\n",
    "\n",
    "E) Time\n",
    "\n",
    "Note: - From bcci.tv home page you have reach to the international fixture page through code."
   ]
  },
  {
   "cell_type": "code",
   "execution_count": null,
   "id": "e93f16e1",
   "metadata": {},
   "outputs": [],
   "source": [
    "driver=webdriver.Chrome(r'C:\\Users\\balub\\chromedriver.exe')\n",
    "driver=webdriver.Chrome(\"chromedriver.exe\")"
   ]
  },
  {
   "cell_type": "code",
   "execution_count": null,
   "id": "7779a6d5",
   "metadata": {},
   "outputs": [],
   "source": [
    "url = \"https://www.bcci.tv/\"\n",
    "driver.get(url)\n",
    "time.sleep(3)"
   ]
  },
  {
   "cell_type": "code",
   "execution_count": null,
   "id": "d92a27a6",
   "metadata": {},
   "outputs": [],
   "source": [
    "title = []\n",
    "series = []\n",
    "place = []\n",
    "date = []\n",
    "time = []"
   ]
  },
  {
   "cell_type": "code",
   "execution_count": null,
   "id": "42209906",
   "metadata": {},
   "outputs": [],
   "source": [
    "for i in driver.find_elements_by_xpath(\"//strong[@class='fixture__name fixture__name--with-margin']\"):\n",
    "    title.append(i.text)\n",
    "#Scraping url \n",
    "url = []\n",
    "urls = driver.find_elements_by_xpath(\"//div[@class='js-list']//a\")\n",
    "for i in urls:\n",
    "    url.append(i.get_attribute(\"href\"))\n",
    "        \n",
    "# scraping date,time and series\n",
    "for i in url:\n",
    "    driver.get(i)\n",
    "    time.sleep(5)\n",
    "    \n",
    "#Scraping place\n",
    "for i in driver.find_elements_by_xpath(\"//p[@class='fixture__additional-info']//span\"):\n",
    "    place.append(i.text)\n",
    "    \n",
    "    #Scraping Series\n",
    "    try:\n",
    "        srs = driver.find_element_by_xpath(\"/html/body/div[2]/div/div[2]/section[3]/div/ul/li[1]/span[2]\")\n",
    "        series.append(srs.text)\n",
    "    except NoSuchElementException:\n",
    "        series.append('-')\n",
    "        \n",
    "    #Scraping date\n",
    "    try:\n",
    "        dt = driver.find_element_by_xpath(\"//div[@class='mc-header-scorebox__datetime']//strong\")\n",
    "        date.append(dt.text)\n",
    "    except NoSuchElementException:\n",
    "        date.append('-')\n",
    "        \n",
    "    #Scraping time\n",
    "    try:\n",
    "        t = driver.find_element_by_xpath(\"//span[@class='mc-header-scorebox__ist-time']\")\n",
    "        time.append(t.text)\n",
    "    except NoSuchElementException:\n",
    "        time.append('-')"
   ]
  },
  {
   "cell_type": "code",
   "execution_count": null,
   "id": "ff453e3d",
   "metadata": {},
   "outputs": [],
   "source": [
    "import pandas as pd"
   ]
  },
  {
   "cell_type": "code",
   "execution_count": null,
   "id": "3f7c38ed",
   "metadata": {},
   "outputs": [],
   "source": [
    "#DATA FRAMEING\n",
    "bcci=pd.DataFrame({})\n",
    "bcci['Match Title'] = title\n",
    "bcci['Series'] = series\n",
    "bcci['Place'] = place\n",
    "bcci['Date'] = date\n",
    "bcci['Time'] = time"
   ]
  },
  {
   "cell_type": "code",
   "execution_count": null,
   "id": "7f4c7e41",
   "metadata": {},
   "outputs": [],
   "source": [
    "bcci"
   ]
  },
  {
   "cell_type": "markdown",
   "id": "d85b40fd",
   "metadata": {},
   "source": [
    "# 3. Scrape the details of selenium exception from guru99.com.\n",
    "Url = https://www.guru99.com/\n",
    "You need to find following details:\n",
    "\n",
    "A) Name\n",
    "\n",
    "B) Description"
   ]
  },
  {
   "cell_type": "code",
   "execution_count": null,
   "id": "67ae2b44",
   "metadata": {},
   "outputs": [],
   "source": [
    "driver = webdriver.Chrome(\"chromedriver.exe\")"
   ]
  },
  {
   "cell_type": "code",
   "execution_count": null,
   "id": "c332be6c",
   "metadata": {},
   "outputs": [],
   "source": [
    "url = \"https://www.guru99.com/\"\n",
    "driver.get(url)"
   ]
  },
  {
   "cell_type": "code",
   "execution_count": null,
   "id": "9366dd43",
   "metadata": {},
   "outputs": [],
   "source": [
    "search = driver.find_element_by_xpath(\"/html/body/div[1]/div/div/div/main/div/article/div/div[1]/div[1]/div[2]/div/div[1]/div/div/div/form/table/tbody/tr/td[1]/div/table/tbody/tr/td[1]/input\")\n",
    "search.send_keys(\"selenium exception handling\")\n",
    "srch_btn = driver.find_element_by_xpath(\"/html/body/div[1]/div/div/div/main/div/article/div/div[1]/div[1]/div[2]/div/div[1]/div/div/div/form/table/tbody/tr/td[2]/button\").click()"
   ]
  },
  {
   "cell_type": "code",
   "execution_count": null,
   "id": "e76f9644",
   "metadata": {},
   "outputs": [],
   "source": [
    "name=[]\n",
    "description=[]"
   ]
  },
  {
   "cell_type": "code",
   "execution_count": null,
   "id": "b30b2f8b",
   "metadata": {},
   "outputs": [],
   "source": [
    "url = driver.find_element_by_xpath(\"//div[@class='gsc-expansionArea']//div//a\")\n",
    "pg_url = url.get_attribute(\"href\")\n",
    "\n",
    "driver.get(pg_url)\n",
    "\n",
    "time.sleep(5)\n",
    "\n",
    "#Scraping name\n",
    "for i in driver.find_elements_by_xpath(\"//table[@class='table table-striped']//tr//td[1]\")[1:]:\n",
    "    name.append(i.text)\n",
    "    \n",
    "#Scraping description  \n",
    "for i in driver.find_elements_by_xpath(\"//table[@class='table table-striped']//tr//td[2]\")[1:]:\n",
    "    description.append(i.text)"
   ]
  },
  {
   "cell_type": "code",
   "execution_count": null,
   "id": "cca6a423",
   "metadata": {},
   "outputs": [],
   "source": [
    "Guru=pd.DataFrame({})\n",
    "Guru['Exception Name'] = Name\n",
    "Guru['Description'] = Description"
   ]
  },
  {
   "cell_type": "code",
   "execution_count": null,
   "id": "f413a469",
   "metadata": {},
   "outputs": [],
   "source": [
    "Guru"
   ]
  },
  {
   "cell_type": "markdown",
   "id": "1ed93a55",
   "metadata": {},
   "source": [
    "# 4. Scrape the details of State-wise GDP of India from statisticstime.com.\n",
    "Url = http://statisticstimes.com/\n",
    "You have to find following details:\n",
    "\n",
    "A) Rank\n",
    "\n",
    "B) State\n",
    "\n",
    "C) GSDP(18-19)\n",
    "\n",
    "\n",
    "D) Share\n",
    "\n",
    "E) GDP\n"
   ]
  },
  {
   "cell_type": "code",
   "execution_count": null,
   "id": "5998e53c",
   "metadata": {},
   "outputs": [],
   "source": [
    "driver = webdriver.Chrome(\"chromedriver.exe\")"
   ]
  },
  {
   "cell_type": "code",
   "execution_count": null,
   "id": "6e7b47f6",
   "metadata": {},
   "outputs": [],
   "source": [
    "url = \"http://statisticstimes.com/\"\n",
    "driver.get(url)\n",
    "time.sleep(3)"
   ]
  },
  {
   "cell_type": "code",
   "execution_count": null,
   "id": "266c2b86",
   "metadata": {},
   "outputs": [],
   "source": [
    "ecnmy = driver.find_element_by_xpath(\"//div[@class='navbar']//div[2]//button\").click()"
   ]
  },
  {
   "cell_type": "code",
   "execution_count": null,
   "id": "6219f243",
   "metadata": {},
   "outputs": [],
   "source": [
    "urls = driver.find_element_by_xpath(\"//div[@class='dropdown-content']//a[3]\")\n",
    "in_pg = urls.get_attribute(\"href\")"
   ]
  },
  {
   "cell_type": "code",
   "execution_count": null,
   "id": "feb8704c",
   "metadata": {},
   "outputs": [],
   "source": [
    "driver.get(in_pg)  \n",
    "time.sleep(5)"
   ]
  },
  {
   "cell_type": "code",
   "execution_count": null,
   "id": "d14502c8",
   "metadata": {},
   "outputs": [],
   "source": [
    "#Creating empty list\n",
    "rank = []\n",
    "state = []\n",
    "gsdp_18 = []\n",
    "share = []\n",
    "gdp = []"
   ]
  },
  {
   "cell_type": "code",
   "execution_count": null,
   "id": "572cf47a",
   "metadata": {},
   "outputs": [],
   "source": [
    "st_gdp = driver.find_element_by_xpath(\"//ul[@style='list-style-type:none;margin-left:20px;']/li/a\")\n",
    "Gurl = st_gdp.get_attribute(\"href\")\n",
    "\n",
    "driver.get(Gurl)\n",
    "time.sleep(6)"
   ]
  },
  {
   "cell_type": "code",
   "execution_count": null,
   "id": "3556ee40",
   "metadata": {},
   "outputs": [],
   "source": [
    "#Scraping rank\n",
    "for i in driver.find_elements_by_xpath(\"//div[@id='table_id_wrapper']//tbody//tr//td[1]\"):\n",
    "    rank.append(i.text)"
   ]
  },
  {
   "cell_type": "code",
   "execution_count": null,
   "id": "7bfdcdc2",
   "metadata": {},
   "outputs": [],
   "source": [
    "#Scraping state name\n",
    "for i in driver.find_elements_by_xpath(\"//div[@id='table_id_wrapper']//tbody//tr//td[2]\"):\n",
    "    state.append(i.text)"
   ]
  },
  {
   "cell_type": "code",
   "execution_count": null,
   "id": "bcc4be87",
   "metadata": {},
   "outputs": [],
   "source": [
    "#Scraping GSDP \n",
    "for i in driver.find_elements_by_xpath(\"//div[@id='table_id_wrapper']//tbody//tr//td[4]\"):\n",
    "    gsdp_18.append(i.text)"
   ]
  },
  {
   "cell_type": "code",
   "execution_count": null,
   "id": "29ea38df",
   "metadata": {},
   "outputs": [],
   "source": [
    "for i in driver.find_elements_by_xpath(\"//div[@id='table_id_wrapper']//tbody//tr//td[5]\"):\n",
    "    share.append(i.text)"
   ]
  },
  {
   "cell_type": "code",
   "execution_count": null,
   "id": "1f4aa67b",
   "metadata": {},
   "outputs": [],
   "source": [
    "#Scraping data of GDP($ billion)\n",
    "for i in driver.find_elements_by_xpath(\"//div[@id='table_id_wrapper']//tbody//tr//td[6]\"):\n",
    "    gdp.append(i.text)"
   ]
  },
  {
   "cell_type": "code",
   "execution_count": null,
   "id": "b47fb00d",
   "metadata": {},
   "outputs": [],
   "source": [
    "ST=pd.DataFrame({})\n",
    "ST['Rank'] = rank\n",
    "ST['State'] = state\n",
    "ST['GSDP'] = gsdp_18\n",
    "ST['Share'] = share\n",
    "ST['GDP'] = gdp"
   ]
  },
  {
   "cell_type": "code",
   "execution_count": null,
   "id": "f853a61e",
   "metadata": {},
   "outputs": [],
   "source": [
    "ST"
   ]
  },
  {
   "cell_type": "markdown",
   "id": "1c1bf85b",
   "metadata": {},
   "source": [
    "# 5. Scrape the details of trending repositories on Github.com.\n",
    "Url = https://github.com/\n",
    "You have to find the following details:\n",
    "\n",
    "A) Repository title\n",
    "\n",
    "B) Repository description\n",
    "\n",
    "C) Contributors count\n",
    "\n",
    "D) Language used"
   ]
  },
  {
   "cell_type": "code",
   "execution_count": null,
   "id": "73a508ee",
   "metadata": {},
   "outputs": [],
   "source": [
    "driver = webdriver.Chrome(\"chromedriver.exe\")"
   ]
  },
  {
   "cell_type": "code",
   "execution_count": null,
   "id": "2b13d54c",
   "metadata": {},
   "outputs": [],
   "source": [
    "url = \"https://github.com/\"\n",
    "driver.get(url)\n",
    "time.sleep(3)"
   ]
  },
  {
   "cell_type": "code",
   "execution_count": null,
   "id": "907b079f",
   "metadata": {},
   "outputs": [],
   "source": [
    "#Getting explore button and clicking on it\n",
    "explore = driver.find_element_by_xpath(\"/html/body/div[1]/header/div/div[2]/nav/ul/li[4]/details\")\n",
    "explore.click()"
   ]
  },
  {
   "cell_type": "code",
   "execution_count": null,
   "id": "d6baea1e",
   "metadata": {},
   "outputs": [],
   "source": [
    "urls = []\n",
    "title = []\n",
    "description = []\n",
    "contributors = []\n",
    "language = []"
   ]
  },
  {
   "cell_type": "code",
   "execution_count": null,
   "id": "2d88196b",
   "metadata": {},
   "outputs": [],
   "source": [
    "repo = driver.find_elements_by_xpath(\"//h1[@class = 'h3 lh-condensed']//a\")\n",
    "for i in repo:\n",
    "    repo_urls.append(i.get_attribute(\"href\"))"
   ]
  },
  {
   "cell_type": "code",
   "execution_count": null,
   "id": "70c45b22",
   "metadata": {},
   "outputs": [],
   "source": [
    "#Scraping  title\n",
    "title = driver.find_elements_by_xpath(\"//h1[@class = 'h3 lh-condensed']\")\n",
    "for i in title:\n",
    "    rep_title.append(i.text)"
   ]
  },
  {
   "cell_type": "code",
   "execution_count": null,
   "id": "ffa4abd7",
   "metadata": {},
   "outputs": [],
   "source": [
    "for i in repo_urls:\n",
    "    driver.get(i)\n",
    "    time.sleep(3)\n",
    "    \n",
    "    #Scraping data of description\n",
    "    try:\n",
    "        desc = driver.find_element_by_xpath(\"//p[@class='f4 mt-3']\")\n",
    "        description.append(desc.text)\n",
    "    except NoSuchElementException:\n",
    "        description.append('-')\n",
    "        \n",
    "        \n",
    "    #Scraping contributors\n",
    "    try:\n",
    "        cont_tags = driver.find_element_by_xpath(\"//*[contains(text(),'    Contributors ')]\")\n",
    "        contributors.append(cont_tags.text.replace('contributors',''))\n",
    "    except NoSuchElementException:\n",
    "        contributors.append('-')\n",
    "\n",
    "    try:\n",
    "        for i in driver.find_elements_by_xpath(\"//span[@class='color-text-primary text-bold mr-1']\"):\n",
    "            lang.append(i.text)\n",
    "        Language.append(lang)\n",
    "    except NoSuchElementException:\n",
    "        Language.append('-')"
   ]
  },
  {
   "cell_type": "code",
   "execution_count": null,
   "id": "81b86272",
   "metadata": {},
   "outputs": [],
   "source": [
    "GH=pd.DataFrame({})\n",
    "GH['Repository Title'] = rep_title\n",
    "GH['Repository Description'] = description\n",
    "GH['Contributors Count'] = contributors\n",
    "GH['Language used'] = language"
   ]
  },
  {
   "cell_type": "code",
   "execution_count": null,
   "id": "d6fbcbec",
   "metadata": {},
   "outputs": [],
   "source": [
    "GH"
   ]
  },
  {
   "cell_type": "markdown",
   "id": "4cc527b9",
   "metadata": {},
   "source": [
    "# 6. Scrape the details of top 100 songs on billiboard.com.\n",
    "Url = https:/www.billboard.com/\n",
    "You have to find the following details:\n",
    "\n",
    "A) Song name\n",
    "\n",
    "B) Artist name\n",
    "\n",
    "C) Last week rank\n",
    "\n",
    "D) Peak rank\n",
    "\n",
    "E) Weeks on board"
   ]
  },
  {
   "cell_type": "code",
   "execution_count": null,
   "id": "f358a94d",
   "metadata": {},
   "outputs": [],
   "source": [
    "driver = webdriver.Chrome(\"chromedriver.exe\")"
   ]
  },
  {
   "cell_type": "code",
   "execution_count": null,
   "id": "ae3baccb",
   "metadata": {},
   "outputs": [],
   "source": [
    "url = \"https://www.billboard.com/\"\n",
    "driver.get(url)\n",
    "time.sleep(3)"
   ]
  },
  {
   "cell_type": "code",
   "execution_count": null,
   "id": "e5e41070",
   "metadata": {},
   "outputs": [],
   "source": [
    " #Clicking on charts\n",
    "charts=driver.find_element_by_xpath(\"/html/body/div[2]/div[2]/div[2]/header/div/ul/li[1]\")\n",
    "charts.click()"
   ]
  },
  {
   "cell_type": "code",
   "execution_count": null,
   "id": "51f9d541",
   "metadata": {},
   "outputs": [],
   "source": [
    "name = []\n",
    "artist = []\n",
    "last_week_rank = []\n",
    "peak_rank = []\n",
    "weeks_on_board = []"
   ]
  },
  {
   "cell_type": "code",
   "execution_count": null,
   "id": "3f81a962",
   "metadata": {},
   "outputs": [],
   "source": [
    "urls = driver.find_element_by_xpath(\"//div[@class='charts-landing first-group']//div//a\")\n",
    "pg_url = urls.get_attribute(\"href\")\n",
    "driver.get(pg_url)\n",
    "time.sleep(3)\n",
    "\n",
    "#Scraping  song names\n",
    "for i in driver.find_elements_by_xpath(\"//span[@class='chart-element__information__song text--truncate color--primary']\"):\n",
    "    name.append(i.text)\n",
    "\n",
    "    \n",
    "#Scraping artist's name\n",
    "for i in driver.find_elements_by_xpath(\"//span[@class='chart-element__information__artist text--truncate color--secondary']\"):\n",
    "    artist.append(i.text)\n",
    "\n",
    "    \n",
    "#Scraping last week ranks\n",
    "for i in driver.find_elements_by_xpath(\"//div[@class='chart-element__meta text--center color--secondary text--last']\"):\n",
    "    last_week_rank.append(i.text)\n",
    "\n",
    "    \n",
    "#Scraping peak rank\n",
    "for i in driver.find_elements_by_xpath(\"//div[@class='chart-element__meta text--center color--secondary text--peak']\"):\n",
    "    peak_rank.append(i.text)\n",
    "\n",
    "for i in driver.find_elements_by_xpath(\"//div[@class='chart-element__meta text--center color--secondary text--week']\"):\n",
    "    weeks_on_board.append(i.text)"
   ]
  },
  {
   "cell_type": "code",
   "execution_count": null,
   "id": "c69a4f49",
   "metadata": {},
   "outputs": [],
   "source": [
    "BB=pd.DataFrame({})\n",
    "BB['Name'] = Name\n",
    "BB['Artist'] = Artist\n",
    "BB['Last week rank'] = Last_week_rank\n",
    "BB['Peak rank'] = Peak_rank\n",
    "BB['Weeks on board'] = Weeks_on_board"
   ]
  },
  {
   "cell_type": "code",
   "execution_count": null,
   "id": "88e90f78",
   "metadata": {},
   "outputs": [],
   "source": [
    "BB"
   ]
  },
  {
   "cell_type": "markdown",
   "id": "860735cb",
   "metadata": {},
   "source": [
    "# 7. Scrape the details of Data science recruiters from naukri.com.\n",
    "Url = https://www.naukri.com/\n",
    "You have to find the following details:\n",
    "    \n",
    "A) Name\n",
    "\n",
    "B) Designation\n",
    "\n",
    "C) Company\n",
    "\n",
    "D) Skills they hire for\n",
    "\n",
    "E) Location"
   ]
  },
  {
   "cell_type": "code",
   "execution_count": null,
   "id": "1a5ff803",
   "metadata": {},
   "outputs": [],
   "source": [
    "driver = webdriver.Chrome(\"chromedriver.exe\")"
   ]
  },
  {
   "cell_type": "code",
   "execution_count": null,
   "id": "4b81fdf0",
   "metadata": {},
   "outputs": [],
   "source": [
    "url = \"https://www.naukri.com/\"\n",
    "driver.get(url)\n",
    "time.sleep(3)"
   ]
  },
  {
   "cell_type": "code",
   "execution_count": null,
   "id": "61d9794a",
   "metadata": {},
   "outputs": [],
   "source": [
    "#Fetching urls for recruiter page\n",
    "rec = driver.find_element_by_xpath(\"//a[@title='Search Recruiters']\")\n",
    "pg_url = rec.get_attribute(\"href\")\n",
    "\n",
    "driver.get(pg_url)\n",
    "time.sleep(3)"
   ]
  },
  {
   "cell_type": "code",
   "execution_count": null,
   "id": "46423e4d",
   "metadata": {},
   "outputs": [],
   "source": [
    "search = driver.find_element_by_xpath(\"//div[@class='inpWrap']//input\") \n",
    "search.send_keys(\"Data science \")           \n",
    "but = driver.find_element_by_xpath(\"//button[@class='fl qsbSrch blueBtn']\").click()     \n",
    "time.sleep(4)"
   ]
  },
  {
   "cell_type": "code",
   "execution_count": null,
   "id": "8196c99e",
   "metadata": {},
   "outputs": [],
   "source": [
    "#Creating empty list\n",
    "name = []\n",
    "designation = []\n",
    "company = []\n",
    "skills = []\n",
    "location = []"
   ]
  },
  {
   "cell_type": "code",
   "execution_count": null,
   "id": "0decbd70",
   "metadata": {},
   "outputs": [],
   "source": [
    "#Scraping names\n",
    "for i in driver.find_elements_by_xpath(\"//span[@class='fl ellipsis']\")[:50]:\n",
    "    Name.append(i.text)\n",
    "time.sleep()"
   ]
  },
  {
   "cell_type": "code",
   "execution_count": null,
   "id": "29dcb80a",
   "metadata": {},
   "outputs": [],
   "source": [
    "#Scraping designation\n",
    "for i in driver.find_elements_by_xpath(\"//span[@class='ellipsis clr']\")[:50]:\n",
    "    designation.append(i.text)\n",
    "time.sleep(5)"
   ]
  },
  {
   "cell_type": "code",
   "execution_count": null,
   "id": "f913871a",
   "metadata": {},
   "outputs": [],
   "source": [
    "#Scraping company name\n",
    "for i in driver.find_elements_by_xpath(\"//div[@class='vcard']//p[1]/a[2]\")[:50]:\n",
    "    company.append(i.text)\n",
    "time.sleep(5)"
   ]
  },
  {
   "cell_type": "code",
   "execution_count": null,
   "id": "50b3e561",
   "metadata": {},
   "outputs": [],
   "source": [
    "#scraping Skills \n",
    "for i in driver.find_elements_by_xpath(\"//div[@class='hireSec highlightable']\")[:50]:\n",
    "    try:\n",
    "        if i.text == \"Not Specified\": raise NoSuchElementException\n",
    "        Skills.append(i.text)\n",
    "    except NoSuchElementException:\n",
    "        Skills.append('-')\n",
    "    time.sleep()"
   ]
  },
  {
   "cell_type": "code",
   "execution_count": null,
   "id": "d9fc1fad",
   "metadata": {},
   "outputs": [],
   "source": [
    "#Scraping  locations\n",
    "for i in driver.find_elements_by_xpath(\"//div[@class='vcard']//p[1]//span\")[:50]:\n",
    "    Location.append(i.text)\n",
    "time.sleep(5)"
   ]
  },
  {
   "cell_type": "code",
   "execution_count": null,
   "id": "66955572",
   "metadata": {},
   "outputs": [],
   "source": [
    "nk=pd.DataFrame({})\n",
    "nk['Name'] = name\n",
    "nk['Designation'] = designation\n",
    "nk['Company'] = company\n",
    "nk['Skills'] = skills\n",
    "nk['Location'] = location"
   ]
  },
  {
   "cell_type": "code",
   "execution_count": null,
   "id": "7e6f8034",
   "metadata": {},
   "outputs": [],
   "source": [
    "nk"
   ]
  },
  {
   "cell_type": "markdown",
   "id": "6e9f2fb0",
   "metadata": {},
   "source": [
    "# 8. Scrape the details of Highest selling novels.\n",
    "Url = https://www.theguardian.com/news/datablog/2012/aug/09/best-selling-books-all-time-fifty-shades-grey\u0002compare/\n",
    "You have to find the following details:\n",
    "\n",
    "A) Book name\n",
    "\n",
    "B) Author name\n",
    "\n",
    "C) Volumes sold\n",
    "\n",
    "D) Publisher\n",
    "\n",
    "E) Genre"
   ]
  },
  {
   "cell_type": "code",
   "execution_count": null,
   "id": "71ee236a",
   "metadata": {},
   "outputs": [],
   "source": [
    "driver = webdriver.Chrome(\"chromedriver.exe\")"
   ]
  },
  {
   "cell_type": "code",
   "execution_count": null,
   "id": "8c392682",
   "metadata": {},
   "outputs": [],
   "source": [
    "url = \"https://www.theguardian.com/news/datablog/2012/aug/09/best-selling-books-all-time-fifty-shades-grey-compare/\"\n",
    "driver.get(url)\n",
    "time.sleep(3)"
   ]
  },
  {
   "cell_type": "code",
   "execution_count": null,
   "id": "e657581c",
   "metadata": {},
   "outputs": [],
   "source": [
    "name = []\n",
    "author = []\n",
    "volumes_sold = []\n",
    "publisher = []\n",
    "genre = []"
   ]
  },
  {
   "cell_type": "code",
   "execution_count": null,
   "id": "648136a8",
   "metadata": {},
   "outputs": [],
   "source": [
    "#scraping book names\n",
    "for i in driver.find_elements_by_xpath(\"//tbody//tr/td[2]\"):\n",
    "    name.append(i.text)"
   ]
  },
  {
   "cell_type": "code",
   "execution_count": null,
   "id": "5a922821",
   "metadata": {},
   "outputs": [],
   "source": [
    "#Scraping author names\n",
    "for i in driver.find_elements_by_xpath(\"//tbody/tr/td[3]\"):\n",
    "    try:\n",
    "        if i.text == '0' : raise NoSuchElementException\n",
    "        author.append(i.text)\n",
    "    except NoSuchElementException:\n",
    "        author.append('-')\n",
    "time.sleep(1)"
   ]
  },
  {
   "cell_type": "code",
   "execution_count": null,
   "id": "a2b5b749",
   "metadata": {},
   "outputs": [],
   "source": [
    "#Scraping volumes sold\n",
    "for i in driver.find_elements_by_xpath(\"//tbody/tr/td[4]\"):\n",
    "    volumes_sold.append(i.text)"
   ]
  },
  {
   "cell_type": "code",
   "execution_count": null,
   "id": "7a743be2",
   "metadata": {},
   "outputs": [],
   "source": [
    "#Scraping data of publisher names\n",
    "for i in driver.find_elements_by_xpath(\"//tbody/tr/td[5]\"):\n",
    "    publisher.append(i.text)"
   ]
  },
  {
   "cell_type": "code",
   "execution_count": null,
   "id": "db62c2e4",
   "metadata": {},
   "outputs": [],
   "source": [
    "#Scraping genre\n",
    "for i in driver.find_elements_by_xpath(\"//tbody/tr/td[6]\"):\n",
    "    genre.append(i.text)"
   ]
  },
  {
   "cell_type": "code",
   "execution_count": null,
   "id": "67a6fa0b",
   "metadata": {},
   "outputs": [],
   "source": [
    "novel=pd.DataFrame({})\n",
    "novel['Book Name'] = name\n",
    "novel['Author'] = author\n",
    "novel['Volume sold'] = volumes_sold\n",
    "novel['Publisher'] = publisher\n",
    "novel['Genre'] = genre"
   ]
  },
  {
   "cell_type": "code",
   "execution_count": null,
   "id": "5248ab7c",
   "metadata": {},
   "outputs": [],
   "source": [
    "novel"
   ]
  },
  {
   "cell_type": "markdown",
   "id": "09aaa27a",
   "metadata": {},
   "source": [
    "# 9. Scrape the details most watched tv series of all time from imdb.com.\n",
    "Url = https://www.imdb.com/list/ls095964455/\n",
    "You have to find the following details:\n",
    "\n",
    "A) Name\n",
    "\n",
    "B) Year span\n",
    "\n",
    "C) Genre\n",
    "\n",
    "D) Run time\n",
    "\n",
    "E) Ratings\n",
    "\n",
    "F) Votes"
   ]
  },
  {
   "cell_type": "code",
   "execution_count": null,
   "id": "c458fb75",
   "metadata": {},
   "outputs": [],
   "source": [
    "driver = webdriver.Chrome(\"chromedriver.exe\")"
   ]
  },
  {
   "cell_type": "code",
   "execution_count": null,
   "id": "e0202b49",
   "metadata": {},
   "outputs": [],
   "source": [
    "url = \"https://www.imdb.com/list/ls095964455/\"\n",
    "driver.get(url)\n",
    "time.sleep(3)"
   ]
  },
  {
   "cell_type": "code",
   "execution_count": null,
   "id": "8f1a89a9",
   "metadata": {},
   "outputs": [],
   "source": [
    "name = []\n",
    "year_span = []\n",
    "genre = []\n",
    "run_time = []\n",
    "ratings = []\n",
    "votes = []"
   ]
  },
  {
   "cell_type": "code",
   "execution_count": null,
   "id": "cbfc08fd",
   "metadata": {},
   "outputs": [],
   "source": [
    "#Scraping names\n",
    "for i in driver.find_elements_by_xpath(\"//h3[@class='lister-item-header']/a\"):\n",
    "    name.append(i.text)"
   ]
  },
  {
   "cell_type": "code",
   "execution_count": null,
   "id": "ad3a0c36",
   "metadata": {},
   "outputs": [],
   "source": [
    "#Scraping Year span\n",
    "for i in driver.find_elements_by_xpath(\"//span[@class='lister-item-year text-muted unbold']\"):\n",
    "    year_span.append(i.text)"
   ]
  },
  {
   "cell_type": "code",
   "execution_count": null,
   "id": "19fa16c2",
   "metadata": {},
   "outputs": [],
   "source": [
    "#Scraping data of genre\n",
    "for i in driver.find_elements_by_xpath(\"//span[@class='genre']\"):\n",
    "    genre.append(i.text)"
   ]
  },
  {
   "cell_type": "code",
   "execution_count": null,
   "id": "1b2cb26a",
   "metadata": {},
   "outputs": [],
   "source": [
    "#Scraping run time\n",
    "for i in driver.find_elements_by_xpath(\"//span[@class='runtime']\"):\n",
    "    run_time.append(i.text)"
   ]
  },
  {
   "cell_type": "code",
   "execution_count": null,
   "id": "4def7e15",
   "metadata": {},
   "outputs": [],
   "source": [
    "#Scraping ratings\n",
    "for i in driver.find_elements_by_xpath(\"//div[@class='ipl-rating-star small']//span[2]\"):\n",
    "    ratings.append(i.text)"
   ]
  },
  {
   "cell_type": "code",
   "execution_count": null,
   "id": "32371014",
   "metadata": {},
   "outputs": [],
   "source": [
    "#Scraping votes\n",
    "for i in driver.find_elements_by_xpath(\"//div[@class='lister-item-content']//p[4]/span[2]\"):\n",
    "    votes.append(i.text)"
   ]
  },
  {
   "cell_type": "code",
   "execution_count": null,
   "id": "db398022",
   "metadata": {},
   "outputs": [],
   "source": [
    "imdb['Name'] = name\n",
    "imdb['Year Span'] = year_span\n",
    "imdb['Genre'] = genre\n",
    "imdb['Run Time'] = run_time\n",
    "imdb['Ratings'] = ratings\n",
    "imdb['Votes'] = votes"
   ]
  },
  {
   "cell_type": "code",
   "execution_count": null,
   "id": "7c4d4a23",
   "metadata": {},
   "outputs": [],
   "source": [
    "imdb"
   ]
  },
  {
   "cell_type": "markdown",
   "id": "db6139c7",
   "metadata": {},
   "source": [
    "# 10. Details of Datasets from UCI machine learning repositories.\n",
    "Url = https://archive.ics.uci.edu/\n",
    "You have to find the following details:\n",
    "\n",
    "A) Dataset name\n",
    "\n",
    "B) Data type\n",
    "\n",
    "C) Task\n",
    "\n",
    "D) Attribute type\n",
    "\n",
    "E) No of instances\n",
    "\n",
    "F) No of attribute\n",
    "\n",
    "G) Year"
   ]
  },
  {
   "cell_type": "code",
   "execution_count": null,
   "id": "d2edfb45",
   "metadata": {},
   "outputs": [],
   "source": [
    "driver = webdriver.Chrome(\"chromedriver.exe\")"
   ]
  },
  {
   "cell_type": "code",
   "execution_count": null,
   "id": "b6b78eba",
   "metadata": {},
   "outputs": [],
   "source": [
    "url = \"https://archive.ics.uci.edu/\"\n",
    "driver.get(url)\n",
    "time.sleep(3)"
   ]
  },
  {
   "cell_type": "code",
   "execution_count": null,
   "id": "ad3d6587",
   "metadata": {},
   "outputs": [],
   "source": [
    "view = driver.find_element_by_xpath(\"//tbody[1]//tr/td[2]/span[2]/a\")    \n",
    "pg_url = view_dataset.get_attribute(\"href\")\n",
    "driver.get(page_url)\n",
    "time.sleep(3)"
   ]
  },
  {
   "cell_type": "code",
   "execution_count": null,
   "id": "4226d69c",
   "metadata": {},
   "outputs": [],
   "source": [
    "all = driver.find_element_by_xpath(\"/html/body/table[2]/tbody/tr/td[2]/table[1]/tbody/tr/td[2]/p/a\")  \n",
    "lst_url = all_lst.get_attribute(\"href\")           \n",
    "driver.get(lst_url)\n",
    "time.sleep(3)"
   ]
  },
  {
   "cell_type": "code",
   "execution_count": null,
   "id": "0d078536",
   "metadata": {},
   "outputs": [],
   "source": [
    "data_url = driver.find_elements_by_xpath(\"//p[@class='normal']//b/a\")    \n",
    "\n",
    "urls = []     \n",
    "for i in data_url:\n",
    "    urls.append(i.get_attribute(\"href\"))"
   ]
  },
  {
   "cell_type": "code",
   "execution_count": null,
   "id": "73c34cb3",
   "metadata": {},
   "outputs": [],
   "source": [
    "name = []\n",
    "type = []\n",
    "task = []\n",
    "attr_type = []\n",
    "instances = []\n",
    "n_attributes = []\n",
    "year = []"
   ]
  },
  {
   "cell_type": "code",
   "execution_count": null,
   "id": "3484143c",
   "metadata": {},
   "outputs": [],
   "source": [
    "#Scraping requiredinfo from urls\n",
    "for i in urls:\n",
    "    driver.get(i)\n",
    "    time.sleep(3)\n",
    "    \n",
    "    \n",
    "    #Scraping Dataset name\n",
    "    try: \n",
    "        ds_name = driver.find_element_by_xpath(\"//span[@class='heading']\")\n",
    "        Data_name.append(ds_name.text)\n",
    "    except NoSuchElementException:\n",
    "        Data_name.append('-')\n",
    "    time.sleep(1)\n",
    "    \n",
    "    \n",
    "    #Scraping data type\n",
    "    try:\n",
    "        dtype = driver.find_element_by_xpath(\"//table[@border='1']//tbody/tr/td[2]\")\n",
    "        if dtype.text == \"N/A\": raise NoSuchElementException\n",
    "        Data_type.append(dtype.text)\n",
    "    except NoSuchElementException:\n",
    "        Data_type.append('-')\n",
    "    time.sleep(1)\n",
    "    \n",
    "    \n",
    "    #Scraping Attribute type\n",
    "    try:\n",
    "        atype = driver.find_element_by_xpath(\"//table[@border='1']//tbody/tr[2]/td[2]\")\n",
    "        if atype.text == \"N/A\": raise NoSuchElementException\n",
    "        Attr_type.append(atype.text)\n",
    "    except NoSuchElementException:\n",
    "        Attr_type.append('-')\n",
    "    time.sleep(1)\n",
    "    \n",
    "    \n",
    "    #scraping Task\n",
    "    try:\n",
    "        task = driver.find_element_by_xpath(\"//table[@border='1']//tbody/tr[3]/td[2]\")\n",
    "        if task.text == \"N/A\": raise NoSuchElementException\n",
    "        Task.append(task.text)\n",
    "    except NoSuchElementException:\n",
    "        Task.append('-')\n",
    "    time.sleep(1)\n",
    "    \n",
    "    \n",
    "    #Scraping No of instances\n",
    "    try:\n",
    "        inst = driver.find_element_by_xpath(\"//table[@border='1']//tbody/tr/td[4]\")\n",
    "        if inst.text == \"N/A\": raise NoSuchElementException\n",
    "        Instances.append(inst.text)\n",
    "    except NoSuchElementException:\n",
    "        Instances.append('-')\n",
    "    time.sleep(1)\n",
    "    \n",
    "    \n",
    "    #Scraping  No of attribute\n",
    "    try:\n",
    "        attr = driver.find_element_by_xpath(\"//table[@border='1']//tbody/tr[2]/td[4]\")\n",
    "        if attr.text == \"N/A\": raise NoSuchElementException\n",
    "        n_attributes.append(attr.text)\n",
    "    except NoSuchElementException:\n",
    "        n_attributes.append('-')\n",
    "    time.sleep(1)\n",
    "    \n",
    "    \n",
    "    #scraping year\n",
    "    try:\n",
    "        year = driver.find_element_by_xpath(\"//table[@border='1']//tbody/tr[2]/td[6]\")\n",
    "        if year.text == \"N/A\": raise NoSuchElementException\n",
    "        Year.append(year.text[:4])\n",
    "    except NoSuchElementException:\n",
    "        Year.append('-')\n",
    "    time.sleep(1)"
   ]
  },
  {
   "cell_type": "code",
   "execution_count": null,
   "id": "1ab76610",
   "metadata": {},
   "outputs": [],
   "source": [
    "uci=pd.DataFrame({})\n",
    "uci['Data Name'] = name\n",
    "uci['Data Type'] = type\n",
    "uci['Task'] = task\n",
    "uci['Attribute type'] = attr_type\n",
    "uci['No of instance'] = instances\n",
    "uci['No of attributes'] = n_attributes\n",
    "uci['Year'] = year"
   ]
  },
  {
   "cell_type": "code",
   "execution_count": null,
   "id": "a19fd781",
   "metadata": {},
   "outputs": [],
   "source": [
    "uci"
   ]
  },
  {
   "cell_type": "code",
   "execution_count": null,
   "id": "ad2cdf81",
   "metadata": {},
   "outputs": [],
   "source": []
  }
 ],
 "metadata": {
  "kernelspec": {
   "display_name": "Python 3 (ipykernel)",
   "language": "python",
   "name": "python3"
  },
  "language_info": {
   "codemirror_mode": {
    "name": "ipython",
    "version": 3
   },
   "file_extension": ".py",
   "mimetype": "text/x-python",
   "name": "python",
   "nbconvert_exporter": "python",
   "pygments_lexer": "ipython3",
   "version": "3.9.7"
  }
 },
 "nbformat": 4,
 "nbformat_minor": 5
}
