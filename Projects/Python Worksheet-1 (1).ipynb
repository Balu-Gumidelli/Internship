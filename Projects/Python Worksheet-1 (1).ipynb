{
 "cells": [
  {
   "cell_type": "markdown",
   "id": "1a3c881d",
   "metadata": {},
   "source": [
    "# 11. Write a python program to find factorial of a number."
   ]
  },
  {
   "cell_type": "code",
   "execution_count": 1,
   "id": "f550d32e",
   "metadata": {},
   "outputs": [
    {
     "name": "stdout",
     "output_type": "stream",
     "text": [
      "Enter any Number:6\n",
      "Factorial of given number is 720\n"
     ]
    }
   ],
   "source": [
    "num=int(input(\"Enter any Number:\"))\n",
    "fact=1\n",
    "for i in range(1,num+1):\n",
    "    fact=fact*i\n",
    "print(\"Factorial of given number is\",fact)"
   ]
  },
  {
   "cell_type": "markdown",
   "id": "443ecbb7",
   "metadata": {},
   "source": [
    "# 12.Write python program to find whether a number is prime or composite."
   ]
  },
  {
   "cell_type": "code",
   "execution_count": 2,
   "id": "4d4caf0c",
   "metadata": {},
   "outputs": [
    {
     "name": "stdout",
     "output_type": "stream",
     "text": [
      "Enter any Number : 11\n",
      "Given number is  a prime number \n"
     ]
    }
   ],
   "source": [
    "x=int(input('Enter any Number : '))\n",
    "if x==0 or x==1:\n",
    "    print(\"Given number is neither composite nor prime\")\n",
    "else:\n",
    "    for i in range(2,x):\n",
    "        if(x % i ==0):\n",
    "            print(\"Given number is a composite number\")\n",
    "            break\n",
    "    else:\n",
    "        print(\"Given number is  a prime number \")"
   ]
  },
  {
   "cell_type": "markdown",
   "id": "3ac97ac8",
   "metadata": {},
   "source": [
    "# 13.Write a python program to check whether a given string is palindrome or not."
   ]
  },
  {
   "cell_type": "code",
   "execution_count": 3,
   "id": "2345eb2f",
   "metadata": {},
   "outputs": [
    {
     "name": "stdout",
     "output_type": "stream",
     "text": [
      "Enter a String : noon\n",
      "Given string is a palindrome\n"
     ]
    }
   ],
   "source": [
    "y=input(\"Enter a String : \")\n",
    "z=y[::-1]\n",
    "if y==z:\n",
    "    print(\"Given string is a palindrome\")\n",
    "else:\n",
    "    print(\"Given string is not a palindrome\")"
   ]
  },
  {
   "cell_type": "markdown",
   "id": "948ce20b",
   "metadata": {},
   "source": [
    "# 14.Write a Python program to get the third side of right-angled triangle from two given sides."
   ]
  },
  {
   "cell_type": "code",
   "execution_count": 4,
   "id": "fca3ad76",
   "metadata": {},
   "outputs": [
    {
     "name": "stdout",
     "output_type": "stream",
     "text": [
      "Enter opposite side of triangle:23\n",
      "Enter adjacent side of triangle:12\n",
      "The Third side of the triangle is 25.942243542145693\n"
     ]
    }
   ],
   "source": [
    "import math\n",
    "a=int(input(\"Enter opposite side of triangle:\"))\n",
    "b=int(input(\"Enter adjacent side of triangle:\"))\n",
    "c=math.sqrt(a**2 + b**2)\n",
    "print(\"The Third side of the triangle is\",c)"
   ]
  },
  {
   "cell_type": "markdown",
   "id": "ce674b29",
   "metadata": {},
   "source": [
    "# 15.Write a python program to print frequency of each of the characters present in a given string."
   ]
  },
  {
   "cell_type": "code",
   "execution_count": 5,
   "id": "29764b1f",
   "metadata": {},
   "outputs": [
    {
     "name": "stdout",
     "output_type": "stream",
     "text": [
      "Enter the string: datascience\n",
      "{'d': 1, 'a': 2, 't': 1, 's': 1, 'c': 2, 'i': 1, 'e': 2, 'n': 1}\n"
     ]
    }
   ],
   "source": [
    "x = input (\"Enter the string: \")\n",
    "d = dict()\n",
    "for i in x:\n",
    "    if i in d:\n",
    "        d[i] = d[i] + 1\n",
    "    else:\n",
    "        d[i] = 1\n",
    "print(d)"
   ]
  },
  {
   "cell_type": "code",
   "execution_count": null,
   "id": "aa817499",
   "metadata": {},
   "outputs": [],
   "source": []
  }
 ],
 "metadata": {
  "kernelspec": {
   "display_name": "Python 3 (ipykernel)",
   "language": "python",
   "name": "python3"
  },
  "language_info": {
   "codemirror_mode": {
    "name": "ipython",
    "version": 3
   },
   "file_extension": ".py",
   "mimetype": "text/x-python",
   "name": "python",
   "nbconvert_exporter": "python",
   "pygments_lexer": "ipython3",
   "version": "3.9.7"
  }
 },
 "nbformat": 4,
 "nbformat_minor": 5
}
