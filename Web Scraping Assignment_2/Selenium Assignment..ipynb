{
 "cells": [
  {
   "cell_type": "markdown",
   "id": "4b2e8ab7",
   "metadata": {},
   "source": [
    "# Q1: Write a python program to scrape data for “Data Analyst” Job position in “Bangalore” location. You have to scrape the job-title, job-location, company_name, experience_required. You have to scrape first 10 jobs data.\n",
    "\n",
    "This task will be done in following steps:\n",
    "    \n",
    "1. First get the webpage https://www.naukri.com/\n",
    "    \n",
    "2. Enter “Data Analyst” in “Skill, Designations, Companies” field and enter “Bangalore” in “enter the\n",
    "location” field.\n",
    "\n",
    "3. Then click the search button.\n",
    "\n",
    "4. Then scrape the data for the first 10 jobs results you get.\n",
    "\n",
    "5. Finally create a dataframe of the scraped data.\n",
    "\n"
   ]
  },
  {
   "cell_type": "code",
   "execution_count": 1,
   "id": "57518ef7",
   "metadata": {},
   "outputs": [
    {
     "name": "stdout",
     "output_type": "stream",
     "text": [
      "Requirement already satisfied: selenium in c:\\users\\balub\\anaconda3\\lib\\site-packages (4.1.3)\n",
      "Requirement already satisfied: trio~=0.17 in c:\\users\\balub\\anaconda3\\lib\\site-packages (from selenium) (0.20.0)\n",
      "Requirement already satisfied: trio-websocket~=0.9 in c:\\users\\balub\\anaconda3\\lib\\site-packages (from selenium) (0.9.2)\n",
      "Requirement already satisfied: urllib3[secure,socks]~=1.26 in c:\\users\\balub\\anaconda3\\lib\\site-packages (from selenium) (1.26.7)\n",
      "Requirement already satisfied: sortedcontainers in c:\\users\\balub\\anaconda3\\lib\\site-packages (from trio~=0.17->selenium) (2.4.0)\n",
      "Requirement already satisfied: sniffio in c:\\users\\balub\\anaconda3\\lib\\site-packages (from trio~=0.17->selenium) (1.2.0)\n",
      "Requirement already satisfied: async-generator>=1.9 in c:\\users\\balub\\anaconda3\\lib\\site-packages (from trio~=0.17->selenium) (1.10)\n",
      "Requirement already satisfied: idna in c:\\users\\balub\\anaconda3\\lib\\site-packages (from trio~=0.17->selenium) (3.2)\n",
      "Requirement already satisfied: cffi>=1.14 in c:\\users\\balub\\anaconda3\\lib\\site-packages (from trio~=0.17->selenium) (1.14.6)\n",
      "Requirement already satisfied: outcome in c:\\users\\balub\\anaconda3\\lib\\site-packages (from trio~=0.17->selenium) (1.1.0)\n",
      "Requirement already satisfied: attrs>=19.2.0 in c:\\users\\balub\\anaconda3\\lib\\site-packages (from trio~=0.17->selenium) (21.2.0)\n",
      "Requirement already satisfied: pycparser in c:\\users\\balub\\anaconda3\\lib\\site-packages (from cffi>=1.14->trio~=0.17->selenium) (2.20)\n",
      "Requirement already satisfied: wsproto>=0.14 in c:\\users\\balub\\anaconda3\\lib\\site-packages (from trio-websocket~=0.9->selenium) (1.1.0)\n",
      "Requirement already satisfied: pyOpenSSL>=0.14 in c:\\users\\balub\\anaconda3\\lib\\site-packages (from urllib3[secure,socks]~=1.26->selenium) (21.0.0)\n",
      "Requirement already satisfied: cryptography>=1.3.4 in c:\\users\\balub\\anaconda3\\lib\\site-packages (from urllib3[secure,socks]~=1.26->selenium) (3.4.8)\n",
      "Requirement already satisfied: certifi in c:\\users\\balub\\anaconda3\\lib\\site-packages (from urllib3[secure,socks]~=1.26->selenium) (2021.10.8)\n",
      "Requirement already satisfied: PySocks!=1.5.7,<2.0,>=1.5.6 in c:\\users\\balub\\anaconda3\\lib\\site-packages (from urllib3[secure,socks]~=1.26->selenium) (1.7.1)\n",
      "Requirement already satisfied: six>=1.5.2 in c:\\users\\balub\\anaconda3\\lib\\site-packages (from pyOpenSSL>=0.14->urllib3[secure,socks]~=1.26->selenium) (1.16.0)\n",
      "Requirement already satisfied: h11<1,>=0.9.0 in c:\\users\\balub\\anaconda3\\lib\\site-packages (from wsproto>=0.14->trio-websocket~=0.9->selenium) (0.13.0)\n"
     ]
    }
   ],
   "source": [
    "!pip install selenium"
   ]
  },
  {
   "cell_type": "code",
   "execution_count": 2,
   "id": "7b17ae8a",
   "metadata": {},
   "outputs": [],
   "source": [
    "import selenium\n",
    "import pandas as pd\n",
    "from selenium import webdriver\n",
    "import warnings\n",
    "warnings.filterwarnings(\"ignore\")\n",
    "import time"
   ]
  },
  {
   "cell_type": "code",
   "execution_count": 88,
   "id": "621ff6f4",
   "metadata": {},
   "outputs": [],
   "source": [
    "driver=webdriver.Chrome(r\"C:\\Users\\balub\\Downloads\\chromedriver_win32\\chromedriver.exe\")"
   ]
  },
  {
   "cell_type": "code",
   "execution_count": 134,
   "id": "d7a423e8",
   "metadata": {},
   "outputs": [],
   "source": [
    "driver=webdriver.Chrome(\"chromedriver.exe\")"
   ]
  },
  {
   "cell_type": "code",
   "execution_count": 135,
   "id": "d923388a",
   "metadata": {},
   "outputs": [],
   "source": [
    "driver.get(\"https://www.naukri.com/\")"
   ]
  },
  {
   "cell_type": "code",
   "execution_count": 136,
   "id": "9be7ea2c",
   "metadata": {},
   "outputs": [],
   "source": [
    "designation=driver.find_element_by_class_name(\"suggestor-input\")\n",
    "designation.send_keys(\"Data Analyst\")\n",
    "location=driver.find_element_by_xpath(\"/html/body/div/div[2]/div[3]/div/div/div[3]/div/div/div/input\")\n",
    "location.send_keys(\"Bangalore\")\n",
    "search=driver.find_element_by_xpath(\"/html/body/div/div[2]/div[3]/div/div/div[6]\")\n",
    "search.click()\n"
   ]
  },
  {
   "cell_type": "code",
   "execution_count": 137,
   "id": "57a7f0f7",
   "metadata": {},
   "outputs": [],
   "source": [
    "url=\"https://www.naukri.com/data-analyst-jobs-in-bangalore?k=data%20analyst&l=bangalore\"\n",
    "driver.get(url)"
   ]
  },
  {
   "cell_type": "code",
   "execution_count": 138,
   "id": "3b19f62d",
   "metadata": {},
   "outputs": [],
   "source": [
    "job_title=[]\n",
    "company_names=[]\n",
    "experience_list=[]\n",
    "location_list=[]"
   ]
  },
  {
   "cell_type": "code",
   "execution_count": 139,
   "id": "38cfe663",
   "metadata": {},
   "outputs": [
    {
     "data": {
      "text/plain": [
       "['Senior Data Analyst/ Business Analyst',\n",
       " 'Sr Domain Expert -Data Analysts',\n",
       " 'Senior Data Analyst',\n",
       " 'Senior Data Analyst',\n",
       " 'Senior Data Analyst',\n",
       " 'Senior Data Analyst (Digital Services Analytics)',\n",
       " 'Senior Data Analyst',\n",
       " 'Data Analyst',\n",
       " 'Data Analyst',\n",
       " 'Data Analyst - Platform & Security']"
      ]
     },
     "execution_count": 139,
     "metadata": {},
     "output_type": "execute_result"
    }
   ],
   "source": [
    "title_tags=driver.find_elements_by_xpath(\"//a[@class='title fw500 ellipsis']\")\n",
    "for i in title_tags:\n",
    "    title=i.text\n",
    "    job_title.append(title)\n",
    "job_title[:10]\n"
   ]
  },
  {
   "cell_type": "code",
   "execution_count": 140,
   "id": "315e0c12",
   "metadata": {},
   "outputs": [
    {
     "data": {
      "text/plain": [
       "['Rupeek',\n",
       " 'Siemens',\n",
       " 'Walmart',\n",
       " 'LatentView',\n",
       " 'FINNOVATION TECH SOLUTIONS PRIVATE LIMITED',\n",
       " 'Dell Technologies',\n",
       " 'Cerner',\n",
       " 'Myntra',\n",
       " 'Enrich talents',\n",
       " 'National Geographic']"
      ]
     },
     "execution_count": 140,
     "metadata": {},
     "output_type": "execute_result"
    }
   ],
   "source": [
    "companies_tags=driver.find_elements_by_xpath(\"//a[@class='subTitle ellipsis fleft']\")\n",
    "for i in companies_tags:\n",
    "    company_name=i.text\n",
    "    company_names.append(company_name)\n",
    "company_names[:10]"
   ]
  },
  {
   "cell_type": "code",
   "execution_count": 141,
   "id": "0ae021fd",
   "metadata": {},
   "outputs": [
    {
     "data": {
      "text/plain": [
       "['2-7 Yrs',\n",
       " '0-10 Yrs',\n",
       " '5-8 Yrs',\n",
       " '2-6 Yrs',\n",
       " '3-6 Yrs',\n",
       " '1-6 Yrs',\n",
       " '8-12 Yrs',\n",
       " '1-3 Yrs',\n",
       " '0-4 Yrs',\n",
       " '4-6 Yrs']"
      ]
     },
     "execution_count": 141,
     "metadata": {},
     "output_type": "execute_result"
    }
   ],
   "source": [
    "experience_tags=driver.find_elements_by_xpath(\"//li[@class='fleft grey-text br2 placeHolderLi experience']/span[1]\")\n",
    "for i in experience_tags:\n",
    "    experience=i.text\n",
    "    experience_list.append(experience)\n",
    "experience_list[0:10]"
   ]
  },
  {
   "cell_type": "code",
   "execution_count": 142,
   "id": "fe038ac9",
   "metadata": {},
   "outputs": [
    {
     "data": {
      "text/plain": [
       "['Bangalore/Bengaluru',\n",
       " 'Bangalore/Bengaluru',\n",
       " 'Bangalore/Bengaluru',\n",
       " 'Chennai, Bangalore/Bengaluru',\n",
       " 'Bangalore/Bengaluru(Old Madras Road)',\n",
       " 'Bangalore/Bengaluru',\n",
       " 'Bangalore/Bengaluru',\n",
       " 'Bangalore/Bengaluru',\n",
       " 'Bangalore/Bengaluru',\n",
       " 'Bangalore/Bengaluru']"
      ]
     },
     "execution_count": 142,
     "metadata": {},
     "output_type": "execute_result"
    }
   ],
   "source": [
    "location_tags=driver.find_elements_by_xpath(\"//li[@class='fleft grey-text br2 placeHolderLi location']\")\n",
    "for i in location_tags:\n",
    "    location=i.text\n",
    "    location_list.append(location)\n",
    "location_list[0:10]"
   ]
  },
  {
   "cell_type": "code",
   "execution_count": 143,
   "id": "ca71a69f",
   "metadata": {},
   "outputs": [
    {
     "name": "stdout",
     "output_type": "stream",
     "text": [
      "20 20 20 20\n"
     ]
    }
   ],
   "source": [
    "print(len(job_title),len(company_names),len(experience_list),len(location_list))"
   ]
  },
  {
   "cell_type": "code",
   "execution_count": 144,
   "id": "18b855b0",
   "metadata": {},
   "outputs": [],
   "source": [
    "data_analyst_jobs=pd.DataFrame({})\n",
    "data_analyst_jobs['Title']=job_title[:10]\n",
    "data_analyst_jobs['Company']=company_names[:10]\n",
    "data_analyst_jobs['Experience_Required']=experience_list[:10]\n",
    "data_analyst_jobs['Location']=location_list[:10]"
   ]
  },
  {
   "cell_type": "code",
   "execution_count": 145,
   "id": "33351a0e",
   "metadata": {},
   "outputs": [
    {
     "data": {
      "text/html": [
       "<div>\n",
       "<style scoped>\n",
       "    .dataframe tbody tr th:only-of-type {\n",
       "        vertical-align: middle;\n",
       "    }\n",
       "\n",
       "    .dataframe tbody tr th {\n",
       "        vertical-align: top;\n",
       "    }\n",
       "\n",
       "    .dataframe thead th {\n",
       "        text-align: right;\n",
       "    }\n",
       "</style>\n",
       "<table border=\"1\" class=\"dataframe\">\n",
       "  <thead>\n",
       "    <tr style=\"text-align: right;\">\n",
       "      <th></th>\n",
       "      <th>Title</th>\n",
       "      <th>Company</th>\n",
       "      <th>Experience_Required</th>\n",
       "      <th>Location</th>\n",
       "    </tr>\n",
       "  </thead>\n",
       "  <tbody>\n",
       "    <tr>\n",
       "      <th>0</th>\n",
       "      <td>Senior Data Analyst/ Business Analyst</td>\n",
       "      <td>Rupeek</td>\n",
       "      <td>2-7 Yrs</td>\n",
       "      <td>Bangalore/Bengaluru</td>\n",
       "    </tr>\n",
       "    <tr>\n",
       "      <th>1</th>\n",
       "      <td>Sr Domain Expert -Data Analysts</td>\n",
       "      <td>Siemens</td>\n",
       "      <td>0-10 Yrs</td>\n",
       "      <td>Bangalore/Bengaluru</td>\n",
       "    </tr>\n",
       "    <tr>\n",
       "      <th>2</th>\n",
       "      <td>Senior Data Analyst</td>\n",
       "      <td>Walmart</td>\n",
       "      <td>5-8 Yrs</td>\n",
       "      <td>Bangalore/Bengaluru</td>\n",
       "    </tr>\n",
       "    <tr>\n",
       "      <th>3</th>\n",
       "      <td>Senior Data Analyst</td>\n",
       "      <td>LatentView</td>\n",
       "      <td>2-6 Yrs</td>\n",
       "      <td>Chennai, Bangalore/Bengaluru</td>\n",
       "    </tr>\n",
       "    <tr>\n",
       "      <th>4</th>\n",
       "      <td>Senior Data Analyst</td>\n",
       "      <td>FINNOVATION TECH SOLUTIONS PRIVATE LIMITED</td>\n",
       "      <td>3-6 Yrs</td>\n",
       "      <td>Bangalore/Bengaluru(Old Madras Road)</td>\n",
       "    </tr>\n",
       "    <tr>\n",
       "      <th>5</th>\n",
       "      <td>Senior Data Analyst (Digital Services Analytics)</td>\n",
       "      <td>Dell Technologies</td>\n",
       "      <td>1-6 Yrs</td>\n",
       "      <td>Bangalore/Bengaluru</td>\n",
       "    </tr>\n",
       "    <tr>\n",
       "      <th>6</th>\n",
       "      <td>Senior Data Analyst</td>\n",
       "      <td>Cerner</td>\n",
       "      <td>8-12 Yrs</td>\n",
       "      <td>Bangalore/Bengaluru</td>\n",
       "    </tr>\n",
       "    <tr>\n",
       "      <th>7</th>\n",
       "      <td>Data Analyst</td>\n",
       "      <td>Myntra</td>\n",
       "      <td>1-3 Yrs</td>\n",
       "      <td>Bangalore/Bengaluru</td>\n",
       "    </tr>\n",
       "    <tr>\n",
       "      <th>8</th>\n",
       "      <td>Data Analyst</td>\n",
       "      <td>Enrich talents</td>\n",
       "      <td>0-4 Yrs</td>\n",
       "      <td>Bangalore/Bengaluru</td>\n",
       "    </tr>\n",
       "    <tr>\n",
       "      <th>9</th>\n",
       "      <td>Data Analyst - Platform &amp; Security</td>\n",
       "      <td>National Geographic</td>\n",
       "      <td>4-6 Yrs</td>\n",
       "      <td>Bangalore/Bengaluru</td>\n",
       "    </tr>\n",
       "  </tbody>\n",
       "</table>\n",
       "</div>"
      ],
      "text/plain": [
       "                                              Title  \\\n",
       "0             Senior Data Analyst/ Business Analyst   \n",
       "1                   Sr Domain Expert -Data Analysts   \n",
       "2                               Senior Data Analyst   \n",
       "3                               Senior Data Analyst   \n",
       "4                               Senior Data Analyst   \n",
       "5  Senior Data Analyst (Digital Services Analytics)   \n",
       "6                               Senior Data Analyst   \n",
       "7                                      Data Analyst   \n",
       "8                                      Data Analyst   \n",
       "9                Data Analyst - Platform & Security   \n",
       "\n",
       "                                      Company Experience_Required  \\\n",
       "0                                      Rupeek             2-7 Yrs   \n",
       "1                                     Siemens            0-10 Yrs   \n",
       "2                                     Walmart             5-8 Yrs   \n",
       "3                                  LatentView             2-6 Yrs   \n",
       "4  FINNOVATION TECH SOLUTIONS PRIVATE LIMITED             3-6 Yrs   \n",
       "5                           Dell Technologies             1-6 Yrs   \n",
       "6                                      Cerner            8-12 Yrs   \n",
       "7                                      Myntra             1-3 Yrs   \n",
       "8                              Enrich talents             0-4 Yrs   \n",
       "9                         National Geographic             4-6 Yrs   \n",
       "\n",
       "                               Location  \n",
       "0                   Bangalore/Bengaluru  \n",
       "1                   Bangalore/Bengaluru  \n",
       "2                   Bangalore/Bengaluru  \n",
       "3          Chennai, Bangalore/Bengaluru  \n",
       "4  Bangalore/Bengaluru(Old Madras Road)  \n",
       "5                   Bangalore/Bengaluru  \n",
       "6                   Bangalore/Bengaluru  \n",
       "7                   Bangalore/Bengaluru  \n",
       "8                   Bangalore/Bengaluru  \n",
       "9                   Bangalore/Bengaluru  "
      ]
     },
     "execution_count": 145,
     "metadata": {},
     "output_type": "execute_result"
    }
   ],
   "source": [
    "data_analyst_jobs"
   ]
  },
  {
   "cell_type": "markdown",
   "id": "a0268639",
   "metadata": {},
   "source": [
    "# Q2: Write a python program to scrape data for “Data Scientist” Job position in “Bangalore” location. You have to scrape the job-title, job-location, company_name. You have to scrape first 10 jobs data.\n",
    "\n",
    "This task will be done in following steps:\n",
    "\n",
    "1. First get the webpage https://www.naukri.com/\n",
    "\n",
    "2. Enter “Data Scientist” in “Skill, Designations, Companies” field and enter “Bangalore” in “enter the location” field.\n",
    "\n",
    "3. Then click the search button.\n",
    "\n",
    "4. Then scrape the data for the first 10 jobs results you get.\n",
    "\n",
    "5. Finally create a dataframe of the scraped data."
   ]
  },
  {
   "cell_type": "code",
   "execution_count": 105,
   "id": "9ec4c94d",
   "metadata": {},
   "outputs": [],
   "source": [
    "driver=webdriver.Chrome(r\"C:\\Users\\balub\\Downloads\\chromedriver_win32\\chromedriver.exe\")"
   ]
  },
  {
   "cell_type": "code",
   "execution_count": 106,
   "id": "673a1991",
   "metadata": {},
   "outputs": [],
   "source": [
    "driver=webdriver.Chrome(\"chromedriver.exe\")"
   ]
  },
  {
   "cell_type": "code",
   "execution_count": 107,
   "id": "97b9c236",
   "metadata": {},
   "outputs": [],
   "source": [
    "driver.get(\"https://www.naukri.com/\")"
   ]
  },
  {
   "cell_type": "code",
   "execution_count": 108,
   "id": "47e49b08",
   "metadata": {},
   "outputs": [],
   "source": [
    "designation=driver.find_element_by_class_name('suggestor-input')\n",
    "designation.send_keys(\"Data Scientist\")\n",
    "location=driver.find_element_by_xpath(\"/html/body/div/div[2]/div[3]/div/div/div[3]/div/div/div[1]/input\")\n",
    "location.send_keys(\"Bangalore\")\n",
    "search=driver.find_element_by_xpath(\"/html/body/div/div[2]/div[3]/div/div/div[6]\")\n",
    "search.click()\n"
   ]
  },
  {
   "cell_type": "code",
   "execution_count": 109,
   "id": "1e9acea3",
   "metadata": {},
   "outputs": [],
   "source": [
    "url=\"https://www.naukri.com/data-scientist-jobs-in-bangalore?k=data%20scientist&l=bangalore\"\n",
    "driver.get(url)"
   ]
  },
  {
   "cell_type": "code",
   "execution_count": 110,
   "id": "9db03ecc",
   "metadata": {},
   "outputs": [],
   "source": [
    "job_title=[]\n",
    "company_names=[]\n",
    "experience_list=[]\n",
    "location_list=[]"
   ]
  },
  {
   "cell_type": "code",
   "execution_count": 111,
   "id": "b6a3e6a7",
   "metadata": {},
   "outputs": [
    {
     "data": {
      "text/plain": [
       "['Senior Data Scientist',\n",
       " 'Data Scientist',\n",
       " 'Analyst - Data Scientist',\n",
       " 'Senior Data Scientist',\n",
       " 'Sr. Associate - Data Scientist',\n",
       " 'Senior Data Scientist',\n",
       " 'Data Scientist',\n",
       " 'Data Scientist / Machine learning Engineer',\n",
       " 'Junior Data Scientist',\n",
       " 'Data Analyst / Data Scientist']"
      ]
     },
     "execution_count": 111,
     "metadata": {},
     "output_type": "execute_result"
    }
   ],
   "source": [
    "title_tags=driver.find_elements_by_xpath(\"//a[@class='title fw500 ellipsis']\")\n",
    "for i in title_tags:\n",
    "    title=i.text\n",
    "    job_title.append(title)\n",
    "job_title[:10]"
   ]
  },
  {
   "cell_type": "code",
   "execution_count": 112,
   "id": "b07d1c34",
   "metadata": {},
   "outputs": [
    {
     "data": {
      "text/plain": [
       "['GSK India',\n",
       " 'Applied Materials',\n",
       " 'MilliporeSigma',\n",
       " 'Flipkart',\n",
       " 'CHANGE LEADERS CONSULTING',\n",
       " 'GSK India',\n",
       " 'Roposo',\n",
       " 'Leading US MNC into Analytics',\n",
       " 'Accenture',\n",
       " 'JK Technosoft']"
      ]
     },
     "execution_count": 112,
     "metadata": {},
     "output_type": "execute_result"
    }
   ],
   "source": [
    "companies_tags=driver.find_elements_by_xpath(\"//a[@class='subTitle ellipsis fleft']\")\n",
    "for i in companies_tags:\n",
    "    company_name=i.text\n",
    "    company_names.append(company_name)\n",
    "company_names[:10]"
   ]
  },
  {
   "cell_type": "code",
   "execution_count": 113,
   "id": "b8da5fdf",
   "metadata": {},
   "outputs": [
    {
     "data": {
      "text/plain": [
       "['5-9 Yrs',\n",
       " '2-7 Yrs',\n",
       " '2-7 Yrs',\n",
       " '5-8 Yrs',\n",
       " '2-4 Yrs',\n",
       " '5-9 Yrs',\n",
       " '3-6 Yrs',\n",
       " '2-7 Yrs',\n",
       " '2-6 Yrs',\n",
       " '5-7 Yrs']"
      ]
     },
     "execution_count": 113,
     "metadata": {},
     "output_type": "execute_result"
    }
   ],
   "source": [
    "experience_tags=driver.find_elements_by_xpath(\"//li[@class='fleft grey-text br2 placeHolderLi experience']\")\n",
    "for i in experience_tags:\n",
    "    experience=i.text\n",
    "    experience_list.append(experience)\n",
    "experience_list[0:10]"
   ]
  },
  {
   "cell_type": "code",
   "execution_count": 114,
   "id": "8df30f23",
   "metadata": {},
   "outputs": [
    {
     "data": {
      "text/plain": [
       "['Bangalore/Bengaluru',\n",
       " 'Bangalore/Bengaluru',\n",
       " 'Bangalore/Bengaluru',\n",
       " 'Bangalore/Bengaluru',\n",
       " 'Hyderabad/Secunderabad, Bangalore/Bengaluru',\n",
       " 'Bangalore/Bengaluru',\n",
       " 'Bangalore/Bengaluru',\n",
       " 'Bangalore/Bengaluru, Delhi / NCR\\n(WFH during Covid)',\n",
       " 'Bangalore/Bengaluru',\n",
       " 'Noida, Hyderabad/Secunderabad, Bangalore/Bengaluru']"
      ]
     },
     "execution_count": 114,
     "metadata": {},
     "output_type": "execute_result"
    }
   ],
   "source": [
    "location_tags=driver.find_elements_by_xpath(\"//li[@class='fleft grey-text br2 placeHolderLi location']\")\n",
    "for i in location_tags:\n",
    "    location=i.text\n",
    "    location_list.append(location)\n",
    "location_list[0:10]"
   ]
  },
  {
   "cell_type": "code",
   "execution_count": 115,
   "id": "72caa2d1",
   "metadata": {},
   "outputs": [
    {
     "name": "stdout",
     "output_type": "stream",
     "text": [
      "20 20 20 20\n"
     ]
    }
   ],
   "source": [
    "print(len(job_title),len(company_names),len(experience_list),len(location_list))"
   ]
  },
  {
   "cell_type": "code",
   "execution_count": 116,
   "id": "de9ec5e0",
   "metadata": {},
   "outputs": [],
   "source": [
    "data_scientist_jobs=pd.DataFrame({})\n",
    "data_scientist_jobs['Title']=job_title[:10]\n",
    "data_scientist_jobs['Company']=company_names[:10]\n",
    "data_scientist_jobs['Experience_Required']=experience_list[:10]\n",
    "data_scientist_jobs['Location']=location_list[:10]"
   ]
  },
  {
   "cell_type": "code",
   "execution_count": 117,
   "id": "a810a883",
   "metadata": {},
   "outputs": [
    {
     "data": {
      "text/html": [
       "<div>\n",
       "<style scoped>\n",
       "    .dataframe tbody tr th:only-of-type {\n",
       "        vertical-align: middle;\n",
       "    }\n",
       "\n",
       "    .dataframe tbody tr th {\n",
       "        vertical-align: top;\n",
       "    }\n",
       "\n",
       "    .dataframe thead th {\n",
       "        text-align: right;\n",
       "    }\n",
       "</style>\n",
       "<table border=\"1\" class=\"dataframe\">\n",
       "  <thead>\n",
       "    <tr style=\"text-align: right;\">\n",
       "      <th></th>\n",
       "      <th>Title</th>\n",
       "      <th>Company</th>\n",
       "      <th>Experience_Required</th>\n",
       "      <th>Location</th>\n",
       "    </tr>\n",
       "  </thead>\n",
       "  <tbody>\n",
       "    <tr>\n",
       "      <th>0</th>\n",
       "      <td>Senior Data Scientist</td>\n",
       "      <td>GSK India</td>\n",
       "      <td>5-9 Yrs</td>\n",
       "      <td>Bangalore/Bengaluru</td>\n",
       "    </tr>\n",
       "    <tr>\n",
       "      <th>1</th>\n",
       "      <td>Data Scientist</td>\n",
       "      <td>Applied Materials</td>\n",
       "      <td>2-7 Yrs</td>\n",
       "      <td>Bangalore/Bengaluru</td>\n",
       "    </tr>\n",
       "    <tr>\n",
       "      <th>2</th>\n",
       "      <td>Analyst - Data Scientist</td>\n",
       "      <td>MilliporeSigma</td>\n",
       "      <td>2-7 Yrs</td>\n",
       "      <td>Bangalore/Bengaluru</td>\n",
       "    </tr>\n",
       "    <tr>\n",
       "      <th>3</th>\n",
       "      <td>Senior Data Scientist</td>\n",
       "      <td>Flipkart</td>\n",
       "      <td>5-8 Yrs</td>\n",
       "      <td>Bangalore/Bengaluru</td>\n",
       "    </tr>\n",
       "    <tr>\n",
       "      <th>4</th>\n",
       "      <td>Sr. Associate - Data Scientist</td>\n",
       "      <td>CHANGE LEADERS CONSULTING</td>\n",
       "      <td>2-4 Yrs</td>\n",
       "      <td>Hyderabad/Secunderabad, Bangalore/Bengaluru</td>\n",
       "    </tr>\n",
       "    <tr>\n",
       "      <th>5</th>\n",
       "      <td>Senior Data Scientist</td>\n",
       "      <td>GSK India</td>\n",
       "      <td>5-9 Yrs</td>\n",
       "      <td>Bangalore/Bengaluru</td>\n",
       "    </tr>\n",
       "    <tr>\n",
       "      <th>6</th>\n",
       "      <td>Data Scientist</td>\n",
       "      <td>Roposo</td>\n",
       "      <td>3-6 Yrs</td>\n",
       "      <td>Bangalore/Bengaluru</td>\n",
       "    </tr>\n",
       "    <tr>\n",
       "      <th>7</th>\n",
       "      <td>Data Scientist / Machine learning Engineer</td>\n",
       "      <td>Leading US MNC into Analytics</td>\n",
       "      <td>2-7 Yrs</td>\n",
       "      <td>Bangalore/Bengaluru, Delhi / NCR\\n(WFH during ...</td>\n",
       "    </tr>\n",
       "    <tr>\n",
       "      <th>8</th>\n",
       "      <td>Junior Data Scientist</td>\n",
       "      <td>Accenture</td>\n",
       "      <td>2-6 Yrs</td>\n",
       "      <td>Bangalore/Bengaluru</td>\n",
       "    </tr>\n",
       "    <tr>\n",
       "      <th>9</th>\n",
       "      <td>Data Analyst / Data Scientist</td>\n",
       "      <td>JK Technosoft</td>\n",
       "      <td>5-7 Yrs</td>\n",
       "      <td>Noida, Hyderabad/Secunderabad, Bangalore/Benga...</td>\n",
       "    </tr>\n",
       "  </tbody>\n",
       "</table>\n",
       "</div>"
      ],
      "text/plain": [
       "                                        Title                        Company  \\\n",
       "0                       Senior Data Scientist                      GSK India   \n",
       "1                              Data Scientist              Applied Materials   \n",
       "2                    Analyst - Data Scientist                 MilliporeSigma   \n",
       "3                       Senior Data Scientist                       Flipkart   \n",
       "4              Sr. Associate - Data Scientist      CHANGE LEADERS CONSULTING   \n",
       "5                       Senior Data Scientist                      GSK India   \n",
       "6                              Data Scientist                         Roposo   \n",
       "7  Data Scientist / Machine learning Engineer  Leading US MNC into Analytics   \n",
       "8                       Junior Data Scientist                      Accenture   \n",
       "9               Data Analyst / Data Scientist                  JK Technosoft   \n",
       "\n",
       "  Experience_Required                                           Location  \n",
       "0             5-9 Yrs                                Bangalore/Bengaluru  \n",
       "1             2-7 Yrs                                Bangalore/Bengaluru  \n",
       "2             2-7 Yrs                                Bangalore/Bengaluru  \n",
       "3             5-8 Yrs                                Bangalore/Bengaluru  \n",
       "4             2-4 Yrs        Hyderabad/Secunderabad, Bangalore/Bengaluru  \n",
       "5             5-9 Yrs                                Bangalore/Bengaluru  \n",
       "6             3-6 Yrs                                Bangalore/Bengaluru  \n",
       "7             2-7 Yrs  Bangalore/Bengaluru, Delhi / NCR\\n(WFH during ...  \n",
       "8             2-6 Yrs                                Bangalore/Bengaluru  \n",
       "9             5-7 Yrs  Noida, Hyderabad/Secunderabad, Bangalore/Benga...  "
      ]
     },
     "execution_count": 117,
     "metadata": {},
     "output_type": "execute_result"
    }
   ],
   "source": [
    "data_scientist_jobs"
   ]
  },
  {
   "cell_type": "markdown",
   "id": "cbf257d2",
   "metadata": {},
   "source": [
    "# Q3: In this question you have to scrape data using the filters available on the webpage as shown below:\n",
    "\n",
    "You have to use the location and salary filter.\n",
    "You have to scrape data for “Data Scientist” designation for first 10 job results.\n",
    "\n",
    "You have to scrape the job-title, job-location, company name, experience required.\n",
    "\n",
    "The location filter to be used is “Delhi/NCR”. The salary filter to be used is “3-6” lakhs\n",
    "\n",
    "The task will be done as shown in the below steps:\n",
    "\n",
    "1. first get the webpage https://www.naukri.com/\n",
    "\n",
    "2. Enter “Data Scientist” in “Skill, Designations, and Companies” field.\n",
    "\n",
    "3. Then click the search button.\n",
    "\n",
    "4. Then apply the location filter and salary filter by checking the respective boxes\n",
    "\n",
    "5. Then scrape the data for the first 10 jobs results you get.\n",
    "\n",
    "6. Finally create a dataframe of the scraped data.\n"
   ]
  },
  {
   "cell_type": "code",
   "execution_count": 17,
   "id": "31451a0f",
   "metadata": {},
   "outputs": [],
   "source": [
    "driver=webdriver.Chrome(r\"C:\\Users\\balub\\Downloads\\chromedriver_win32\\chromedriver.exe\")\n",
    "driver=webdriver.Chrome(\"chromedriver.exe\")\n",
    "driver.get(\"https://www.naukri.com/\")"
   ]
  },
  {
   "cell_type": "code",
   "execution_count": 18,
   "id": "0d8a1d3a",
   "metadata": {},
   "outputs": [],
   "source": [
    "designation=driver.find_element_by_class_name('suggestor-input')\n",
    "designation.send_keys(\"Data Scientist\")\n",
    "location=driver.find_element_by_xpath(\"/html/body/div/div[2]/div[3]/div/div/div[3]/div/div/div[1]/input\")\n",
    "location.send_keys(\"Bangalore\")\n",
    "search=driver.find_element_by_xpath(\"/html/body/div/div[2]/div[3]/div/div/div[6]\")\n",
    "search.click()"
   ]
  },
  {
   "cell_type": "code",
   "execution_count": 19,
   "id": "6e059739",
   "metadata": {},
   "outputs": [],
   "source": [
    "salary_filter=driver.find_element_by_xpath(\"/html/body/div[1]/div[3]/div[2]/section[1]/div[2]/div[4]/div[2]/div[2]/label/i\")\n",
    "salary_filter.click()"
   ]
  },
  {
   "cell_type": "code",
   "execution_count": 21,
   "id": "d253c945",
   "metadata": {},
   "outputs": [],
   "source": [
    "location_filter=driver.find_element_by_xpath('/html/body/div[1]/div[3]/div[2]/section[1]/div[2]/div[12]/div[3]/div[2]/div[6]/label/i')\n",
    "location_filter.click()"
   ]
  },
  {
   "cell_type": "code",
   "execution_count": 22,
   "id": "f6e798f2",
   "metadata": {},
   "outputs": [],
   "source": [
    "#job-title, job-location, company name, experience required.\n",
    "job_title=[]\n",
    "location_list=[]\n",
    "company_names=[]\n",
    "experience_list=[]"
   ]
  },
  {
   "cell_type": "code",
   "execution_count": 23,
   "id": "22df1b78",
   "metadata": {},
   "outputs": [
    {
     "data": {
      "text/plain": [
       "['Data Scientist/ Machine Learning, 2022 Passout Can also apply',\n",
       " 'Data Scientist',\n",
       " 'Data Scientist - Python/SQL',\n",
       " 'Data Scientist',\n",
       " 'Urgent opening For Data Scientist role',\n",
       " 'Data & Applied Scientist',\n",
       " 'Data and applied Scientist',\n",
       " 'Data Scientist',\n",
       " 'Senior Data Scientist Lead',\n",
       " 'Data Analyst/Data Engineer']"
      ]
     },
     "execution_count": 23,
     "metadata": {},
     "output_type": "execute_result"
    }
   ],
   "source": [
    "title_tags=driver.find_elements_by_xpath(\"//a[@class='title fw500 ellipsis']\")\n",
    "for i in title_tags:\n",
    "    title=i.text\n",
    "    job_title.append(title)\n",
    "job_title[:10]"
   ]
  },
  {
   "cell_type": "code",
   "execution_count": 24,
   "id": "919048f8",
   "metadata": {},
   "outputs": [
    {
     "data": {
      "text/plain": [
       "['Hyderabad/Secunderabad, Ahmedabad, Chennai, Bangalore/Bengaluru, Delhi / NCR, Mumbai (All Areas)',\n",
       " 'Gurgaon, Bengaluru',\n",
       " 'Noida, Kota, Mumbai, Chandigarh, Lucknow, Agra, Gurgaon/Gurugram, Jaipur, Bangalore/Bengaluru',\n",
       " 'Bharuch, Jaipur, Bhopal, Mumbai, Jhansi, Nagpur, Ghaziabad, Jaunpur, Kanpur, Delhi, Lucknow, Agra, Gurgaon, Rajkot, Bengaluru',\n",
       " 'New Delhi, Bangalore/Bengaluru',\n",
       " 'Noida, Hyderabad/Secunderabad, Bangalore/Bengaluru',\n",
       " 'Noida, Hyderabad/Secunderabad, Bangalore/Bengaluru',\n",
       " 'Gurgaon/Gurugram, Bangalore/Bengaluru',\n",
       " 'Kolkata, Hyderabad/Secunderabad, Pune, Chennai, Bangalore/Bengaluru, Delhi / NCR, Mumbai (All Areas)',\n",
       " 'Noida, Mumbai, Hyderabad/Secunderabad, Pune, Bangalore/Bengaluru']"
      ]
     },
     "execution_count": 24,
     "metadata": {},
     "output_type": "execute_result"
    }
   ],
   "source": [
    "location_tags=driver.find_elements_by_xpath(\"//li[@class='fleft grey-text br2 placeHolderLi location']\")\n",
    "for i in location_tags:\n",
    "    location=i.text\n",
    "    location_list.append(location)\n",
    "location_list[0:10]"
   ]
  },
  {
   "cell_type": "code",
   "execution_count": 25,
   "id": "0d20434d",
   "metadata": {},
   "outputs": [
    {
     "data": {
      "text/plain": [
       "['Creative Hands HR Consultancy',\n",
       " 'BlackBuck',\n",
       " 'AVE-Promagne',\n",
       " 'Country Veggie',\n",
       " 'GLOBAL UPSIDE India Pvt Ltd',\n",
       " 'Microsoft',\n",
       " 'Microsoft',\n",
       " 'SpotDraft',\n",
       " 'Wipro',\n",
       " 'Coforge']"
      ]
     },
     "execution_count": 25,
     "metadata": {},
     "output_type": "execute_result"
    }
   ],
   "source": [
    "companies_tags=driver.find_elements_by_xpath(\"//a[@class='subTitle ellipsis fleft']\")\n",
    "for i in companies_tags:\n",
    "    company_name=i.text\n",
    "    company_names.append(company_name)\n",
    "company_names[:10]"
   ]
  },
  {
   "cell_type": "code",
   "execution_count": 26,
   "id": "42049f27",
   "metadata": {},
   "outputs": [
    {
     "data": {
      "text/plain": [
       "['0-4 Yrs',\n",
       " '3-7 Yrs',\n",
       " '3-8 Yrs',\n",
       " '1-3 Yrs',\n",
       " '2-4 Yrs',\n",
       " '3-7 Yrs',\n",
       " '3-7 Yrs',\n",
       " '1-5 Yrs',\n",
       " '6-11 Yrs',\n",
       " '6-10 Yrs']"
      ]
     },
     "execution_count": 26,
     "metadata": {},
     "output_type": "execute_result"
    }
   ],
   "source": [
    "experience_tags=driver.find_elements_by_xpath(\"//li[@class='fleft grey-text br2 placeHolderLi experience']\")\n",
    "for i in experience_tags:\n",
    "    experience=i.text\n",
    "    experience_list.append(experience)\n",
    "experience_list[0:10]"
   ]
  },
  {
   "cell_type": "code",
   "execution_count": 27,
   "id": "bb63cb72",
   "metadata": {},
   "outputs": [
    {
     "name": "stdout",
     "output_type": "stream",
     "text": [
      "20 20 20 20\n"
     ]
    }
   ],
   "source": [
    "print(len(job_title),len(location_list),len(company_names),len(experience_list))"
   ]
  },
  {
   "cell_type": "code",
   "execution_count": 28,
   "id": "99d59afc",
   "metadata": {},
   "outputs": [],
   "source": [
    "jobs=pd.DataFrame({})\n",
    "jobs['Title']=job_title[:10]\n",
    "jobs['Company']=company_names[:10]\n",
    "jobs['Experience_Required']=experience_list[:10]\n",
    "jobs['Location']=location_list[:10]"
   ]
  },
  {
   "cell_type": "code",
   "execution_count": 29,
   "id": "f61d5969",
   "metadata": {},
   "outputs": [
    {
     "data": {
      "text/html": [
       "<div>\n",
       "<style scoped>\n",
       "    .dataframe tbody tr th:only-of-type {\n",
       "        vertical-align: middle;\n",
       "    }\n",
       "\n",
       "    .dataframe tbody tr th {\n",
       "        vertical-align: top;\n",
       "    }\n",
       "\n",
       "    .dataframe thead th {\n",
       "        text-align: right;\n",
       "    }\n",
       "</style>\n",
       "<table border=\"1\" class=\"dataframe\">\n",
       "  <thead>\n",
       "    <tr style=\"text-align: right;\">\n",
       "      <th></th>\n",
       "      <th>Title</th>\n",
       "      <th>Company</th>\n",
       "      <th>Experience_Required</th>\n",
       "      <th>Location</th>\n",
       "    </tr>\n",
       "  </thead>\n",
       "  <tbody>\n",
       "    <tr>\n",
       "      <th>0</th>\n",
       "      <td>Data Scientist/ Machine Learning, 2022 Passout...</td>\n",
       "      <td>Creative Hands HR Consultancy</td>\n",
       "      <td>0-4 Yrs</td>\n",
       "      <td>Hyderabad/Secunderabad, Ahmedabad, Chennai, Ba...</td>\n",
       "    </tr>\n",
       "    <tr>\n",
       "      <th>1</th>\n",
       "      <td>Data Scientist</td>\n",
       "      <td>BlackBuck</td>\n",
       "      <td>3-7 Yrs</td>\n",
       "      <td>Gurgaon, Bengaluru</td>\n",
       "    </tr>\n",
       "    <tr>\n",
       "      <th>2</th>\n",
       "      <td>Data Scientist - Python/SQL</td>\n",
       "      <td>AVE-Promagne</td>\n",
       "      <td>3-8 Yrs</td>\n",
       "      <td>Noida, Kota, Mumbai, Chandigarh, Lucknow, Agra...</td>\n",
       "    </tr>\n",
       "    <tr>\n",
       "      <th>3</th>\n",
       "      <td>Data Scientist</td>\n",
       "      <td>Country Veggie</td>\n",
       "      <td>1-3 Yrs</td>\n",
       "      <td>Bharuch, Jaipur, Bhopal, Mumbai, Jhansi, Nagpu...</td>\n",
       "    </tr>\n",
       "    <tr>\n",
       "      <th>4</th>\n",
       "      <td>Urgent opening For Data Scientist role</td>\n",
       "      <td>GLOBAL UPSIDE India Pvt Ltd</td>\n",
       "      <td>2-4 Yrs</td>\n",
       "      <td>New Delhi, Bangalore/Bengaluru</td>\n",
       "    </tr>\n",
       "    <tr>\n",
       "      <th>5</th>\n",
       "      <td>Data &amp; Applied Scientist</td>\n",
       "      <td>Microsoft</td>\n",
       "      <td>3-7 Yrs</td>\n",
       "      <td>Noida, Hyderabad/Secunderabad, Bangalore/Benga...</td>\n",
       "    </tr>\n",
       "    <tr>\n",
       "      <th>6</th>\n",
       "      <td>Data and applied Scientist</td>\n",
       "      <td>Microsoft</td>\n",
       "      <td>3-7 Yrs</td>\n",
       "      <td>Noida, Hyderabad/Secunderabad, Bangalore/Benga...</td>\n",
       "    </tr>\n",
       "    <tr>\n",
       "      <th>7</th>\n",
       "      <td>Data Scientist</td>\n",
       "      <td>SpotDraft</td>\n",
       "      <td>1-5 Yrs</td>\n",
       "      <td>Gurgaon/Gurugram, Bangalore/Bengaluru</td>\n",
       "    </tr>\n",
       "    <tr>\n",
       "      <th>8</th>\n",
       "      <td>Senior Data Scientist Lead</td>\n",
       "      <td>Wipro</td>\n",
       "      <td>6-11 Yrs</td>\n",
       "      <td>Kolkata, Hyderabad/Secunderabad, Pune, Chennai...</td>\n",
       "    </tr>\n",
       "    <tr>\n",
       "      <th>9</th>\n",
       "      <td>Data Analyst/Data Engineer</td>\n",
       "      <td>Coforge</td>\n",
       "      <td>6-10 Yrs</td>\n",
       "      <td>Noida, Mumbai, Hyderabad/Secunderabad, Pune, B...</td>\n",
       "    </tr>\n",
       "  </tbody>\n",
       "</table>\n",
       "</div>"
      ],
      "text/plain": [
       "                                               Title  \\\n",
       "0  Data Scientist/ Machine Learning, 2022 Passout...   \n",
       "1                                     Data Scientist   \n",
       "2                        Data Scientist - Python/SQL   \n",
       "3                                     Data Scientist   \n",
       "4             Urgent opening For Data Scientist role   \n",
       "5                           Data & Applied Scientist   \n",
       "6                         Data and applied Scientist   \n",
       "7                                     Data Scientist   \n",
       "8                         Senior Data Scientist Lead   \n",
       "9                         Data Analyst/Data Engineer   \n",
       "\n",
       "                         Company Experience_Required  \\\n",
       "0  Creative Hands HR Consultancy             0-4 Yrs   \n",
       "1                      BlackBuck             3-7 Yrs   \n",
       "2                   AVE-Promagne             3-8 Yrs   \n",
       "3                 Country Veggie             1-3 Yrs   \n",
       "4    GLOBAL UPSIDE India Pvt Ltd             2-4 Yrs   \n",
       "5                      Microsoft             3-7 Yrs   \n",
       "6                      Microsoft             3-7 Yrs   \n",
       "7                      SpotDraft             1-5 Yrs   \n",
       "8                          Wipro            6-11 Yrs   \n",
       "9                        Coforge            6-10 Yrs   \n",
       "\n",
       "                                            Location  \n",
       "0  Hyderabad/Secunderabad, Ahmedabad, Chennai, Ba...  \n",
       "1                                 Gurgaon, Bengaluru  \n",
       "2  Noida, Kota, Mumbai, Chandigarh, Lucknow, Agra...  \n",
       "3  Bharuch, Jaipur, Bhopal, Mumbai, Jhansi, Nagpu...  \n",
       "4                     New Delhi, Bangalore/Bengaluru  \n",
       "5  Noida, Hyderabad/Secunderabad, Bangalore/Benga...  \n",
       "6  Noida, Hyderabad/Secunderabad, Bangalore/Benga...  \n",
       "7              Gurgaon/Gurugram, Bangalore/Bengaluru  \n",
       "8  Kolkata, Hyderabad/Secunderabad, Pune, Chennai...  \n",
       "9  Noida, Mumbai, Hyderabad/Secunderabad, Pune, B...  "
      ]
     },
     "execution_count": 29,
     "metadata": {},
     "output_type": "execute_result"
    }
   ],
   "source": [
    "jobs"
   ]
  },
  {
   "cell_type": "markdown",
   "id": "5650a101",
   "metadata": {},
   "source": [
    "# Q4: Scrape data of first 100 sunglasses listings on flipkart.com. You have to scrape four attributes:\n",
    "1. Brand\n",
    "\n",
    "2. Product Description\n",
    "\n",
    "3. Price\n",
    "\n",
    "To scrape the data you have to go through following steps:\n",
    "\n",
    "1. Go to Flipkart webpage by url : https://www.flipkart.com/\n",
    "\n",
    "2. Enter “sunglasses” in the search field where “search for products, brands andmore” is written and click the search icon.\n",
    "\n",
    "3. After that you will reach to the page having a lot of sunglasses. From this pageyou can scrap the required data as usual.\n",
    "\n",
    "4. After scraping data from the first page, go to the “Next” Button at the bottom ofthe page , then click on it.\n",
    "\n",
    "5. Now scrape data from this page as usual.\n",
    "\n",
    "6. Repeat this until you get data for 100 sunglasses."
   ]
  },
  {
   "cell_type": "code",
   "execution_count": 177,
   "id": "8e5b5d70",
   "metadata": {},
   "outputs": [],
   "source": [
    "driver=webdriver.Chrome(r\"C:\\Users\\balub\\Downloads\\chromedriver_win32\\chromedriver.exe\")\n",
    "driver=webdriver.Chrome(\"chromedriver.exe\")\n",
    "driver.get(\"https://www.flipkart.com/\")"
   ]
  },
  {
   "cell_type": "code",
   "execution_count": 178,
   "id": "9af39a75",
   "metadata": {},
   "outputs": [],
   "source": [
    "cl=driver.find_element_by_xpath(\"/html/body/div[2]/div/div/button\")\n",
    "cl.click()"
   ]
  },
  {
   "cell_type": "code",
   "execution_count": 179,
   "id": "cae6f793",
   "metadata": {},
   "outputs": [],
   "source": [
    "product_search=driver.find_element_by_class_name(\"_3704LK\")\n",
    "product_search.send_keys(\"sunglasses\")"
   ]
  },
  {
   "cell_type": "code",
   "execution_count": 180,
   "id": "8e6a4781",
   "metadata": {},
   "outputs": [],
   "source": [
    "search=driver.find_element_by_xpath(\"/html/body/div[1]/div/div[1]/div[1]/div[2]/div[2]/form/div/button\")\n",
    "search.click()"
   ]
  },
  {
   "cell_type": "code",
   "execution_count": 181,
   "id": "f4568c61",
   "metadata": {},
   "outputs": [],
   "source": [
    "brand=[]\n",
    "product_description=[]\n",
    "price=[]"
   ]
  },
  {
   "cell_type": "code",
   "execution_count": 182,
   "id": "47052592",
   "metadata": {},
   "outputs": [
    {
     "data": {
      "text/plain": [
       "['Fastrack',\n",
       " 'SUNBEE',\n",
       " 'Elligator',\n",
       " 'PIRASO',\n",
       " 'New Specs',\n",
       " 'Fastrack',\n",
       " 'SRPM',\n",
       " 'PIRASO',\n",
       " 'SHAAH COLLECTIONS',\n",
       " 'Lee Topper',\n",
       " 'ROZZETTA CRAFT',\n",
       " 'SUNBEE',\n",
       " 'PIRASO',\n",
       " 'PIRASO',\n",
       " 'Lee Topper',\n",
       " 'New Specs',\n",
       " 'GANSTA',\n",
       " 'hipe',\n",
       " 'hipe',\n",
       " 'kingsunglasses',\n",
       " 'kingsunglasses',\n",
       " 'DEIXELS',\n",
       " 'SRPM',\n",
       " 'Elligator',\n",
       " 'hipe',\n",
       " 'elegante',\n",
       " 'Fastrack',\n",
       " 'Singco India',\n",
       " 'SUNBEE',\n",
       " 'SRPM',\n",
       " 'SHAAH COLLECTIONS',\n",
       " 'PHENOMENAL',\n",
       " 'hipe',\n",
       " 'PIRASO',\n",
       " 'ROZZETTA CRAFT',\n",
       " 'Fastrack',\n",
       " 'ROZZETTA CRAFT',\n",
       " 'kingsunglasses',\n",
       " 'hipe',\n",
       " 'kingsunglasses']"
      ]
     },
     "execution_count": 182,
     "metadata": {},
     "output_type": "execute_result"
    }
   ],
   "source": [
    "brand_tag=driver.find_elements_by_xpath(\"//div[@class='_2WkVRV']\")\n",
    "for i in brand_tag:\n",
    "    name=i.text\n",
    "    brand.append(name)\n",
    "brand"
   ]
  },
  {
   "cell_type": "code",
   "execution_count": 183,
   "id": "1c41773f",
   "metadata": {},
   "outputs": [],
   "source": [
    "product_tag=driver.find_elements_by_xpath(\"//a[@class='IRpwTa']\")\n",
    "for i in product_tag:\n",
    "    pt=i.text\n",
    "    product_description.append(pt)\n"
   ]
  },
  {
   "cell_type": "code",
   "execution_count": 184,
   "id": "cbc6e12a",
   "metadata": {},
   "outputs": [],
   "source": [
    "price_tag=driver.find_elements_by_xpath(\"//div[@class='_30jeq3']\")\n",
    "for i in price_tag:\n",
    "    prt=i.text\n",
    "    price.append(prt)"
   ]
  },
  {
   "cell_type": "code",
   "execution_count": 185,
   "id": "a49d2085",
   "metadata": {},
   "outputs": [],
   "source": [
    "next_page=driver.find_element_by_xpath(\"/html/body/div[1]/div/div[3]/div[1]/div[2]/div[12]/div/div/nav/a[11]\")\n",
    "next_page.click()"
   ]
  },
  {
   "cell_type": "code",
   "execution_count": 186,
   "id": "cc2500ed",
   "metadata": {},
   "outputs": [],
   "source": [
    "brand_tag=driver.find_elements_by_xpath(\"//div[@class='_2WkVRV']\")\n",
    "for i in brand_tag:\n",
    "    name=i.text\n",
    "    brand.append(name)"
   ]
  },
  {
   "cell_type": "code",
   "execution_count": 187,
   "id": "6339e161",
   "metadata": {},
   "outputs": [],
   "source": [
    "product_tag=driver.find_elements_by_xpath(\"//a[@class='IRpwTa']\")\n",
    "for i in product_tag:\n",
    "    pt=i.text\n",
    "    product_description.append(pt)"
   ]
  },
  {
   "cell_type": "code",
   "execution_count": 188,
   "id": "41ff0805",
   "metadata": {},
   "outputs": [],
   "source": [
    "price_tag=driver.find_elements_by_xpath(\"//div[@class='_30jeq3']\")\n",
    "for i in price_tag:\n",
    "    prt=i.text\n",
    "    price.append(prt)"
   ]
  },
  {
   "cell_type": "code",
   "execution_count": 189,
   "id": "8d734528",
   "metadata": {},
   "outputs": [],
   "source": [
    "next_page=driver.find_element_by_xpath(\"/html/body/div[1]/div/div[3]/div[1]/div[2]/div[12]/div/div/nav/a[11]\")\n",
    "next_page.click()"
   ]
  },
  {
   "cell_type": "code",
   "execution_count": 190,
   "id": "e7eb9d45",
   "metadata": {},
   "outputs": [],
   "source": [
    "brand_tag=driver.find_elements_by_xpath(\"//div[@class='_2WkVRV']\")\n",
    "for i in brand_tag:\n",
    "    name=i.text\n",
    "    brand.append(name)"
   ]
  },
  {
   "cell_type": "code",
   "execution_count": 191,
   "id": "07a1807e",
   "metadata": {},
   "outputs": [],
   "source": [
    "product_tag=driver.find_elements_by_xpath(\"//a[@class='IRpwTa']\")\n",
    "for i in product_tag:\n",
    "    pt=i.text\n",
    "    product_description.append(pt)"
   ]
  },
  {
   "cell_type": "code",
   "execution_count": 192,
   "id": "d1911c57",
   "metadata": {},
   "outputs": [],
   "source": [
    "price_tag=driver.find_elements_by_xpath(\"//div[@class='_30jeq3']\")\n",
    "for i in price_tag:\n",
    "    prt=i.text\n",
    "    price.append(prt)"
   ]
  },
  {
   "cell_type": "code",
   "execution_count": 193,
   "id": "62d4725d",
   "metadata": {},
   "outputs": [
    {
     "name": "stdout",
     "output_type": "stream",
     "text": [
      "120 120 120\n"
     ]
    }
   ],
   "source": [
    "print(len(brand),len(product_description),len(price))"
   ]
  },
  {
   "cell_type": "code",
   "execution_count": 194,
   "id": "85b27d40",
   "metadata": {},
   "outputs": [],
   "source": [
    "sg=pd.DataFrame({})\n",
    "sg['Brand']=brand[:100]\n",
    "sg['Product_Description']=product_description[:100]\n",
    "sg['Price']=price[:100]"
   ]
  },
  {
   "cell_type": "code",
   "execution_count": 195,
   "id": "747e2167",
   "metadata": {},
   "outputs": [
    {
     "data": {
      "text/html": [
       "<div>\n",
       "<style scoped>\n",
       "    .dataframe tbody tr th:only-of-type {\n",
       "        vertical-align: middle;\n",
       "    }\n",
       "\n",
       "    .dataframe tbody tr th {\n",
       "        vertical-align: top;\n",
       "    }\n",
       "\n",
       "    .dataframe thead th {\n",
       "        text-align: right;\n",
       "    }\n",
       "</style>\n",
       "<table border=\"1\" class=\"dataframe\">\n",
       "  <thead>\n",
       "    <tr style=\"text-align: right;\">\n",
       "      <th></th>\n",
       "      <th>Brand</th>\n",
       "      <th>Product_Description</th>\n",
       "      <th>Price</th>\n",
       "    </tr>\n",
       "  </thead>\n",
       "  <tbody>\n",
       "    <tr>\n",
       "      <th>0</th>\n",
       "      <td>Fastrack</td>\n",
       "      <td>UV Protection Wayfarer Sunglasses (Free Size)</td>\n",
       "      <td>₹719</td>\n",
       "    </tr>\n",
       "    <tr>\n",
       "      <th>1</th>\n",
       "      <td>SUNBEE</td>\n",
       "      <td>UV Protection, Polarized Wayfarer Sunglasses (...</td>\n",
       "      <td>₹273</td>\n",
       "    </tr>\n",
       "    <tr>\n",
       "      <th>2</th>\n",
       "      <td>Elligator</td>\n",
       "      <td>UV Protection Round Sunglasses (54)</td>\n",
       "      <td>₹295</td>\n",
       "    </tr>\n",
       "    <tr>\n",
       "      <th>3</th>\n",
       "      <td>PIRASO</td>\n",
       "      <td>UV Protection Aviator Sunglasses (54)</td>\n",
       "      <td>₹249</td>\n",
       "    </tr>\n",
       "    <tr>\n",
       "      <th>4</th>\n",
       "      <td>New Specs</td>\n",
       "      <td>UV Protection Rectangular Sunglasses (Free Size)</td>\n",
       "      <td>₹265</td>\n",
       "    </tr>\n",
       "    <tr>\n",
       "      <th>...</th>\n",
       "      <td>...</td>\n",
       "      <td>...</td>\n",
       "      <td>...</td>\n",
       "    </tr>\n",
       "    <tr>\n",
       "      <th>95</th>\n",
       "      <td>Fastrack</td>\n",
       "      <td>UV Protection Wayfarer Sunglasses (57)</td>\n",
       "      <td>₹719</td>\n",
       "    </tr>\n",
       "    <tr>\n",
       "      <th>96</th>\n",
       "      <td>Rich Club</td>\n",
       "      <td>Polarized, UV Protection, Riding Glasses Wayfa...</td>\n",
       "      <td>₹348</td>\n",
       "    </tr>\n",
       "    <tr>\n",
       "      <th>97</th>\n",
       "      <td>kingsunglasses</td>\n",
       "      <td>Mirrored, UV Protection Wayfarer, Wayfarer, Wa...</td>\n",
       "      <td>₹269</td>\n",
       "    </tr>\n",
       "    <tr>\n",
       "      <th>98</th>\n",
       "      <td>Urbanic</td>\n",
       "      <td>Others Retro Square Sunglasses (Free Size)</td>\n",
       "      <td>₹569</td>\n",
       "    </tr>\n",
       "    <tr>\n",
       "      <th>99</th>\n",
       "      <td>Urbanic</td>\n",
       "      <td>Others Retro Square Sunglasses (Free Size)</td>\n",
       "      <td>₹489</td>\n",
       "    </tr>\n",
       "  </tbody>\n",
       "</table>\n",
       "<p>100 rows × 3 columns</p>\n",
       "</div>"
      ],
      "text/plain": [
       "             Brand                                Product_Description Price\n",
       "0         Fastrack      UV Protection Wayfarer Sunglasses (Free Size)  ₹719\n",
       "1           SUNBEE  UV Protection, Polarized Wayfarer Sunglasses (...  ₹273\n",
       "2        Elligator                UV Protection Round Sunglasses (54)  ₹295\n",
       "3           PIRASO              UV Protection Aviator Sunglasses (54)  ₹249\n",
       "4        New Specs   UV Protection Rectangular Sunglasses (Free Size)  ₹265\n",
       "..             ...                                                ...   ...\n",
       "95        Fastrack             UV Protection Wayfarer Sunglasses (57)  ₹719\n",
       "96       Rich Club  Polarized, UV Protection, Riding Glasses Wayfa...  ₹348\n",
       "97  kingsunglasses  Mirrored, UV Protection Wayfarer, Wayfarer, Wa...  ₹269\n",
       "98         Urbanic         Others Retro Square Sunglasses (Free Size)  ₹569\n",
       "99         Urbanic         Others Retro Square Sunglasses (Free Size)  ₹489\n",
       "\n",
       "[100 rows x 3 columns]"
      ]
     },
     "execution_count": 195,
     "metadata": {},
     "output_type": "execute_result"
    }
   ],
   "source": [
    "sg"
   ]
  },
  {
   "cell_type": "markdown",
   "id": "6ba2e1cc",
   "metadata": {},
   "source": [
    "# Q5: Scrape 100 reviews data from flipkart.com for iphone11 phone. You have to go the link:\n",
    "\n",
    "https://www.flipkart.com/apple-iphone-11-black-64-gb-includes-earpods-power\u0002adapter/p/itm0f37c2240b217?pid=MOBFKCTSVZAXUHGR&lid=LSTMOBFKCTSVZAXUHGREPBFGI&marketplace.\n",
    "\n",
    "When you will open the above link you will reach to the below shown webpage.\n",
    "\n",
    "As shown in the above page you have to scrape the tick marked attributes.These are:\n",
    "\n",
    "1. Rating\n",
    "\n",
    "2. Review summary\n",
    "\n",
    "3. Full review\n",
    "\n",
    "4. You have to scrape this data for first 100 reviews."
   ]
  },
  {
   "cell_type": "code",
   "execution_count": 252,
   "id": "9099a635",
   "metadata": {},
   "outputs": [],
   "source": [
    "driver=webdriver.Chrome(r\"C:\\Users\\balub\\Downloads\\chromedriver_win32\\chromedriver.exe\")\n",
    "driver=webdriver.Chrome(\"chromedriver.exe\")\n",
    "driver.get(\"https://www.flipkart.com/apple-iphone-11-white-64-gb/p/itm2644c3764fc54\")"
   ]
  },
  {
   "cell_type": "code",
   "execution_count": 253,
   "id": "07a45550",
   "metadata": {},
   "outputs": [],
   "source": [
    "rating=[]\n",
    "review_summary=[]\n",
    "full_review=[]"
   ]
  },
  {
   "cell_type": "code",
   "execution_count": 254,
   "id": "726191d1",
   "metadata": {},
   "outputs": [],
   "source": [
    "cl=driver.find_element_by_xpath(\"/html/body/div[1]/div/div[3]/div[1]/div[2]/div[9]/div/div/div[5]/div/a/div\")\n",
    "cl.click()"
   ]
  },
  {
   "cell_type": "code",
   "execution_count": 255,
   "id": "1a0a821d",
   "metadata": {},
   "outputs": [
    {
     "data": {
      "text/plain": [
       "['5', '5', '5', '5', '5', '5', '5', '4', '5', '5']"
      ]
     },
     "execution_count": 255,
     "metadata": {},
     "output_type": "execute_result"
    }
   ],
   "source": [
    "rating_tag=driver.find_elements_by_xpath(\"//div[@class='_3LWZlK _1BLPMq']\")\n",
    "for i in rating_tag:\n",
    "    t=i.text\n",
    "    rating.append(t)\n",
    "rating"
   ]
  },
  {
   "cell_type": "code",
   "execution_count": 256,
   "id": "9331cfd0",
   "metadata": {},
   "outputs": [
    {
     "data": {
      "text/plain": [
       "['Brilliant',\n",
       " 'Simply awesome',\n",
       " 'Best in the market!',\n",
       " 'Perfect product!',\n",
       " 'Fabulous!',\n",
       " 'Worth every penny',\n",
       " 'Great product',\n",
       " 'Good choice',\n",
       " 'Highly recommended',\n",
       " 'Worth every penny']"
      ]
     },
     "execution_count": 256,
     "metadata": {},
     "output_type": "execute_result"
    }
   ],
   "source": [
    "review_tag=driver.find_elements_by_xpath(\"//p[@class='_2-N8zT']\")\n",
    "for i in review_tag:\n",
    "    t=i.text\n",
    "    review_summary.append(t)\n",
    "review_summary"
   ]
  },
  {
   "cell_type": "code",
   "execution_count": 257,
   "id": "32b3843f",
   "metadata": {},
   "outputs": [
    {
     "data": {
      "text/plain": [
       "['The Best Phone for the Money\\n\\nThe iPhone 11 offers superb cameras, a more durable design and excellent battery life for an affordable price.\\n\\nCompelling ultra-wide camera\\nNew Night mode is excellent\\nLong battery life',\n",
       " 'Really satisfied with the Product I received... It’s totally genuine and the packaging was also really good so if ur planning to buy just go for it.',\n",
       " 'Great iPhone very snappy experience as apple kind. Upgraded from iPhone 7.\\nPros\\n-Camera top class\\n- Battery top performed\\n-Chipset no need to say as apple kind\\n-Security as you expect from apple\\n- Display super bright industry leading colour\\naccuracy and super responsive\\n-Build quality as expect from apple sturdy\\npremium durable beautiful stylish.\\n-Os most stable os in smartphone industry\\n\\nCons\\n-No 5G\\n-Display is not based on OLED technology\\n-Charger headphones and 1 apple stic...\\nREAD MORE',\n",
       " 'Amazing phone with great cameras and better battery which gives you the best performance. I just love the camera .',\n",
       " 'This is my first iOS phone. I am very happy with this product. Very much satisfied with this. I love this phone.',\n",
       " 'Previously I was using one plus 3t it was a great phone\\nAnd then I decided to upgrade I am stuck between Samsung s10 plus or iPhone 11\\nI have seen the specs and everything were good except the display it’s somewhere between 720-1080 and it’s not even an amoled it’s an LCD display\\nBut I decided to go with iPhone because I have never used an IOS device I have Been an android user from the past 9 years I ordered IPhone 11 (128gb) product red\\nMy experience after using 3 weeks\\n1. The delivery ...\\nREAD MORE',\n",
       " 'Amazing Powerful and Durable Gadget.\\n\\nI’m am very happy with the camera picture quality, Amazing face id unlocked in dark room, Strong battery with perfect screen size as you can carry easily in pocket. This is my third iPhone.\\n\\nI shifted from android Samsung Note series to iPhone because of the strong build quality and peace of mind for next 3-4 years.\\n\\nDon’t think to much just go for it and I suggest you to go for minimum 128gb variant or more 256gb.\\n\\nI’ve attached my puppy pics and no fi...\\nREAD MORE',\n",
       " 'So far it’s been an AMAZING experience coming back to iOS after nearly a decade but it’s not as versatile as android though phone is sturdy dropped it accidentally a couple of times and nothing happened fortunately camera is awesome',\n",
       " 'What a camera .....just awesome ..you can feel this iPhone just awesome . Good for gaming also ...try pubg in hd it’s just wow',\n",
       " 'i11 is worthy to buy, too much happy with the product. Thank u flipkart I received the item on time..loved it..']"
      ]
     },
     "execution_count": 257,
     "metadata": {},
     "output_type": "execute_result"
    }
   ],
   "source": [
    "fr_tag=driver.find_elements_by_xpath(\"//div[@class='t-ZTKy']\")\n",
    "for i in fr_tag:\n",
    "    fr=i.text\n",
    "    full_review.append(fr)\n",
    "full_review"
   ]
  },
  {
   "cell_type": "code",
   "execution_count": 258,
   "id": "1d968c86",
   "metadata": {},
   "outputs": [],
   "source": [
    "next_page=driver.find_element_by_xpath(\"/html/body/div[1]/div/div[3]/div/div/div[2]/div[13]/div/div/nav/a[11]\")\n",
    "next_page.click()"
   ]
  },
  {
   "cell_type": "code",
   "execution_count": 259,
   "id": "fda205df",
   "metadata": {},
   "outputs": [],
   "source": [
    "rating_tag=driver.find_elements_by_xpath(\"//div[@class='_3LWZlK _1BLPMq']\")\n",
    "for i in rating_tag:\n",
    "    t=i.text\n",
    "    rating.append(t)"
   ]
  },
  {
   "cell_type": "code",
   "execution_count": 260,
   "id": "292da263",
   "metadata": {},
   "outputs": [
    {
     "data": {
      "text/plain": [
       "['Brilliant',\n",
       " 'Simply awesome',\n",
       " 'Best in the market!',\n",
       " 'Perfect product!',\n",
       " 'Fabulous!',\n",
       " 'Worth every penny',\n",
       " 'Great product',\n",
       " 'Good choice',\n",
       " 'Highly recommended',\n",
       " 'Worth every penny',\n",
       " 'Brilliant',\n",
       " 'Simply awesome',\n",
       " 'Best in the market!',\n",
       " 'Perfect product!',\n",
       " 'Fabulous!',\n",
       " 'Worth every penny',\n",
       " 'Great product',\n",
       " 'Good choice',\n",
       " 'Highly recommended',\n",
       " 'Worth every penny']"
      ]
     },
     "execution_count": 260,
     "metadata": {},
     "output_type": "execute_result"
    }
   ],
   "source": [
    "review_tag=driver.find_elements_by_xpath(\"//p[@class='_2-N8zT']\")\n",
    "for i in review_tag:\n",
    "    t=i.text\n",
    "    review_summary.append(t)\n",
    "review_summary"
   ]
  },
  {
   "cell_type": "code",
   "execution_count": 261,
   "id": "e26b35e5",
   "metadata": {},
   "outputs": [],
   "source": [
    "fr_tag=driver.find_elements_by_xpath(\"//div[@class='t-ZTKy']\")\n",
    "for i in fr_tag:\n",
    "    fr=i.text\n",
    "    full_review.append(fr)"
   ]
  },
  {
   "cell_type": "code",
   "execution_count": 262,
   "id": "32306259",
   "metadata": {},
   "outputs": [],
   "source": [
    "next_page=driver.find_element_by_xpath(\"/html/body/div[1]/div/div[3]/div/div/div[2]/div[13]/div/div/nav/a[11]\")\n",
    "next_page.click()"
   ]
  },
  {
   "cell_type": "code",
   "execution_count": 263,
   "id": "94fab763",
   "metadata": {},
   "outputs": [],
   "source": [
    "rating_tag=driver.find_elements_by_xpath(\"//div[@class='_3LWZlK _1BLPMq']\")\n",
    "for i in rating_tag:\n",
    "    t=i.text\n",
    "    rating.append(t)"
   ]
  },
  {
   "cell_type": "code",
   "execution_count": 264,
   "id": "494e5bf8",
   "metadata": {},
   "outputs": [
    {
     "data": {
      "text/plain": [
       "['Brilliant',\n",
       " 'Simply awesome',\n",
       " 'Best in the market!',\n",
       " 'Perfect product!',\n",
       " 'Fabulous!',\n",
       " 'Worth every penny',\n",
       " 'Great product',\n",
       " 'Good choice',\n",
       " 'Highly recommended',\n",
       " 'Worth every penny',\n",
       " 'Brilliant',\n",
       " 'Simply awesome',\n",
       " 'Best in the market!',\n",
       " 'Perfect product!',\n",
       " 'Fabulous!',\n",
       " 'Worth every penny',\n",
       " 'Great product',\n",
       " 'Good choice',\n",
       " 'Highly recommended',\n",
       " 'Worth every penny',\n",
       " 'Highly recommended',\n",
       " 'Perfect product!',\n",
       " 'Perfect product!',\n",
       " 'Highly recommended',\n",
       " 'Worth every penny',\n",
       " 'Perfect product!',\n",
       " 'Worth every penny',\n",
       " 'Simply awesome',\n",
       " 'Classy product',\n",
       " 'Terrific']"
      ]
     },
     "execution_count": 264,
     "metadata": {},
     "output_type": "execute_result"
    }
   ],
   "source": [
    "review_tag=driver.find_elements_by_xpath(\"//p[@class='_2-N8zT']\")\n",
    "for i in review_tag:\n",
    "    t=i.text\n",
    "    review_summary.append(t)\n",
    "review_summary"
   ]
  },
  {
   "cell_type": "code",
   "execution_count": 265,
   "id": "ed92a761",
   "metadata": {},
   "outputs": [],
   "source": [
    "fr_tag=driver.find_elements_by_xpath(\"//div[@class='t-ZTKy']\")\n",
    "for i in fr_tag:\n",
    "    fr=i.text\n",
    "    full_review.append(fr)"
   ]
  },
  {
   "cell_type": "code",
   "execution_count": 266,
   "id": "c5668635",
   "metadata": {},
   "outputs": [],
   "source": [
    "next_page=driver.find_element_by_xpath(\"/html/body/div[1]/div/div[3]/div/div/div[2]/div[13]/div/div/nav/a[11]\")\n",
    "next_page.click()"
   ]
  },
  {
   "cell_type": "code",
   "execution_count": 267,
   "id": "6faa8110",
   "metadata": {},
   "outputs": [],
   "source": [
    "rating_tag=driver.find_elements_by_xpath(\"//div[@class='_3LWZlK _1BLPMq']\")\n",
    "for i in rating_tag:\n",
    "    t=i.text\n",
    "    rating.append(t)"
   ]
  },
  {
   "cell_type": "code",
   "execution_count": 268,
   "id": "f00cb731",
   "metadata": {},
   "outputs": [
    {
     "data": {
      "text/plain": [
       "['Brilliant',\n",
       " 'Simply awesome',\n",
       " 'Best in the market!',\n",
       " 'Perfect product!',\n",
       " 'Fabulous!',\n",
       " 'Worth every penny',\n",
       " 'Great product',\n",
       " 'Good choice',\n",
       " 'Highly recommended',\n",
       " 'Worth every penny',\n",
       " 'Brilliant',\n",
       " 'Simply awesome',\n",
       " 'Best in the market!',\n",
       " 'Perfect product!',\n",
       " 'Fabulous!',\n",
       " 'Worth every penny',\n",
       " 'Great product',\n",
       " 'Good choice',\n",
       " 'Highly recommended',\n",
       " 'Worth every penny',\n",
       " 'Highly recommended',\n",
       " 'Perfect product!',\n",
       " 'Perfect product!',\n",
       " 'Highly recommended',\n",
       " 'Worth every penny',\n",
       " 'Perfect product!',\n",
       " 'Worth every penny',\n",
       " 'Simply awesome',\n",
       " 'Classy product',\n",
       " 'Terrific',\n",
       " 'Highly recommended',\n",
       " 'Perfect product!',\n",
       " 'Perfect product!',\n",
       " 'Highly recommended',\n",
       " 'Worth every penny',\n",
       " 'Perfect product!',\n",
       " 'Worth every penny',\n",
       " 'Simply awesome',\n",
       " 'Classy product',\n",
       " 'Terrific']"
      ]
     },
     "execution_count": 268,
     "metadata": {},
     "output_type": "execute_result"
    }
   ],
   "source": [
    "review_tag=driver.find_elements_by_xpath(\"//p[@class='_2-N8zT']\")\n",
    "for i in review_tag:\n",
    "    t=i.text\n",
    "    review_summary.append(t)\n",
    "review_summary"
   ]
  },
  {
   "cell_type": "code",
   "execution_count": 269,
   "id": "a9d506b3",
   "metadata": {},
   "outputs": [
    {
     "data": {
      "text/plain": [
       "['Brilliant',\n",
       " 'Simply awesome',\n",
       " 'Best in the market!',\n",
       " 'Perfect product!',\n",
       " 'Fabulous!',\n",
       " 'Worth every penny',\n",
       " 'Great product',\n",
       " 'Good choice',\n",
       " 'Highly recommended',\n",
       " 'Worth every penny',\n",
       " 'Brilliant',\n",
       " 'Simply awesome',\n",
       " 'Best in the market!',\n",
       " 'Perfect product!',\n",
       " 'Fabulous!',\n",
       " 'Worth every penny',\n",
       " 'Great product',\n",
       " 'Good choice',\n",
       " 'Highly recommended',\n",
       " 'Worth every penny',\n",
       " 'Highly recommended',\n",
       " 'Perfect product!',\n",
       " 'Perfect product!',\n",
       " 'Highly recommended',\n",
       " 'Worth every penny',\n",
       " 'Perfect product!',\n",
       " 'Worth every penny',\n",
       " 'Simply awesome',\n",
       " 'Classy product',\n",
       " 'Terrific',\n",
       " 'Highly recommended',\n",
       " 'Perfect product!',\n",
       " 'Perfect product!',\n",
       " 'Highly recommended',\n",
       " 'Worth every penny',\n",
       " 'Perfect product!',\n",
       " 'Worth every penny',\n",
       " 'Simply awesome',\n",
       " 'Classy product',\n",
       " 'Terrific',\n",
       " 'Highly recommended',\n",
       " 'Perfect product!',\n",
       " 'Perfect product!',\n",
       " 'Highly recommended',\n",
       " 'Worth every penny',\n",
       " 'Perfect product!',\n",
       " 'Worth every penny',\n",
       " 'Simply awesome',\n",
       " 'Classy product',\n",
       " 'Terrific']"
      ]
     },
     "execution_count": 269,
     "metadata": {},
     "output_type": "execute_result"
    }
   ],
   "source": [
    "review_tag=driver.find_elements_by_xpath(\"//p[@class='_2-N8zT']\")\n",
    "for i in review_tag:\n",
    "    t=i.text\n",
    "    review_summary.append(t)\n",
    "review_summary"
   ]
  },
  {
   "cell_type": "code",
   "execution_count": 270,
   "id": "b7a10ad8",
   "metadata": {},
   "outputs": [],
   "source": [
    "next_page=driver.find_element_by_xpath(\"/html/body/div[1]/div/div[3]/div/div/div[2]/div[13]/div/div/nav/a[11]\")\n",
    "next_page.click()"
   ]
  },
  {
   "cell_type": "code",
   "execution_count": 271,
   "id": "dcf95ad6",
   "metadata": {},
   "outputs": [],
   "source": [
    "rating_tag=driver.find_elements_by_xpath(\"//div[@class='_3LWZlK _1BLPMq']\")\n",
    "for i in rating_tag:\n",
    "    t=i.text\n",
    "    rating.append(t)"
   ]
  },
  {
   "cell_type": "code",
   "execution_count": 272,
   "id": "a4700d77",
   "metadata": {},
   "outputs": [
    {
     "data": {
      "text/plain": [
       "['Brilliant',\n",
       " 'Simply awesome',\n",
       " 'Best in the market!',\n",
       " 'Perfect product!',\n",
       " 'Fabulous!',\n",
       " 'Worth every penny',\n",
       " 'Great product',\n",
       " 'Good choice',\n",
       " 'Highly recommended',\n",
       " 'Worth every penny',\n",
       " 'Brilliant',\n",
       " 'Simply awesome',\n",
       " 'Best in the market!',\n",
       " 'Perfect product!',\n",
       " 'Fabulous!',\n",
       " 'Worth every penny',\n",
       " 'Great product',\n",
       " 'Good choice',\n",
       " 'Highly recommended',\n",
       " 'Worth every penny',\n",
       " 'Highly recommended',\n",
       " 'Perfect product!',\n",
       " 'Perfect product!',\n",
       " 'Highly recommended',\n",
       " 'Worth every penny',\n",
       " 'Perfect product!',\n",
       " 'Worth every penny',\n",
       " 'Simply awesome',\n",
       " 'Classy product',\n",
       " 'Terrific',\n",
       " 'Highly recommended',\n",
       " 'Perfect product!',\n",
       " 'Perfect product!',\n",
       " 'Highly recommended',\n",
       " 'Worth every penny',\n",
       " 'Perfect product!',\n",
       " 'Worth every penny',\n",
       " 'Simply awesome',\n",
       " 'Classy product',\n",
       " 'Terrific',\n",
       " 'Highly recommended',\n",
       " 'Perfect product!',\n",
       " 'Perfect product!',\n",
       " 'Highly recommended',\n",
       " 'Worth every penny',\n",
       " 'Perfect product!',\n",
       " 'Worth every penny',\n",
       " 'Simply awesome',\n",
       " 'Classy product',\n",
       " 'Terrific',\n",
       " 'Just wow!',\n",
       " 'Wonderful',\n",
       " 'Nice product',\n",
       " 'Mind-blowing purchase',\n",
       " 'Terrific',\n",
       " 'Excellent',\n",
       " 'Brilliant',\n",
       " 'Excellent',\n",
       " 'Pretty good',\n",
       " 'Mind-blowing purchase']"
      ]
     },
     "execution_count": 272,
     "metadata": {},
     "output_type": "execute_result"
    }
   ],
   "source": [
    "review_tag=driver.find_elements_by_xpath(\"//p[@class='_2-N8zT']\")\n",
    "for i in review_tag:\n",
    "    t=i.text\n",
    "    review_summary.append(t)\n",
    "review_summary"
   ]
  },
  {
   "cell_type": "code",
   "execution_count": 273,
   "id": "a70353a4",
   "metadata": {},
   "outputs": [],
   "source": [
    "fr_tag=driver.find_elements_by_xpath(\"//div[@class='t-ZTKy']\")\n",
    "for i in fr_tag:\n",
    "    fr=i.text\n",
    "    full_review.append(fr)"
   ]
  },
  {
   "cell_type": "code",
   "execution_count": 274,
   "id": "53a88092",
   "metadata": {},
   "outputs": [],
   "source": [
    "rating_tag=driver.find_elements_by_xpath(\"//div[@class='_3LWZlK _1BLPMq']\")\n",
    "for i in rating_tag:\n",
    "    t=i.text\n",
    "    rating.append(t)\n",
    "\n",
    "review_tag=driver.find_elements_by_xpath(\"//p[@class='_2-N8zT']\")\n",
    "for i in review_tag:\n",
    "    t=i.text\n",
    "    review_summary.append(t)\n",
    "\n",
    "fr_tag=driver.find_elements_by_xpath(\"//div[@class='t-ZTKy']\")\n",
    "for i in fr_tag:\n",
    "    fr=i.text\n",
    "    full_review.append(fr)\n"
   ]
  },
  {
   "cell_type": "code",
   "execution_count": 275,
   "id": "7bfcb74a",
   "metadata": {},
   "outputs": [],
   "source": [
    "next_page=driver.find_element_by_xpath(\"/html/body/div[1]/div/div[3]/div/div/div[2]/div[13]/div/div/nav/a[11]\")\n",
    "next_page.click()"
   ]
  },
  {
   "cell_type": "code",
   "execution_count": 276,
   "id": "79d59954",
   "metadata": {},
   "outputs": [],
   "source": [
    "rating_tag=driver.find_elements_by_xpath(\"//div[@class='_3LWZlK _1BLPMq']\")\n",
    "for i in rating_tag:\n",
    "    t=i.text\n",
    "    rating.append(t)\n",
    "\n",
    "review_tag=driver.find_elements_by_xpath(\"//p[@class='_2-N8zT']\")\n",
    "for i in review_tag:\n",
    "    t=i.text\n",
    "    review_summary.append(t)\n",
    "    \n",
    "fr_tag=driver.find_elements_by_xpath(\"//div[@class='t-ZTKy']\")\n",
    "for i in fr_tag:\n",
    "    fr=i.text\n",
    "    full_review.append(fr)"
   ]
  },
  {
   "cell_type": "code",
   "execution_count": 277,
   "id": "3fe07f7e",
   "metadata": {},
   "outputs": [],
   "source": [
    "next_page=driver.find_element_by_xpath(\"/html/body/div[1]/div/div[3]/div/div/div[2]/div[13]/div/div/nav/a[11]\")\n",
    "next_page.click()"
   ]
  },
  {
   "cell_type": "code",
   "execution_count": 278,
   "id": "5e720207",
   "metadata": {},
   "outputs": [],
   "source": [
    "rating_tag=driver.find_elements_by_xpath(\"//div[@class='_3LWZlK _1BLPMq']\")\n",
    "for i in rating_tag:\n",
    "    t=i.text\n",
    "    rating.append(t)\n",
    "    \n",
    "review_tag=driver.find_elements_by_xpath(\"//p[@class='_2-N8zT']\")\n",
    "for i in review_tag:\n",
    "    t=i.text\n",
    "    review_summary.append(t)\n",
    "    \n",
    "fr_tag=driver.find_elements_by_xpath(\"//div[@class='t-ZTKy']\")\n",
    "for i in fr_tag:\n",
    "    fr=i.text\n",
    "    full_review.append(fr)"
   ]
  },
  {
   "cell_type": "code",
   "execution_count": 279,
   "id": "8172a69f",
   "metadata": {},
   "outputs": [],
   "source": [
    "next_page=driver.find_element_by_xpath(\"/html/body/div[1]/div/div[3]/div/div/div[2]/div[13]/div/div/nav/a[11]\")\n",
    "next_page.click()"
   ]
  },
  {
   "cell_type": "code",
   "execution_count": 280,
   "id": "0aaa67df",
   "metadata": {},
   "outputs": [],
   "source": [
    "rating_tag=driver.find_elements_by_xpath(\"//div[@class='_3LWZlK _1BLPMq']\")\n",
    "for i in rating_tag:\n",
    "    t=i.text\n",
    "    rating.append(t)\n",
    "    \n",
    "review_tag=driver.find_elements_by_xpath(\"//p[@class='_2-N8zT']\")\n",
    "for i in review_tag:\n",
    "    t=i.text\n",
    "    review_summary.append(t)\n",
    "    \n",
    "fr_tag=driver.find_elements_by_xpath(\"//div[@class='t-ZTKy']\")\n",
    "for i in fr_tag:\n",
    "    fr=i.text\n",
    "    full_review.append(fr)"
   ]
  },
  {
   "cell_type": "code",
   "execution_count": 281,
   "id": "d9f4e114",
   "metadata": {},
   "outputs": [],
   "source": [
    "next_page=driver.find_element_by_xpath(\"/html/body/div[1]/div/div[3]/div/div/div[2]/div[13]/div/div/nav/a[11]\")\n",
    "next_page.click()"
   ]
  },
  {
   "cell_type": "code",
   "execution_count": 282,
   "id": "3cf8bec9",
   "metadata": {},
   "outputs": [],
   "source": [
    "rating_tag=driver.find_elements_by_xpath(\"//div[@class='_3LWZlK _1BLPMq']\")\n",
    "for i in rating_tag:\n",
    "    t=i.text\n",
    "    rating.append(t)\n",
    "    \n",
    "review_tag=driver.find_elements_by_xpath(\"//p[@class='_2-N8zT']\")\n",
    "for i in review_tag:\n",
    "    t=i.text\n",
    "    review_summary.append(t)\n",
    "    \n",
    "fr_tag=driver.find_elements_by_xpath(\"//div[@class='t-ZTKy']\")\n",
    "for i in fr_tag:\n",
    "    fr=i.text\n",
    "    full_review.append(fr)"
   ]
  },
  {
   "cell_type": "code",
   "execution_count": 283,
   "id": "d978689a",
   "metadata": {},
   "outputs": [],
   "source": [
    "next_page=driver.find_element_by_xpath(\"/html/body/div[1]/div/div[3]/div/div/div[2]/div[13]/div/div/nav/a[11]\")\n",
    "next_page.click()"
   ]
  },
  {
   "cell_type": "code",
   "execution_count": 284,
   "id": "b185e303",
   "metadata": {},
   "outputs": [],
   "source": [
    "rating_tag=driver.find_elements_by_xpath(\"//div[@class='_3LWZlK _1BLPMq']\")\n",
    "for i in rating_tag:\n",
    "    t=i.text\n",
    "    rating.append(t)\n",
    "    \n",
    "review_tag=driver.find_elements_by_xpath(\"//p[@class='_2-N8zT']\")\n",
    "for i in review_tag:\n",
    "    t=i.text\n",
    "    review_summary.append(t)\n",
    "\n",
    "fr_tag=driver.find_elements_by_xpath(\"//div[@class='t-ZTKy']\")\n",
    "for i in fr_tag:\n",
    "    fr=i.text\n",
    "    full_review.append(fr)"
   ]
  },
  {
   "cell_type": "code",
   "execution_count": 285,
   "id": "ec49b8b8",
   "metadata": {},
   "outputs": [],
   "source": [
    "next_page=driver.find_element_by_xpath(\"/html/body/div[1]/div/div[3]/div/div/div[2]/div[13]/div/div/nav/a[11]\")\n",
    "next_page.click()"
   ]
  },
  {
   "cell_type": "code",
   "execution_count": 286,
   "id": "44277dc2",
   "metadata": {},
   "outputs": [],
   "source": [
    "rating_tag=driver.find_elements_by_xpath(\"//div[@class='_3LWZlK _1BLPMq']\")\n",
    "for i in rating_tag:\n",
    "    t=i.text\n",
    "    rating.append(t)\n",
    "    \n",
    "review_tag=driver.find_elements_by_xpath(\"//p[@class='_2-N8zT']\")\n",
    "for i in review_tag:\n",
    "    t=i.text\n",
    "    review_summary.append(t)\n",
    "    \n",
    "fr_tag=driver.find_elements_by_xpath(\"//div[@class='t-ZTKy']\")\n",
    "for i in fr_tag:\n",
    "    fr=i.text\n",
    "    full_review.append(fr)"
   ]
  },
  {
   "cell_type": "code",
   "execution_count": 287,
   "id": "a527d460",
   "metadata": {},
   "outputs": [],
   "source": [
    "next_page=driver.find_element_by_xpath(\"/html/body/div[1]/div/div[3]/div/div/div[2]/div[13]/div/div/nav/a[11]\")\n",
    "next_page.click()"
   ]
  },
  {
   "cell_type": "code",
   "execution_count": 288,
   "id": "fb5a7ed4",
   "metadata": {},
   "outputs": [],
   "source": [
    "rating_tag=driver.find_elements_by_xpath(\"//div[@class='_3LWZlK _1BLPMq']\")\n",
    "for i in rating_tag:\n",
    "    t=i.text\n",
    "    rating.append(t)\n",
    "    \n",
    "review_tag=driver.find_elements_by_xpath(\"//p[@class='_2-N8zT']\")\n",
    "for i in review_tag:\n",
    "    t=i.text\n",
    "    review_summary.append(t)\n",
    "    \n",
    "fr_tag=driver.find_elements_by_xpath(\"//div[@class='t-ZTKy']\")\n",
    "for i in fr_tag:\n",
    "    fr=i.text\n",
    "    full_review.append(fr)"
   ]
  },
  {
   "cell_type": "code",
   "execution_count": 292,
   "id": "5a3e2daf",
   "metadata": {},
   "outputs": [
    {
     "data": {
      "text/html": [
       "<div>\n",
       "<style scoped>\n",
       "    .dataframe tbody tr th:only-of-type {\n",
       "        vertical-align: middle;\n",
       "    }\n",
       "\n",
       "    .dataframe tbody tr th {\n",
       "        vertical-align: top;\n",
       "    }\n",
       "\n",
       "    .dataframe thead th {\n",
       "        text-align: right;\n",
       "    }\n",
       "</style>\n",
       "<table border=\"1\" class=\"dataframe\">\n",
       "  <thead>\n",
       "    <tr style=\"text-align: right;\">\n",
       "      <th></th>\n",
       "      <th>Rating</th>\n",
       "      <th>Review_Summary</th>\n",
       "      <th>Full_review</th>\n",
       "    </tr>\n",
       "  </thead>\n",
       "  <tbody>\n",
       "    <tr>\n",
       "      <th>0</th>\n",
       "      <td>5</td>\n",
       "      <td>Brilliant</td>\n",
       "      <td>The Best Phone for the Money\\n\\nThe iPhone 11 ...</td>\n",
       "    </tr>\n",
       "    <tr>\n",
       "      <th>1</th>\n",
       "      <td>5</td>\n",
       "      <td>Simply awesome</td>\n",
       "      <td>Really satisfied with the Product I received.....</td>\n",
       "    </tr>\n",
       "    <tr>\n",
       "      <th>2</th>\n",
       "      <td>5</td>\n",
       "      <td>Best in the market!</td>\n",
       "      <td>Great iPhone very snappy experience as apple k...</td>\n",
       "    </tr>\n",
       "    <tr>\n",
       "      <th>3</th>\n",
       "      <td>5</td>\n",
       "      <td>Perfect product!</td>\n",
       "      <td>Amazing phone with great cameras and better ba...</td>\n",
       "    </tr>\n",
       "    <tr>\n",
       "      <th>4</th>\n",
       "      <td>5</td>\n",
       "      <td>Fabulous!</td>\n",
       "      <td>This is my first iOS phone. I am very happy wi...</td>\n",
       "    </tr>\n",
       "    <tr>\n",
       "      <th>...</th>\n",
       "      <td>...</td>\n",
       "      <td>...</td>\n",
       "      <td>...</td>\n",
       "    </tr>\n",
       "    <tr>\n",
       "      <th>95</th>\n",
       "      <td>4</td>\n",
       "      <td>Good quality product</td>\n",
       "      <td>It is a very good phone but price is very high...</td>\n",
       "    </tr>\n",
       "    <tr>\n",
       "      <th>96</th>\n",
       "      <td>5</td>\n",
       "      <td>Simply awesome</td>\n",
       "      <td>Hmmm., my first iphone and i love it .\\nI thou...</td>\n",
       "    </tr>\n",
       "    <tr>\n",
       "      <th>97</th>\n",
       "      <td>5</td>\n",
       "      <td>Wonderful</td>\n",
       "      <td>Dont think too much guys. perfect phone for da...</td>\n",
       "    </tr>\n",
       "    <tr>\n",
       "      <th>98</th>\n",
       "      <td>5</td>\n",
       "      <td>Classy product</td>\n",
       "      <td>Amazing delivery. Got my phone a day before ex...</td>\n",
       "    </tr>\n",
       "    <tr>\n",
       "      <th>99</th>\n",
       "      <td>5</td>\n",
       "      <td>Excellent</td>\n",
       "      <td>It is iPhone. There isn't much I could say abo...</td>\n",
       "    </tr>\n",
       "  </tbody>\n",
       "</table>\n",
       "<p>100 rows × 3 columns</p>\n",
       "</div>"
      ],
      "text/plain": [
       "   Rating        Review_Summary  \\\n",
       "0       5             Brilliant   \n",
       "1       5        Simply awesome   \n",
       "2       5   Best in the market!   \n",
       "3       5      Perfect product!   \n",
       "4       5             Fabulous!   \n",
       "..    ...                   ...   \n",
       "95      4  Good quality product   \n",
       "96      5        Simply awesome   \n",
       "97      5             Wonderful   \n",
       "98      5        Classy product   \n",
       "99      5             Excellent   \n",
       "\n",
       "                                          Full_review  \n",
       "0   The Best Phone for the Money\\n\\nThe iPhone 11 ...  \n",
       "1   Really satisfied with the Product I received.....  \n",
       "2   Great iPhone very snappy experience as apple k...  \n",
       "3   Amazing phone with great cameras and better ba...  \n",
       "4   This is my first iOS phone. I am very happy wi...  \n",
       "..                                                ...  \n",
       "95  It is a very good phone but price is very high...  \n",
       "96  Hmmm., my first iphone and i love it .\\nI thou...  \n",
       "97  Dont think too much guys. perfect phone for da...  \n",
       "98  Amazing delivery. Got my phone a day before ex...  \n",
       "99  It is iPhone. There isn't much I could say abo...  \n",
       "\n",
       "[100 rows x 3 columns]"
      ]
     },
     "execution_count": 292,
     "metadata": {},
     "output_type": "execute_result"
    }
   ],
   "source": [
    "reviews=pd.DataFrame({})\n",
    "reviews['Rating']=rating[:100]\n",
    "reviews['Review_Summary']=review_summary[:100]\n",
    "reviews['Full_review']=full_review[:100]\n",
    "reviews"
   ]
  },
  {
   "cell_type": "markdown",
   "id": "effc48e0",
   "metadata": {},
   "source": [
    "# Q6: Scrape data for first 100 sneakers you find when you visit flipkart.com andsearch for “sneakers” in the search field.\n",
    "\n",
    "You have to scrape 4 attributes of each sneaker:\n",
    "\n",
    "1. Brand\n",
    "\n",
    "2. Product Description\n",
    "\n",
    "3. Price"
   ]
  },
  {
   "cell_type": "code",
   "execution_count": 376,
   "id": "ff533219",
   "metadata": {},
   "outputs": [],
   "source": [
    "driver=webdriver.Chrome(r\"C:\\Users\\balub\\Downloads\\chromedriver_win32\\chromedriver.exe\")\n",
    "driver=webdriver.Chrome(\"chromedriver.exe\")\n",
    "time.sleep(2)\n",
    "driver.get(\"https://www.flipkart.com/\")"
   ]
  },
  {
   "cell_type": "code",
   "execution_count": 377,
   "id": "4c1de06e",
   "metadata": {},
   "outputs": [],
   "source": [
    "cl=driver.find_element_by_xpath(\"/html/body/div[2]/div/div/button\")\n",
    "cl.click()"
   ]
  },
  {
   "cell_type": "code",
   "execution_count": 378,
   "id": "bcc29d9c",
   "metadata": {},
   "outputs": [],
   "source": [
    "product_search=driver.find_element_by_class_name(\"_3704LK\")\n",
    "product_search.send_keys(\"sneakers\")"
   ]
  },
  {
   "cell_type": "code",
   "execution_count": 379,
   "id": "100211a1",
   "metadata": {},
   "outputs": [],
   "source": [
    "search=driver.find_element_by_xpath(\"/html/body/div[1]/div/div[1]/div[1]/div[2]/div[2]/form/div/button\")\n",
    "search.click()"
   ]
  },
  {
   "cell_type": "code",
   "execution_count": 380,
   "id": "4cbb3b83",
   "metadata": {},
   "outputs": [],
   "source": [
    "brand=[]\n",
    "product_description=[]\n",
    "price=[]\n",
    "discount=[]"
   ]
  },
  {
   "cell_type": "code",
   "execution_count": 381,
   "id": "ae2840c7",
   "metadata": {},
   "outputs": [],
   "source": [
    "brand_tag=driver.find_elements_by_xpath(\"//div[@class='_2WkVRV']\")\n",
    "for i in brand_tag:\n",
    "    name=i.text\n",
    "    brand.append(name)\n",
    "    \n",
    "product_tag=driver.find_elements_by_xpath(\"//a[@class='IRpwTa']\")\n",
    "for i in product_tag:\n",
    "    pt=i.text\n",
    "    product_description.append(pt)\n",
    "    \n",
    "price_tag=driver.find_elements_by_xpath(\"//div[@class='_30jeq3']\")\n",
    "for i in price_tag:\n",
    "    prt=i.text\n",
    "    price.append(prt)\n",
    "    \n",
    "discount_tag=driver.find_elements_by_xpath(\"//div[@class='_3Ay6Sb']\")\n",
    "for i in discount_tag:\n",
    "    dt=i.text\n",
    "    discount.append(dt)\n"
   ]
  },
  {
   "cell_type": "code",
   "execution_count": 382,
   "id": "0de40127",
   "metadata": {},
   "outputs": [],
   "source": [
    "next_page=driver.find_element_by_xpath(\"/html/body/div[1]/div/div[3]/div[1]/div[2]/div[12]/div/div/nav/a[11]\")\n",
    "next_page.click()"
   ]
  },
  {
   "cell_type": "code",
   "execution_count": 383,
   "id": "31454e7e",
   "metadata": {},
   "outputs": [],
   "source": [
    "brand_tag=driver.find_elements_by_xpath(\"//div[@class='_2WkVRV']\")\n",
    "for i in brand_tag:\n",
    "    name=i.text\n",
    "    brand.append(name)\n",
    "    \n",
    "product_tag=driver.find_elements_by_xpath(\"//a[@class='IRpwTa']\")\n",
    "for i in product_tag:\n",
    "    pt=i.text\n",
    "    product_description.append(pt)\n",
    "    \n",
    "price_tag=driver.find_elements_by_xpath(\"//div[@class='_30jeq3']\")\n",
    "for i in price_tag:\n",
    "    prt=i.text\n",
    "    price.append(prt)\n",
    "    \n",
    "discount_tag=driver.find_elements_by_xpath(\"//div[@class='_3Ay6Sb']\")\n",
    "for i in discount_tag:\n",
    "    dt=i.text\n",
    "    discount.append(dt)\n"
   ]
  },
  {
   "cell_type": "code",
   "execution_count": 384,
   "id": "f942a650",
   "metadata": {},
   "outputs": [],
   "source": [
    "next_page=driver.find_element_by_xpath(\"/html/body/div[1]/div/div[3]/div[1]/div[2]/div[12]/div/div/nav/a[11]\")\n",
    "next_page.click()"
   ]
  },
  {
   "cell_type": "code",
   "execution_count": 385,
   "id": "1f66d78a",
   "metadata": {},
   "outputs": [],
   "source": [
    "brand_tag=driver.find_elements_by_xpath(\"//div[@class='_2WkVRV']\")\n",
    "for i in brand_tag:\n",
    "    name=i.text\n",
    "    brand.append(name)\n",
    "    \n",
    "product_tag=driver.find_elements_by_xpath(\"//a[@class='IRpwTa']\")\n",
    "for i in product_tag:\n",
    "    pt=i.text\n",
    "    product_description.append(pt)\n",
    "    \n",
    "price_tag=driver.find_elements_by_xpath(\"//div[@class='_30jeq3']\")\n",
    "for i in price_tag:\n",
    "    prt=i.text\n",
    "    price.append(prt)\n",
    "    \n",
    "discount_tag=driver.find_elements_by_xpath(\"//div[@class='_3Ay6Sb']\")\n",
    "for i in discount_tag:\n",
    "    dt=i.text\n",
    "    discount.append(dt)\n"
   ]
  },
  {
   "cell_type": "code",
   "execution_count": 386,
   "id": "f33b718d",
   "metadata": {},
   "outputs": [],
   "source": [
    "next_page=driver.find_element_by_xpath(\"/html/body/div[1]/div/div[3]/div[1]/div[2]/div[12]/div/div/nav/a[11]\")\n",
    "next_page.click()"
   ]
  },
  {
   "cell_type": "code",
   "execution_count": 387,
   "id": "53973c06",
   "metadata": {},
   "outputs": [],
   "source": [
    "product_tag=driver.find_elements_by_xpath(\"//a[@class='IRpwTa']\")\n",
    "for i in product_tag:\n",
    "    pt=i.text\n",
    "    product_description.append(pt)"
   ]
  },
  {
   "cell_type": "code",
   "execution_count": 388,
   "id": "08144c96",
   "metadata": {},
   "outputs": [
    {
     "name": "stdout",
     "output_type": "stream",
     "text": [
      "120 125 120 120\n"
     ]
    }
   ],
   "source": [
    "print(len(brand),len(product_description),len(price),len(discount))"
   ]
  },
  {
   "cell_type": "code",
   "execution_count": 389,
   "id": "3d458ea6",
   "metadata": {},
   "outputs": [],
   "source": [
    "sk=pd.DataFrame({})\n",
    "sk['Brand']=brand[:100]\n",
    "sk['Product_Description']=product_description[:100]\n",
    "sk['Price']=price[:100]\n",
    "sk['Discount']=discount[:100]"
   ]
  },
  {
   "cell_type": "code",
   "execution_count": 390,
   "id": "01405821",
   "metadata": {},
   "outputs": [
    {
     "data": {
      "text/html": [
       "<div>\n",
       "<style scoped>\n",
       "    .dataframe tbody tr th:only-of-type {\n",
       "        vertical-align: middle;\n",
       "    }\n",
       "\n",
       "    .dataframe tbody tr th {\n",
       "        vertical-align: top;\n",
       "    }\n",
       "\n",
       "    .dataframe thead th {\n",
       "        text-align: right;\n",
       "    }\n",
       "</style>\n",
       "<table border=\"1\" class=\"dataframe\">\n",
       "  <thead>\n",
       "    <tr style=\"text-align: right;\">\n",
       "      <th></th>\n",
       "      <th>Brand</th>\n",
       "      <th>Product_Description</th>\n",
       "      <th>Price</th>\n",
       "      <th>Discount</th>\n",
       "    </tr>\n",
       "  </thead>\n",
       "  <tbody>\n",
       "    <tr>\n",
       "      <th>0</th>\n",
       "      <td>D-SNEAKERZ</td>\n",
       "      <td>Casual , Partywear Sneakers Shoes For Men's An...</td>\n",
       "      <td>₹249</td>\n",
       "      <td>62% off</td>\n",
       "    </tr>\n",
       "    <tr>\n",
       "      <th>1</th>\n",
       "      <td>corsac</td>\n",
       "      <td>STYLISH MENS BLACK SNEAKER Sneakers For Men</td>\n",
       "      <td>₹449</td>\n",
       "      <td>70% off</td>\n",
       "    </tr>\n",
       "    <tr>\n",
       "      <th>2</th>\n",
       "      <td>URBANBOX</td>\n",
       "      <td>516 Trendy Star Perfect Sneakers For Men</td>\n",
       "      <td>₹158</td>\n",
       "      <td>84% off</td>\n",
       "    </tr>\n",
       "    <tr>\n",
       "      <th>3</th>\n",
       "      <td>Chevit</td>\n",
       "      <td>Sneakers For Men</td>\n",
       "      <td>₹209</td>\n",
       "      <td>73% off</td>\n",
       "    </tr>\n",
       "    <tr>\n",
       "      <th>4</th>\n",
       "      <td>aadi</td>\n",
       "      <td>5011-Latest Collection Stylish &amp; Trendy Casual...</td>\n",
       "      <td>₹269</td>\n",
       "      <td>73% off</td>\n",
       "    </tr>\n",
       "    <tr>\n",
       "      <th>...</th>\n",
       "      <td>...</td>\n",
       "      <td>...</td>\n",
       "      <td>...</td>\n",
       "      <td>...</td>\n",
       "    </tr>\n",
       "    <tr>\n",
       "      <th>95</th>\n",
       "      <td>Xtoon</td>\n",
       "      <td>Casuals, Party Wear Sneakers For Men</td>\n",
       "      <td>₹399</td>\n",
       "      <td>60% off</td>\n",
       "    </tr>\n",
       "    <tr>\n",
       "      <th>96</th>\n",
       "      <td>Navtrend</td>\n",
       "      <td>RS-X Twill AirMesh Sneakers For Men</td>\n",
       "      <td>₹379</td>\n",
       "      <td>81% off</td>\n",
       "    </tr>\n",
       "    <tr>\n",
       "      <th>97</th>\n",
       "      <td>PUMA</td>\n",
       "      <td>X-Ray Millenium Sneakers For Men</td>\n",
       "      <td>₹3,676</td>\n",
       "      <td>59% off</td>\n",
       "    </tr>\n",
       "    <tr>\n",
       "      <th>98</th>\n",
       "      <td>Chevit</td>\n",
       "      <td>323 Sneakers For Men</td>\n",
       "      <td>₹385</td>\n",
       "      <td>75% off</td>\n",
       "    </tr>\n",
       "    <tr>\n",
       "      <th>99</th>\n",
       "      <td>Bacan</td>\n",
       "      <td>Suede Bloc LTH Sneakers For Men</td>\n",
       "      <td>₹449</td>\n",
       "      <td>55% off</td>\n",
       "    </tr>\n",
       "  </tbody>\n",
       "</table>\n",
       "<p>100 rows × 4 columns</p>\n",
       "</div>"
      ],
      "text/plain": [
       "         Brand                                Product_Description   Price  \\\n",
       "0   D-SNEAKERZ  Casual , Partywear Sneakers Shoes For Men's An...    ₹249   \n",
       "1       corsac        STYLISH MENS BLACK SNEAKER Sneakers For Men    ₹449   \n",
       "2     URBANBOX           516 Trendy Star Perfect Sneakers For Men    ₹158   \n",
       "3       Chevit                                   Sneakers For Men    ₹209   \n",
       "4         aadi  5011-Latest Collection Stylish & Trendy Casual...    ₹269   \n",
       "..         ...                                                ...     ...   \n",
       "95       Xtoon               Casuals, Party Wear Sneakers For Men    ₹399   \n",
       "96    Navtrend                RS-X Twill AirMesh Sneakers For Men    ₹379   \n",
       "97        PUMA                   X-Ray Millenium Sneakers For Men  ₹3,676   \n",
       "98      Chevit                               323 Sneakers For Men    ₹385   \n",
       "99       Bacan                    Suede Bloc LTH Sneakers For Men    ₹449   \n",
       "\n",
       "   Discount  \n",
       "0   62% off  \n",
       "1   70% off  \n",
       "2   84% off  \n",
       "3   73% off  \n",
       "4   73% off  \n",
       "..      ...  \n",
       "95  60% off  \n",
       "96  81% off  \n",
       "97  59% off  \n",
       "98  75% off  \n",
       "99  55% off  \n",
       "\n",
       "[100 rows x 4 columns]"
      ]
     },
     "execution_count": 390,
     "metadata": {},
     "output_type": "execute_result"
    }
   ],
   "source": [
    "sk"
   ]
  },
  {
   "cell_type": "markdown",
   "id": "c910a4c3",
   "metadata": {},
   "source": [
    "# Q7: Go to the link - https://www.myntra.com/shoes\n",
    "\n",
    "Set Price filter to “Rs. 7149 to Rs. 14099 ” , Color filter to “Black” And then scrape First 100 shoes data you get. The data should include “Brand” of the shoes , Short Shoe\n",
    "description, price of the shoe."
   ]
  },
  {
   "cell_type": "code",
   "execution_count": 423,
   "id": "2890d33b",
   "metadata": {},
   "outputs": [],
   "source": [
    "driver=webdriver.Chrome(r\"C:\\Users\\balub\\Downloads\\chromedriver_win32\\chromedriver.exe\")\n",
    "driver=webdriver.Chrome(\"chromedriver.exe\")\n",
    "driver.get(\"https://www.myntra.com/shoes\")"
   ]
  },
  {
   "cell_type": "code",
   "execution_count": 424,
   "id": "f09c900a",
   "metadata": {},
   "outputs": [],
   "source": [
    "price_filter=driver.find_element_by_xpath(\"/html/body/div[2]/div/div[1]/main/div[3]/div[1]/section/div/div[5]/ul/li[2]/label/div\")\n",
    "price_filter.click()"
   ]
  },
  {
   "cell_type": "code",
   "execution_count": 425,
   "id": "0e6c689b",
   "metadata": {},
   "outputs": [],
   "source": [
    "color_filter=driver.find_element_by_xpath(\"/html/body/div[2]/div/div[1]/main/div[3]/div[1]/section/div/div[6]/ul/li[1]/label/div\")\n",
    "color_filter.click()"
   ]
  },
  {
   "cell_type": "code",
   "execution_count": 426,
   "id": "e9e8772b",
   "metadata": {},
   "outputs": [],
   "source": [
    "brand=[]\n",
    "product_description=[]\n",
    "price=[]"
   ]
  },
  {
   "cell_type": "code",
   "execution_count": 427,
   "id": "02c26b0c",
   "metadata": {},
   "outputs": [
    {
     "data": {
      "text/plain": [
       "['Skechers',\n",
       " 'ALDO',\n",
       " 'Skechers',\n",
       " 'ADIDAS',\n",
       " 'ALDO',\n",
       " 'ALDO',\n",
       " 'Hush Puppies',\n",
       " 'Puma',\n",
       " 'Skechers',\n",
       " 'ALDO',\n",
       " 'Puma',\n",
       " 'Nike',\n",
       " 'Columbia',\n",
       " 'Puma',\n",
       " 'Hush Puppies',\n",
       " 'PUMA Motorsport',\n",
       " 'PUMA Motorsport',\n",
       " 'ADIDAS',\n",
       " 'Bugatti',\n",
       " 'Puma',\n",
       " 'ADIDAS',\n",
       " 'Puma',\n",
       " 'DAVINCHI',\n",
       " 'Clarks',\n",
       " 'Hush Puppies',\n",
       " 'Hush Puppies',\n",
       " 'Bugatti',\n",
       " 'PUMA Motorsport',\n",
       " 'Puma',\n",
       " 'Tommy Hilfiger',\n",
       " 'Bugatti',\n",
       " 'PUMA Motorsport',\n",
       " 'ADIDAS',\n",
       " 'Tommy Hilfiger',\n",
       " 'Tommy Hilfiger',\n",
       " 'ADIDAS Originals',\n",
       " 'PUMA Motorsport',\n",
       " 'PUMA Motorsport',\n",
       " 'PUMA Motorsport',\n",
       " 'Puma',\n",
       " 'Tommy Hilfiger',\n",
       " 'Saint G',\n",
       " 'Puma',\n",
       " 'DEL MONDO',\n",
       " 'Bugatti',\n",
       " 'ADIDAS',\n",
       " 'PUMA Hoops',\n",
       " 'DAVINCHI',\n",
       " 'ADIDAS',\n",
       " 'Puma']"
      ]
     },
     "execution_count": 427,
     "metadata": {},
     "output_type": "execute_result"
    }
   ],
   "source": [
    "brand_tag=driver.find_elements_by_xpath(\"//div[@class='product-productMetaInfo']/h3\")\n",
    "for i in brand_tag:\n",
    "    name=i.text\n",
    "    brand.append(name)\n",
    "brand"
   ]
  },
  {
   "cell_type": "code",
   "execution_count": 428,
   "id": "35e6757d",
   "metadata": {},
   "outputs": [
    {
     "data": {
      "text/plain": [
       "50"
      ]
     },
     "execution_count": 428,
     "metadata": {},
     "output_type": "execute_result"
    }
   ],
   "source": [
    "len(brand)"
   ]
  },
  {
   "cell_type": "code",
   "execution_count": 429,
   "id": "54f5cfe9",
   "metadata": {},
   "outputs": [
    {
     "data": {
      "text/plain": [
       "['Men Walking Shoes',\n",
       " 'Men Leather Driving Shoes',\n",
       " 'Men Max Cushioning Running',\n",
       " 'Men Dropset Training Shoes',\n",
       " 'Men Printed Sneakers',\n",
       " 'Men Woven Design Sneakers',\n",
       " 'Men Solid Leather Formal Slip-Ons',\n",
       " 'Men Colourblocked RS-Z Core',\n",
       " 'Men Sky Vault Walking Shoes',\n",
       " 'Men Leather Loafers',\n",
       " 'Eternity Nitro Running Shoes',\n",
       " 'Men Air Max Dawn Sneakers',\n",
       " 'Men FACET OUTDRY Trekking Shoe',\n",
       " 'Electrify Nitro Running Shoes',\n",
       " 'Men Formal Derbys',\n",
       " 'Ferrari X-Ray Speed Sneakers',\n",
       " 'Unisex Ferrari IONSpeed',\n",
       " 'Men Sl20.3 Running Shoes',\n",
       " 'Men Solid Sneakers',\n",
       " 'Men Golf Shoes',\n",
       " 'Men Solar Glide 5 Running Shoe',\n",
       " 'Men Deviate Nitro Shoes',\n",
       " 'Men Solid Leather Formal Loafers',\n",
       " 'Men Leather Derbys',\n",
       " 'Men Solid Leather Formal Slip-Ons',\n",
       " 'Men Solid Formal Slip-Ons',\n",
       " 'Men Leather Driving Shoes',\n",
       " 'Unisex Ferrari Drift Cat Delta',\n",
       " 'Women Kosmo Rider DC5 Sneakers',\n",
       " 'Men Textured Loafers',\n",
       " 'Men Black Formal Derby Shoes',\n",
       " 'Men ZenonSpeed Sneakers',\n",
       " 'Women Supernova Running Shoes',\n",
       " 'Men Flexi Sneakers',\n",
       " 'Men Leather Sneakers',\n",
       " 'Men Solid Retropy F2 Sneakers',\n",
       " 'Unisex Mercedes F1 R-Cat',\n",
       " 'Unisex Ferrari Neo Cat Sneaker',\n",
       " 'Ferrari R-Cat Machina Sneakers',\n",
       " 'Women XT FTR Training Shoes',\n",
       " 'Men Textured Loafers',\n",
       " 'Leather Block Sandals',\n",
       " 'Unisex KING Top FG Shoes',\n",
       " 'Men Leather Sneakers',\n",
       " 'Men Leather Monks',\n",
       " 'Women KarlieKlossX9000 Running',\n",
       " 'Men Basketball Shoes',\n",
       " 'Men Textured Formal Leather Loafers',\n",
       " 'Women Dropset Training Shoes',\n",
       " 'Mirage Sport Hacked Sneakers']"
      ]
     },
     "execution_count": 429,
     "metadata": {},
     "output_type": "execute_result"
    }
   ],
   "source": [
    "product_tag=driver.find_elements_by_xpath(\"//div[@class='product-productMetaInfo']/h4[1]\")\n",
    "for i in product_tag:\n",
    "    pt=i.text\n",
    "    product_description.append(pt)\n",
    "product_description"
   ]
  },
  {
   "cell_type": "code",
   "execution_count": 430,
   "id": "b1da3a01",
   "metadata": {},
   "outputs": [
    {
     "data": {
      "text/plain": [
       "50"
      ]
     },
     "execution_count": 430,
     "metadata": {},
     "output_type": "execute_result"
    }
   ],
   "source": [
    "len(product_description)"
   ]
  },
  {
   "cell_type": "code",
   "execution_count": 431,
   "id": "0021c1ef",
   "metadata": {},
   "outputs": [],
   "source": [
    "price_tag=driver.find_elements_by_xpath(\"//div[@class='product-productMetaInfo']/div/span[1]\")\n",
    "for i in price_tag:\n",
    "    prt=i.text\n",
    "    price.append(prt)"
   ]
  },
  {
   "cell_type": "code",
   "execution_count": 432,
   "id": "61a642ad",
   "metadata": {},
   "outputs": [
    {
     "data": {
      "text/plain": [
       "['Rs. 7649Rs. 8999',\n",
       " 'Rs. 12999',\n",
       " 'Rs. 7649Rs. 8999',\n",
       " 'Rs. 11049Rs. 12999',\n",
       " 'Rs. 9099Rs. 12999',\n",
       " 'Rs. 13999',\n",
       " 'Rs. 7649Rs. 8999',\n",
       " 'Rs. 9999',\n",
       " 'Rs. 7199Rs. 8999',\n",
       " 'Rs. 12999',\n",
       " 'Rs. 12999',\n",
       " 'Rs. 7436Rs. 9295',\n",
       " 'Rs. 12999',\n",
       " 'Rs. 9999',\n",
       " 'Rs. 8499Rs. 9999',\n",
       " 'Rs. 7999',\n",
       " 'Rs. 8999',\n",
       " 'Rs. 10199Rs. 11999',\n",
       " 'Rs. 10499',\n",
       " 'Rs. 8999',\n",
       " 'Rs. 11899Rs. 13999',\n",
       " 'Rs. 12749Rs. 14999',\n",
       " 'Rs. 8490',\n",
       " 'Rs. 7499',\n",
       " 'Rs. 8499Rs. 9999',\n",
       " 'Rs. 8499Rs. 9999',\n",
       " 'Rs. 8499',\n",
       " 'Rs. 7999',\n",
       " 'Rs. 7999',\n",
       " 'Rs. 8999',\n",
       " 'Rs. 11999',\n",
       " 'Rs. 8999',\n",
       " 'Rs. 8499Rs. 9999',\n",
       " 'Rs. 7999',\n",
       " 'Rs. 8599',\n",
       " 'Rs. 8099Rs. 8999',\n",
       " 'Rs. 7499',\n",
       " 'Rs. 7999',\n",
       " 'Rs. 7499',\n",
       " 'Rs. 7499',\n",
       " 'Rs. 8599',\n",
       " 'Rs. 9810Rs. 10900',\n",
       " 'Rs. 8999Rs. 11999',\n",
       " 'Rs. 7890',\n",
       " 'Rs. 8999',\n",
       " 'Rs. 13999',\n",
       " 'Rs. 7999',\n",
       " 'Rs. 8990',\n",
       " 'Rs. 11049Rs. 12999',\n",
       " 'Rs. 7649Rs. 8999']"
      ]
     },
     "execution_count": 432,
     "metadata": {},
     "output_type": "execute_result"
    }
   ],
   "source": [
    "price"
   ]
  },
  {
   "cell_type": "code",
   "execution_count": 433,
   "id": "6bece02f",
   "metadata": {},
   "outputs": [
    {
     "data": {
      "text/plain": [
       "50"
      ]
     },
     "execution_count": 433,
     "metadata": {},
     "output_type": "execute_result"
    }
   ],
   "source": [
    "len(price)"
   ]
  },
  {
   "cell_type": "code",
   "execution_count": 434,
   "id": "42903258",
   "metadata": {},
   "outputs": [],
   "source": [
    "next_page=driver.find_element_by_xpath(\"/html/body/div[2]/div/div[1]/main/div[3]/div[2]/div/div[2]/section/div[2]/ul/li[12]/a\")\n",
    "next_page.click()"
   ]
  },
  {
   "cell_type": "code",
   "execution_count": 435,
   "id": "ac0d62ed",
   "metadata": {},
   "outputs": [],
   "source": [
    "brand_tag=driver.find_elements_by_xpath(\"//div[@class='product-productMetaInfo']/h3\")\n",
    "for i in brand_tag:\n",
    "    name=i.text\n",
    "    brand.append(name)\n",
    "    \n",
    "product_tag=driver.find_elements_by_xpath(\"//div[@class='product-productMetaInfo']/h4[1]\")\n",
    "for i in product_tag:\n",
    "    pt=i.text\n",
    "    product_description.append(pt)\n",
    "    \n",
    "price_tag=driver.find_elements_by_xpath(\"//div[@class='product-productMetaInfo']/div/span[1]\")\n",
    "for i in price_tag:\n",
    "    prt=i.text\n",
    "    price.append(prt)"
   ]
  },
  {
   "cell_type": "code",
   "execution_count": 436,
   "id": "d49066f8",
   "metadata": {},
   "outputs": [
    {
     "name": "stdout",
     "output_type": "stream",
     "text": [
      "100 100 100\n"
     ]
    }
   ],
   "source": [
    "print(len(brand),len(product_description),len(price))"
   ]
  },
  {
   "cell_type": "code",
   "execution_count": 437,
   "id": "22e11e63",
   "metadata": {},
   "outputs": [
    {
     "data": {
      "text/html": [
       "<div>\n",
       "<style scoped>\n",
       "    .dataframe tbody tr th:only-of-type {\n",
       "        vertical-align: middle;\n",
       "    }\n",
       "\n",
       "    .dataframe tbody tr th {\n",
       "        vertical-align: top;\n",
       "    }\n",
       "\n",
       "    .dataframe thead th {\n",
       "        text-align: right;\n",
       "    }\n",
       "</style>\n",
       "<table border=\"1\" class=\"dataframe\">\n",
       "  <thead>\n",
       "    <tr style=\"text-align: right;\">\n",
       "      <th></th>\n",
       "      <th>Brand</th>\n",
       "      <th>Product_Description</th>\n",
       "      <th>Price</th>\n",
       "    </tr>\n",
       "  </thead>\n",
       "  <tbody>\n",
       "    <tr>\n",
       "      <th>0</th>\n",
       "      <td>Skechers</td>\n",
       "      <td>Men Walking Shoes</td>\n",
       "      <td>Rs. 7649Rs. 8999</td>\n",
       "    </tr>\n",
       "    <tr>\n",
       "      <th>1</th>\n",
       "      <td>ALDO</td>\n",
       "      <td>Men Leather Driving Shoes</td>\n",
       "      <td>Rs. 12999</td>\n",
       "    </tr>\n",
       "    <tr>\n",
       "      <th>2</th>\n",
       "      <td>Skechers</td>\n",
       "      <td>Men Max Cushioning Running</td>\n",
       "      <td>Rs. 7649Rs. 8999</td>\n",
       "    </tr>\n",
       "    <tr>\n",
       "      <th>3</th>\n",
       "      <td>ADIDAS</td>\n",
       "      <td>Men Dropset Training Shoes</td>\n",
       "      <td>Rs. 11049Rs. 12999</td>\n",
       "    </tr>\n",
       "    <tr>\n",
       "      <th>4</th>\n",
       "      <td>ALDO</td>\n",
       "      <td>Men Printed Sneakers</td>\n",
       "      <td>Rs. 9099Rs. 12999</td>\n",
       "    </tr>\n",
       "    <tr>\n",
       "      <th>...</th>\n",
       "      <td>...</td>\n",
       "      <td>...</td>\n",
       "      <td>...</td>\n",
       "    </tr>\n",
       "    <tr>\n",
       "      <th>95</th>\n",
       "      <td>Bugatti</td>\n",
       "      <td>Men Walking Shoes</td>\n",
       "      <td>Rs. 7199Rs. 8999</td>\n",
       "    </tr>\n",
       "    <tr>\n",
       "      <th>96</th>\n",
       "      <td>Royal Enfield</td>\n",
       "      <td>Cabo WP Riding Boots</td>\n",
       "      <td>Rs. 8075Rs. 8500</td>\n",
       "    </tr>\n",
       "    <tr>\n",
       "      <th>97</th>\n",
       "      <td>ASICS</td>\n",
       "      <td>Men Colourblocked PU Sneakers</td>\n",
       "      <td>Rs. 9999</td>\n",
       "    </tr>\n",
       "    <tr>\n",
       "      <th>98</th>\n",
       "      <td>Sole To Soul</td>\n",
       "      <td>Platform Peep Toes with Buckles</td>\n",
       "      <td>Rs. 7690</td>\n",
       "    </tr>\n",
       "    <tr>\n",
       "      <th>99</th>\n",
       "      <td>Nike</td>\n",
       "      <td>Men AIR MAX PRE-DAY Sneakers</td>\n",
       "      <td>Rs. 12595Rs. 13995</td>\n",
       "    </tr>\n",
       "  </tbody>\n",
       "</table>\n",
       "<p>100 rows × 3 columns</p>\n",
       "</div>"
      ],
      "text/plain": [
       "            Brand              Product_Description               Price\n",
       "0        Skechers                Men Walking Shoes    Rs. 7649Rs. 8999\n",
       "1            ALDO        Men Leather Driving Shoes           Rs. 12999\n",
       "2        Skechers       Men Max Cushioning Running    Rs. 7649Rs. 8999\n",
       "3          ADIDAS       Men Dropset Training Shoes  Rs. 11049Rs. 12999\n",
       "4            ALDO             Men Printed Sneakers   Rs. 9099Rs. 12999\n",
       "..            ...                              ...                 ...\n",
       "95        Bugatti                Men Walking Shoes    Rs. 7199Rs. 8999\n",
       "96  Royal Enfield             Cabo WP Riding Boots    Rs. 8075Rs. 8500\n",
       "97          ASICS    Men Colourblocked PU Sneakers            Rs. 9999\n",
       "98   Sole To Soul  Platform Peep Toes with Buckles            Rs. 7690\n",
       "99           Nike     Men AIR MAX PRE-DAY Sneakers  Rs. 12595Rs. 13995\n",
       "\n",
       "[100 rows x 3 columns]"
      ]
     },
     "execution_count": 437,
     "metadata": {},
     "output_type": "execute_result"
    }
   ],
   "source": [
    "df=pd.DataFrame({})\n",
    "df['Brand']=brand\n",
    "df['Product_Description']=product_description\n",
    "df['Price']=price\n",
    "df"
   ]
  },
  {
   "cell_type": "markdown",
   "id": "3bd35c07",
   "metadata": {},
   "source": [
    "# Q8: Go to webpage https://www.amazon.in/\n",
    "Enter “Laptop” in the search field and then click the search icon.Then set CPU Type filter to “Intel Core i7” and “Intel Core i9” \n",
    "After setting the filters scrape first 10 laptops data. You have to scrape 3 attributesfor each laptop:\n",
    "1. Title\n",
    "2. Ratings\n",
    "3. Price\n"
   ]
  },
  {
   "cell_type": "markdown",
   "id": "1607af91",
   "metadata": {},
   "source": [
    "For Intel core i7"
   ]
  },
  {
   "cell_type": "code",
   "execution_count": 3,
   "id": "4cb6adab",
   "metadata": {},
   "outputs": [],
   "source": [
    "driver=webdriver.Chrome(r\"C:\\Users\\balub\\Downloads\\chromedriver_win32\\chromedriver.exe\")\n",
    "driver=webdriver.Chrome(\"chromedriver.exe\")\n",
    "driver.get(\"https://www.amazon.in/\")"
   ]
  },
  {
   "cell_type": "code",
   "execution_count": 4,
   "id": "3ea3fd9d",
   "metadata": {},
   "outputs": [],
   "source": [
    "product_search=driver.find_element_by_xpath(\"/html/body/div[1]/header/div/div[1]/div[2]/div/form/div[2]/div[1]/input\")\n",
    "product_search.send_keys(\"Laptops\")"
   ]
  },
  {
   "cell_type": "code",
   "execution_count": 5,
   "id": "2c6aa215",
   "metadata": {},
   "outputs": [],
   "source": [
    "search=driver.find_element_by_xpath(\"/html/body/div[1]/header/div/div[1]/div[2]/div/form/div[3]/div/span/input\")\n",
    "search.click()"
   ]
  },
  {
   "cell_type": "code",
   "execution_count": 6,
   "id": "e50bd4f3",
   "metadata": {},
   "outputs": [],
   "source": [
    "cpu_filter=driver.find_element_by_xpath(\"/html/body/div[1]/div[2]/div[1]/div[2]/div/div[3]/span/div[1]/div/div/div[6]/ul[4]/li[14]/span/a/div/label/i\")\n",
    "cpu_filter.click()"
   ]
  },
  {
   "cell_type": "code",
   "execution_count": 7,
   "id": "18429011",
   "metadata": {},
   "outputs": [],
   "source": [
    "title=[]\n",
    "rating=[]\n",
    "price=[]"
   ]
  },
  {
   "cell_type": "code",
   "execution_count": 8,
   "id": "f49ef215",
   "metadata": {},
   "outputs": [
    {
     "data": {
      "text/plain": [
       "['Mi Notebook Ultra 3.2K Resolution Display Intel Core i7-11370H 11th Gen 15.6-inch(39.62 cm) Thin and Light Laptop (16GB/512GB SSD/Iris Xe Graphic/Win 10/MS Office 21/Backlit KB/FP Sensor/1.7Kg)',\n",
       " 'Samsung Galaxy Book2 Pro Intel 12th Gen i7 EvoTM 33.78cm (13.3\") AMOLED Thin & Light Laptop (16 GB/512 GB SSD/Windows 11/MSO Home & Student 2021/Silver/0.87Kg), NP930XED-KB2IN',\n",
       " 'Lenovo ThinkBook 15 Intel 11th Gen Core i7 15.6\"(39.62 cm)FHD Thin and Light Laptop (16GB/512GB SSD/Windows 11 Home/MS Office H&S 2021/Iris® Xe Graphics/Backlit/Mineral Grey/1.7 Kg) 20VE00W4IH',\n",
       " 'HP Pavilion 14, 11th Gen Intel Core i7-16GB RAM/1TB SSD 14 inch(35.6 cm) Laptop/Intel Iris Xe Graphics/Backlit Keyboard/Alexa/B&O Audio/Fast Charge/FPR/Win 11/MS Office, 14-dv1029TU,Natural Silver',\n",
       " 'LG Gram 16 inches Intel Evo 11th Gen Core i7 Ultra-Light Laptop (16 GB RAM, 512 GB SSD, New Windows 11 Home Preload, Iris Xe Graphics, USC -C x 2 (with Power), 1.19 kg, 16Z90P-G.AH85A2, Black)',\n",
       " 'ASUS VivoBook 14 (2021), 14-inch (35.56 cms) FHD, Intel Core i7-1065G7 10th Gen, Thin and Light Laptop (16GB/512GB SSD/Integrated Graphics/Office 2021/Windows 11/Silver/1.6 Kg), X415JA-EK701WS',\n",
       " 'Samsung Galaxy Book2 Pro Intel 12th Gen i7 EvoTM 33.78cm (13.3\") AMOLED Thin & Light Laptop (16 GB/512 GB SSD/Windows 11/MSO Home & Student 2021/Silver/0.87Kg), NP930XED-KB2IN',\n",
       " 'ASUS TUF Gaming F15 (2021), 15.6\" (39.62 cms) FHD 144Hz, Intel Core i7-11600H 11th Gen, 4GB RTX 3050 Graphics, Gaming Laptop (16GB/512GB SSD/Windows 10/Office 2019/Gray/2.3 Kg), FX566HCB-HN299TS',\n",
       " 'ASUS VivoBook K15 OLED (2021), 15.6-inch FHD OLED, Intel Core i7-1165G7 11th Gen, Thin and Light Laptop (16GB/512GB SSD/Iris Xe Graphics/Office 2021/Windows 11/Indie Black/1.8 Kg) K513EA-L712WS',\n",
       " 'HP Pavilion x360 11th Gen Intel Core i7 14 inch(35.6 cm) FHD Multitouch 2-in-1 Laptop(16GB RAM/512GB SSD/B&O/Win 11/FPR/Backlit KB/Intel Iris Xe Graphics/Pen/Alexa/MS Office/Silver/1.52Kg) 14-dy1047TU',\n",
       " 'ASUS TUF Gaming F15 (2021), 15.6-inch (39.62 cms) FHD 144Hz, Intel Core i7-11800H 11th Gen, GeForce RTX 3050 4GB Graphics, Gaming Laptop (8GB/512GB SSD/Windows 10/Eclipse Gray/2.3 Kg), FX566HC-HN093T',\n",
       " 'ASUS ZenBook 13 OLED (2021) Intel Core i7-1165G7 11th Gen 13.3\" (33.78 cms) FHD Thin and Light Laptop (16GB/512GB SSD/Windows 10/Office 2019/Intel Iris Xᵉ Graphics/Pine Grey/1.14 kg), UX325EA-KG722TS',\n",
       " 'Lenovo IdeaPad Gaming 3 Intel Core i7 10th Gen 39.62 cm (15.6\") FHD IPS 250Nits Gaming Laptop (8GB/512GB SSD/Win10/NVIDIA GTX 1650 4GB GDDR6 Graphics/120Hz/Onyx Black/2.2Kg), 81Y4019EIN',\n",
       " 'Lenovo Yoga 7 Intel Evo Core i7 11th Gen 14\" FHD IPS 2-in-1 Touchscreen Convertible Laptop(16GB/512GB SSD/Windows 11/Office 2021/Lenovo Digital Pen/Slate Grey/Aluminium Surface/1.43Kg),82BH00HWIN',\n",
       " 'Samsung Galaxy Book2 Pro Intel 12th Gen i7 EvoTM 39.62cm (15.6\") AMOLED Thin & Light Laptop (16 GB/512 GB SSD/Windows 11/MS Office Home & Student 2021/Graphite/1.11Kg), NP950XED-KA1IN',\n",
       " 'Samsung Galaxy Book2 Pro 360 Intel 12th Gen i7 EvoTM 15.6 inch Touchscreen 2-in-1 AMOLED Thin & Light Laptop (16 GB/512 GB SSD/Windows 11/MSO Home & Student 2021/Graphite/1.41Kg), NP950QED-KA1IN',\n",
       " 'Fujitsu UH-X 11th Gen Intel Core i7 13.3” FHD IPS 400Nits Thin & Light Laptop(16GB/512GB SSD/Windows 11/Office 2021/Iris Xe Graphics/Backlit Kb/Fingerprint Reader/2Yr Warranty/Black/878gms),4ZR1F38024',\n",
       " 'Acer Predator Helios 300 11th Gen Intel Core i9-11900H 15.6 inches FHD IPS Gaming Laptop (32GB/1TB SSD/Windows 11 Home/8GB Graphics/NVIDIA GeForce RTX 3070/300 Hz, Black, 2.3Kg) PH315-54',\n",
       " 'ASUS TUF Gaming F15 (2022), 15.6\" (39.62 cms) FHD 144Hz, Intel Core i7-12700H 12th Gen, RTX 3050 Ti 4GB Graphics, Gaming Laptop (16GB/512GB SSD/Windows 11/Gray/2.2 kg), FX577ZE-HN056W',\n",
       " 'Lenovo ThinkBook Yoga 14s Intel Core i7 11th Gen 14\"(35.56cm) FHD IPS 300 nits 100% sRGB Dolby Vision 2-in-1 Touchscreen Laptop (16GB RAM/512GB SSD/Windows 10/MS Office/Active Pen/1.50 kg) 20WEA01EIH',\n",
       " 'Acer Nitro 5 Gaming Laptop/12th Gen Intel Core i7-12700H Processor 14core/15.6\"(39.6cm) FHD 144Hz Display(16GB/512GB SSD/1TB HDD/RTX 3050Ti Graphics/Windows 11/RGB),AN515-58 + Xbox Game Pass Ultimate',\n",
       " '(Renewed) Dell Latitude E7470 Intel Core i7 6th Gen 14 inches Laptop /16 GB RAM/512 GB SSD/Windows 10 Pro/MS Office/HD Display/Integrated Graphics, 1.9 kg',\n",
       " 'ASUS TUF Gaming F15 (2021) 15.6-inch (39.62 cms) FHD 144Hz, Intel Core i7-11800H 11th Gen, RTX 3050 4GB Graphics, Gaming Laptop (8GB/1TB SSD/Windows 10/Gray/2.3 Kg), FX566HCB-HN231T, Eclipse Gray',\n",
       " '(Refurbished) Dell Intel Core i7 6th Gen 14.Inch(35.6 cms) (1920 x 1080)FHD TOUCHSCREEN Laptop(8GB RAM/256GB SSD/Windows 10 Pro/MS Office/Intel Integrated HD Graphics /1.18Kg,Black) Latitude E7470',\n",
       " '(Refurbished) Dell Intel Core i7 7th Gen 14.Inch(35.6 cms) (1920 x 1080)FHD TOUCHSCREEN Laptop (16GB RAM/512GB SSD/Windows 10 Pro/MS Office/ Intel HD Integrated Graphics/1.18Kg,Black) Latitude E7480',\n",
       " '(Renewed) Samsung Galaxy Book2 Pro 360 Intel 12th Gen i7 EvoTM  33.78 cm (13.3\") Touchscreen 2-in-1 AMOLED Thin & Light Laptop (16 GB/512 GB SSD/Windows 11/MSO Home & Student 2021/Silver/1.04Kg), NP930QED-KB2IN',\n",
       " 'ASUS ZenBook 13 OLED (2021) Intel Core i7-1165G7 11th Gen 13.3\" (33.78 cms) FHD Thin and Light Laptop (16GB/1TB SSD/Windows 10/Office 2019/Intel Iris Xᵉ Graphics/Lilac Mist/1.14 kg), UX325EA-KG701WS',\n",
       " 'Dell Inspiron 2-in-1 13.3\" 4K UHD IPS LED-Backlight Touch-Screen Laptop, Intel Quad-Core i7-8565U Up to 4.6GHz, 16GB DDR4, 256GB PCIe SSD, Fingerprint Reader, USB 3.1-C, Backlit Keyboard, Windows 10',\n",
       " 'Samsung Galaxy Book2 360 Intel 12th Gen i7 EvoTM  33.78cm (13.3\") AMOLED Thin & Light Laptop (16 GB/512 GB SSD/Windows 11/MS Office Home & Student 2021/Graphite/1.16Kg), NP730QED-KA1IN',\n",
       " 'Samsung Galaxy Book2 Pro 360 Intel 12th Gen i7 EvoTM  33.78 cm (13.3\") Touchscreen 2-in-1 AMOLED Thin & Light Laptop (16 GB/512 GB SSD/Windows 11/MSO Home & Student 2021/Silver/1.04Kg), NP930QED-KB2IN']"
      ]
     },
     "execution_count": 8,
     "metadata": {},
     "output_type": "execute_result"
    }
   ],
   "source": [
    "title_tag=driver.find_elements_by_xpath(\"//h2[@class='a-size-mini a-spacing-none a-color-base s-line-clamp-2']\")\n",
    "for i in title_tag:\n",
    "    name=i.text\n",
    "    title.append(name)\n",
    "title"
   ]
  },
  {
   "cell_type": "code",
   "execution_count": 11,
   "id": "d66bd0f5",
   "metadata": {},
   "outputs": [
    {
     "data": {
      "text/plain": [
       "['77,990',\n",
       " '1,14,990',\n",
       " '86,990',\n",
       " '86,990',\n",
       " '89,611',\n",
       " '57,310',\n",
       " '1,14,990',\n",
       " '89,990',\n",
       " '82,990',\n",
       " '86,990',\n",
       " '96,990',\n",
       " '92,790',\n",
       " '68,990',\n",
       " '98,592',\n",
       " '1,24,990',\n",
       " '1,29,990',\n",
       " '84,590',\n",
       " '1,69,990',\n",
       " '1,16,996',\n",
       " '89,990',\n",
       " '1,09,990',\n",
       " '44,940',\n",
       " '92,990',\n",
       " '48,999',\n",
       " '54,499',\n",
       " '1,02,842',\n",
       " '1,02,659',\n",
       " '1,35,409',\n",
       " '1,05,990',\n",
       " '1,20,990']"
      ]
     },
     "execution_count": 11,
     "metadata": {},
     "output_type": "execute_result"
    }
   ],
   "source": [
    "price_tag=driver.find_elements_by_xpath(\"//span[@class='a-price-whole']\")\n",
    "for i in price_tag:\n",
    "    name=i.text\n",
    "    price.append(name)\n",
    "price"
   ]
  },
  {
   "cell_type": "code",
   "execution_count": 12,
   "id": "6a9c0f01",
   "metadata": {},
   "outputs": [
    {
     "name": "stdout",
     "output_type": "stream",
     "text": [
      "30 30\n"
     ]
    }
   ],
   "source": [
    "print(len(title),len(price))"
   ]
  },
  {
   "cell_type": "code",
   "execution_count": 14,
   "id": "cf29b490",
   "metadata": {},
   "outputs": [],
   "source": [
    "i7=pd.DataFrame({})\n",
    "i7['Title']=title[:10]\n",
    "i7['Price']=price[:10]"
   ]
  },
  {
   "cell_type": "code",
   "execution_count": 15,
   "id": "bfdd7c15",
   "metadata": {},
   "outputs": [
    {
     "data": {
      "text/html": [
       "<div>\n",
       "<style scoped>\n",
       "    .dataframe tbody tr th:only-of-type {\n",
       "        vertical-align: middle;\n",
       "    }\n",
       "\n",
       "    .dataframe tbody tr th {\n",
       "        vertical-align: top;\n",
       "    }\n",
       "\n",
       "    .dataframe thead th {\n",
       "        text-align: right;\n",
       "    }\n",
       "</style>\n",
       "<table border=\"1\" class=\"dataframe\">\n",
       "  <thead>\n",
       "    <tr style=\"text-align: right;\">\n",
       "      <th></th>\n",
       "      <th>Title</th>\n",
       "      <th>Price</th>\n",
       "    </tr>\n",
       "  </thead>\n",
       "  <tbody>\n",
       "    <tr>\n",
       "      <th>0</th>\n",
       "      <td>Mi Notebook Ultra 3.2K Resolution Display Inte...</td>\n",
       "      <td>77,990</td>\n",
       "    </tr>\n",
       "    <tr>\n",
       "      <th>1</th>\n",
       "      <td>Samsung Galaxy Book2 Pro Intel 12th Gen i7 Evo...</td>\n",
       "      <td>1,14,990</td>\n",
       "    </tr>\n",
       "    <tr>\n",
       "      <th>2</th>\n",
       "      <td>Lenovo ThinkBook 15 Intel 11th Gen Core i7 15....</td>\n",
       "      <td>86,990</td>\n",
       "    </tr>\n",
       "    <tr>\n",
       "      <th>3</th>\n",
       "      <td>HP Pavilion 14, 11th Gen Intel Core i7-16GB RA...</td>\n",
       "      <td>86,990</td>\n",
       "    </tr>\n",
       "    <tr>\n",
       "      <th>4</th>\n",
       "      <td>LG Gram 16 inches Intel Evo 11th Gen Core i7 U...</td>\n",
       "      <td>89,611</td>\n",
       "    </tr>\n",
       "    <tr>\n",
       "      <th>5</th>\n",
       "      <td>ASUS VivoBook 14 (2021), 14-inch (35.56 cms) F...</td>\n",
       "      <td>57,310</td>\n",
       "    </tr>\n",
       "    <tr>\n",
       "      <th>6</th>\n",
       "      <td>Samsung Galaxy Book2 Pro Intel 12th Gen i7 Evo...</td>\n",
       "      <td>1,14,990</td>\n",
       "    </tr>\n",
       "    <tr>\n",
       "      <th>7</th>\n",
       "      <td>ASUS TUF Gaming F15 (2021), 15.6\" (39.62 cms) ...</td>\n",
       "      <td>89,990</td>\n",
       "    </tr>\n",
       "    <tr>\n",
       "      <th>8</th>\n",
       "      <td>ASUS VivoBook K15 OLED (2021), 15.6-inch FHD O...</td>\n",
       "      <td>82,990</td>\n",
       "    </tr>\n",
       "    <tr>\n",
       "      <th>9</th>\n",
       "      <td>HP Pavilion x360 11th Gen Intel Core i7 14 inc...</td>\n",
       "      <td>86,990</td>\n",
       "    </tr>\n",
       "  </tbody>\n",
       "</table>\n",
       "</div>"
      ],
      "text/plain": [
       "                                               Title     Price\n",
       "0  Mi Notebook Ultra 3.2K Resolution Display Inte...    77,990\n",
       "1  Samsung Galaxy Book2 Pro Intel 12th Gen i7 Evo...  1,14,990\n",
       "2  Lenovo ThinkBook 15 Intel 11th Gen Core i7 15....    86,990\n",
       "3  HP Pavilion 14, 11th Gen Intel Core i7-16GB RA...    86,990\n",
       "4  LG Gram 16 inches Intel Evo 11th Gen Core i7 U...    89,611\n",
       "5  ASUS VivoBook 14 (2021), 14-inch (35.56 cms) F...    57,310\n",
       "6  Samsung Galaxy Book2 Pro Intel 12th Gen i7 Evo...  1,14,990\n",
       "7  ASUS TUF Gaming F15 (2021), 15.6\" (39.62 cms) ...    89,990\n",
       "8  ASUS VivoBook K15 OLED (2021), 15.6-inch FHD O...    82,990\n",
       "9  HP Pavilion x360 11th Gen Intel Core i7 14 inc...    86,990"
      ]
     },
     "execution_count": 15,
     "metadata": {},
     "output_type": "execute_result"
    }
   ],
   "source": [
    "i7"
   ]
  },
  {
   "cell_type": "markdown",
   "id": "b17f3e54",
   "metadata": {},
   "source": [
    "For Intel core i9"
   ]
  },
  {
   "cell_type": "code",
   "execution_count": 16,
   "id": "e5ec9b75",
   "metadata": {},
   "outputs": [],
   "source": [
    "driver=webdriver.Chrome(r\"C:\\Users\\balub\\Downloads\\chromedriver_win32\\chromedriver.exe\")\n",
    "driver=webdriver.Chrome(\"chromedriver.exe\")\n",
    "driver.get(\"https://www.amazon.in/\")"
   ]
  },
  {
   "cell_type": "code",
   "execution_count": 17,
   "id": "598b79b4",
   "metadata": {},
   "outputs": [],
   "source": [
    "product_search=driver.find_element_by_xpath(\"/html/body/div[1]/header/div/div[1]/div[2]/div/form/div[2]/div[1]/input\")\n",
    "product_search.send_keys(\"Laptops\")"
   ]
  },
  {
   "cell_type": "code",
   "execution_count": 18,
   "id": "76de6b9e",
   "metadata": {},
   "outputs": [],
   "source": [
    "search=driver.find_element_by_xpath(\"/html/body/div[1]/header/div/div[1]/div[2]/div/form/div[3]/div/span/input\")\n",
    "search.click()"
   ]
  },
  {
   "cell_type": "code",
   "execution_count": 19,
   "id": "857d8d68",
   "metadata": {},
   "outputs": [],
   "source": [
    "cpu_filter=driver.find_element_by_xpath(\"/html/body/div[1]/div[2]/div[1]/div[2]/div/div[3]/span/div[1]/div/div/div[6]/ul[4]/li[15]/span/a/div/label/i\")\n",
    "cpu_filter.click()"
   ]
  },
  {
   "cell_type": "code",
   "execution_count": 20,
   "id": "6aa1127c",
   "metadata": {},
   "outputs": [],
   "source": [
    "title=[]\n",
    "price=[]"
   ]
  },
  {
   "cell_type": "code",
   "execution_count": 21,
   "id": "cf964606",
   "metadata": {},
   "outputs": [
    {
     "data": {
      "text/plain": [
       "['Acer Predator Helios 300 11th Gen Intel Core i9-11900H 15.6\" (39.62cms) FHD IPS Gaming Laptop (16 GB/1TB SSD/Win 11 Home/6 GB Graphics/NVIDIA GeForce RTX 3060/360 Hz, Black, 2.3 kg) PH315-54',\n",
       " 'ASUS ROG Strix SCAR 15 (2022), 15.6-inch (39.62 cms) 2K WQHD 240Hz/3ms, Core i9-12900H 12th Gen, RTX 3080 Ti 16GB Graphics, Gaming Laptop (32GB/1TB SSD/Win 11/Office 2021/Black/2.3 Kg), G533ZX-LN024WS',\n",
       " 'Acer Predator Helios 300 11th Gen Intel Core i9-11900H 15.6\" (39.62cms) FHD IPS Gaming Laptop (16 GB/1TB SSD/Win 11 Home/6 GB Graphics/NVIDIA GeForce RTX 3060/360 Hz, Black, 2.3 kg) PH315-54',\n",
       " 'ASUS ROG Strix Scar 15 (2022), 15.6\" (39.62 cms) 2K WQHD 240Hz/3ms, Intel Core i9-12900H 12th Gen, RTX 3070 Ti 8GB Graphics, Gaming Laptop (32GB/1TB SSD/Win 11/Office 2021/Black/2.3 kg) G533ZW-LN136WS',\n",
       " 'ASUS ROG Zephyrus M16 (2022), 16-inch (40.64 cms) 2K QHD 165Hz/3ms, Core i9-12900H 12th Gen, RTX 3080 Ti 16GB Graphics, Gaming Laptop (32GB/2TB SSD/Win 11/Office 2021/Black/2 Kg), GU603ZX-K8024WS',\n",
       " 'ASUS TUF Gaming F15 (2021), 15.6\" (39.62 cms) FHD 240Hz, Intel Core i9-11900H 11th Gen, GeForce RTX 3060 6GB Graphics, Gaming Laptop(16GB/1TB SSD/Office 2019/Windows 10/Gray/2.3 Kg), FX566HM-AZ096TS',\n",
       " 'ASUS ROG Strix Scar 15 (2022), 15.6-inch (39.62 cms) 2K WQHD 240Hz/3ms, Core i9-12900H 12th Gen, RTX 3070 Ti 8GB Graphics, Gaming Laptop (32GB/2TB SSD/Win 11/Office 2021/Black/2.3 Kg), G533ZW-LN106WS',\n",
       " 'ASUS ROG Strix Scar 17 (2022), 17.3-inch (43.94 cms) 2K WQHD 240Hz/3ms, Core i9-12900H 12th Gen, RTX 3070 Ti 8GB Graphics, Gaming Laptop (32GB/2TB SSD/Win 11/Office 2021/Black/2.9 Kg), G733ZW-LL105WS',\n",
       " '(Renewed) HP Omen 15-dh0139TX Gaming Laptop (9th Gen i9-9880H/16GB/1TB HDD + 512GB SSD/Win 10/8GB NVIDIA RTX 2080 Graphics) & Z3700 Wireless Mouse',\n",
       " 'HP Envy 15- 11th Gen Intel Core i9/32GB/1TB SSD/15.6 inch(39.6 cm) 400 nits,4K AMOLED Touch, TUV + Win 11 Pro 64/NVIDIA GeForce RTX 3060 6GB Graphics/Alexa/FPR /B&O/2.14kg,15-ep1087TX, Natural Silver',\n",
       " 'Dell Precision 5550 || i9 -10885H || 16GB || 1TB NVMe || T2000 4 GB || Win 10 Pro (Free Upgrade Win 11Pro) / 15.6 FHD+ / 3 Year ADP',\n",
       " 'HP Zbook - Intel i9 14 inch(35.6 cm)FHD, Thin & Light ,Touchscreen, Anti-Glare(32GB RAM/1TB M.2 SSD/NVIDIA T1200 4GB Graphics/Win10 Pro/IR Camera/Audio by B&O- HP Power G8 Mobile Workstation']"
      ]
     },
     "execution_count": 21,
     "metadata": {},
     "output_type": "execute_result"
    }
   ],
   "source": [
    "title_tag=driver.find_elements_by_xpath(\"//h2[@class='a-size-mini a-spacing-none a-color-base s-line-clamp-2']\")\n",
    "for i in title_tag:\n",
    "    name=i.text\n",
    "    title.append(name)\n",
    "title"
   ]
  },
  {
   "cell_type": "code",
   "execution_count": 22,
   "id": "4161130f",
   "metadata": {},
   "outputs": [
    {
     "data": {
      "text/plain": [
       "['1,44,990',\n",
       " '3,01,521',\n",
       " '1,44,990',\n",
       " '2,33,304',\n",
       " '3,31,990',\n",
       " '1,69,990',\n",
       " '2,85,990',\n",
       " '1,38,000',\n",
       " '2,02,990',\n",
       " '2,25,000',\n",
       " '2,26,000']"
      ]
     },
     "execution_count": 22,
     "metadata": {},
     "output_type": "execute_result"
    }
   ],
   "source": [
    "price_tag=driver.find_elements_by_xpath(\"//span[@class='a-price-whole']\")\n",
    "for i in price_tag:\n",
    "    name=i.text\n",
    "    price.append(name)\n",
    "price"
   ]
  },
  {
   "cell_type": "code",
   "execution_count": 23,
   "id": "f0f1d3a0",
   "metadata": {},
   "outputs": [],
   "source": [
    "i9=pd.DataFrame({})\n",
    "i9['Title']=title[:10]\n",
    "i9['Price']=price[:10]"
   ]
  },
  {
   "cell_type": "code",
   "execution_count": 24,
   "id": "7c1681f9",
   "metadata": {},
   "outputs": [
    {
     "data": {
      "text/html": [
       "<div>\n",
       "<style scoped>\n",
       "    .dataframe tbody tr th:only-of-type {\n",
       "        vertical-align: middle;\n",
       "    }\n",
       "\n",
       "    .dataframe tbody tr th {\n",
       "        vertical-align: top;\n",
       "    }\n",
       "\n",
       "    .dataframe thead th {\n",
       "        text-align: right;\n",
       "    }\n",
       "</style>\n",
       "<table border=\"1\" class=\"dataframe\">\n",
       "  <thead>\n",
       "    <tr style=\"text-align: right;\">\n",
       "      <th></th>\n",
       "      <th>Title</th>\n",
       "      <th>Price</th>\n",
       "    </tr>\n",
       "  </thead>\n",
       "  <tbody>\n",
       "    <tr>\n",
       "      <th>0</th>\n",
       "      <td>Acer Predator Helios 300 11th Gen Intel Core i...</td>\n",
       "      <td>1,44,990</td>\n",
       "    </tr>\n",
       "    <tr>\n",
       "      <th>1</th>\n",
       "      <td>ASUS ROG Strix SCAR 15 (2022), 15.6-inch (39.6...</td>\n",
       "      <td>3,01,521</td>\n",
       "    </tr>\n",
       "    <tr>\n",
       "      <th>2</th>\n",
       "      <td>Acer Predator Helios 300 11th Gen Intel Core i...</td>\n",
       "      <td>1,44,990</td>\n",
       "    </tr>\n",
       "    <tr>\n",
       "      <th>3</th>\n",
       "      <td>ASUS ROG Strix Scar 15 (2022), 15.6\" (39.62 cm...</td>\n",
       "      <td>2,33,304</td>\n",
       "    </tr>\n",
       "    <tr>\n",
       "      <th>4</th>\n",
       "      <td>ASUS ROG Zephyrus M16 (2022), 16-inch (40.64 c...</td>\n",
       "      <td>3,31,990</td>\n",
       "    </tr>\n",
       "    <tr>\n",
       "      <th>5</th>\n",
       "      <td>ASUS TUF Gaming F15 (2021), 15.6\" (39.62 cms) ...</td>\n",
       "      <td>1,69,990</td>\n",
       "    </tr>\n",
       "    <tr>\n",
       "      <th>6</th>\n",
       "      <td>ASUS ROG Strix Scar 15 (2022), 15.6-inch (39.6...</td>\n",
       "      <td>2,85,990</td>\n",
       "    </tr>\n",
       "    <tr>\n",
       "      <th>7</th>\n",
       "      <td>ASUS ROG Strix Scar 17 (2022), 17.3-inch (43.9...</td>\n",
       "      <td>1,38,000</td>\n",
       "    </tr>\n",
       "    <tr>\n",
       "      <th>8</th>\n",
       "      <td>(Renewed) HP Omen 15-dh0139TX Gaming Laptop (9...</td>\n",
       "      <td>2,02,990</td>\n",
       "    </tr>\n",
       "    <tr>\n",
       "      <th>9</th>\n",
       "      <td>HP Envy 15- 11th Gen Intel Core i9/32GB/1TB SS...</td>\n",
       "      <td>2,25,000</td>\n",
       "    </tr>\n",
       "  </tbody>\n",
       "</table>\n",
       "</div>"
      ],
      "text/plain": [
       "                                               Title     Price\n",
       "0  Acer Predator Helios 300 11th Gen Intel Core i...  1,44,990\n",
       "1  ASUS ROG Strix SCAR 15 (2022), 15.6-inch (39.6...  3,01,521\n",
       "2  Acer Predator Helios 300 11th Gen Intel Core i...  1,44,990\n",
       "3  ASUS ROG Strix Scar 15 (2022), 15.6\" (39.62 cm...  2,33,304\n",
       "4  ASUS ROG Zephyrus M16 (2022), 16-inch (40.64 c...  3,31,990\n",
       "5  ASUS TUF Gaming F15 (2021), 15.6\" (39.62 cms) ...  1,69,990\n",
       "6  ASUS ROG Strix Scar 15 (2022), 15.6-inch (39.6...  2,85,990\n",
       "7  ASUS ROG Strix Scar 17 (2022), 17.3-inch (43.9...  1,38,000\n",
       "8  (Renewed) HP Omen 15-dh0139TX Gaming Laptop (9...  2,02,990\n",
       "9  HP Envy 15- 11th Gen Intel Core i9/32GB/1TB SS...  2,25,000"
      ]
     },
     "execution_count": 24,
     "metadata": {},
     "output_type": "execute_result"
    }
   ],
   "source": [
    "i9"
   ]
  },
  {
   "cell_type": "markdown",
   "id": "95182493",
   "metadata": {},
   "source": [
    "# Q9: Write a python program to scrape data for first 10 job results for Data Scientist Designation in Noida location.You have to scrape company name, No. of days ago when job was posted, Rating of the company.\n",
    "This task will be done in following steps:\n",
    "1. First get the webpage https://www.ambitionbox.com/\n",
    "\n",
    "2. Click on the Job option\n",
    "\n",
    "3. After reaching to the next webpage, In place of “Search by Designations, Companies, Skills” enter “Data Scientist” and click on search button.\n",
    "\n",
    "4. You will reach to the following web page click on location and in place of “Search location” enter “Noida” and select location “Noida”.\n",
    "\n",
    "5. Then scrape the data for the first 10 jobs results you get on the above shown page.\n",
    "\n",
    "6. Finally create a dataframe of the scraped data."
   ]
  },
  {
   "cell_type": "code",
   "execution_count": 3,
   "id": "d6dd1c05",
   "metadata": {},
   "outputs": [],
   "source": [
    "driver=webdriver.Chrome(r\"C:\\Users\\balub\\Downloads\\chromedriver_win32\\chromedriver.exe\")\n",
    "driver=webdriver.Chrome(\"chromedriver.exe\")\n",
    "driver.get(\"https://www.ambitionbox.com/\")"
   ]
  },
  {
   "cell_type": "code",
   "execution_count": 4,
   "id": "3089156e",
   "metadata": {},
   "outputs": [],
   "source": [
    "jobs=driver.find_element_by_xpath('//*[@id=\"headerWrapper\"]/nav/nav/a[6]')\n",
    "jobs.click()"
   ]
  },
  {
   "cell_type": "code",
   "execution_count": 5,
   "id": "d2c82028",
   "metadata": {},
   "outputs": [],
   "source": [
    "designation=driver.find_element_by_xpath('/html/body/div/div/div/div[2]/div[1]/div[1]/div/div/div/div/span/input')\n",
    "designation.send_keys(\"Data Scientist\")"
   ]
  },
  {
   "cell_type": "code",
   "execution_count": 6,
   "id": "daffa200",
   "metadata": {},
   "outputs": [],
   "source": [
    "search=driver.find_element_by_xpath('/html/body/div/div/div/div[2]/div[1]/div[1]/div/div/div/button/span')\n",
    "search.click()"
   ]
  },
  {
   "cell_type": "code",
   "execution_count": 7,
   "id": "1299c1dd",
   "metadata": {},
   "outputs": [],
   "source": [
    "location=driver.find_element_by_xpath('/html/body/div/div/div/div[2]/div[1]/div[2]/div[1]/div/div/div/div[2]/div[1]/p')\n",
    "location.click()\n"
   ]
  },
  {
   "cell_type": "code",
   "execution_count": 8,
   "id": "01ee714b",
   "metadata": {},
   "outputs": [],
   "source": [
    "search_location=driver.find_element_by_xpath('/html/body/div/div/div/div[2]/div[1]/div[2]/div[1]/div/div/div/div[2]/div[2]/div/div[2]/input')\n",
    "search_location.send_keys(\"Noida\")"
   ]
  },
  {
   "cell_type": "code",
   "execution_count": 9,
   "id": "5d477a79",
   "metadata": {},
   "outputs": [],
   "source": [
    "location_click=driver.find_element_by_xpath('/html/body/div/div/div/div[2]/div[1]/div[2]/div[1]/div/div/div/div[2]/div[2]/div/div[3]/div[1]/div[1]/div/label')\n",
    "location_click.click()"
   ]
  },
  {
   "cell_type": "code",
   "execution_count": 10,
   "id": "ef0b641b",
   "metadata": {},
   "outputs": [],
   "source": [
    "comp_name=[]\n",
    "days=[]\n",
    "rating=[]\n"
   ]
  },
  {
   "cell_type": "code",
   "execution_count": 11,
   "id": "d88a2a37",
   "metadata": {},
   "outputs": [],
   "source": [
    "comp_tags=driver.find_elements_by_xpath('//div[@class=\"company-info\"]/p')"
   ]
  },
  {
   "cell_type": "code",
   "execution_count": 12,
   "id": "6447bd53",
   "metadata": {},
   "outputs": [
    {
     "data": {
      "text/plain": [
       "['GENPACT India Private Limited',\n",
       " 'GENPACT India Private Limited',\n",
       " 'Tech Mahindra Ltd',\n",
       " 'GENPACT India Private Limited',\n",
       " 'HCL Technologies',\n",
       " 'Bristlecone India Limited',\n",
       " 'Zyoin',\n",
       " 'Newgen Software Technologies Ltd.',\n",
       " 'Pitney Bowes India Pvt Ltd',\n",
       " 'JK Technosoft Ltd']"
      ]
     },
     "execution_count": 12,
     "metadata": {},
     "output_type": "execute_result"
    }
   ],
   "source": [
    "for i in comp_tags:\n",
    "    title=i.text\n",
    "    comp_name.append(title)\n",
    "comp_name[1:]"
   ]
  },
  {
   "cell_type": "code",
   "execution_count": 13,
   "id": "00e52134",
   "metadata": {},
   "outputs": [],
   "source": [
    "days_tags=driver.find_elements_by_xpath('//span[@class=\"body-small-l\"]')"
   ]
  },
  {
   "cell_type": "code",
   "execution_count": 14,
   "id": "7c7cabd9",
   "metadata": {},
   "outputs": [
    {
     "data": {
      "text/plain": [
       "['5d ago',\n",
       " '10d ago',\n",
       " '24d ago',\n",
       " '27d ago',\n",
       " '1mon ago',\n",
       " '5d ago',\n",
       " '9d ago',\n",
       " '11d ago',\n",
       " '1mon ago',\n",
       " '20d ago']"
      ]
     },
     "execution_count": 14,
     "metadata": {},
     "output_type": "execute_result"
    }
   ],
   "source": [
    "for i in days_tags:\n",
    "    day=i.text\n",
    "    days.append(day)\n",
    "days[::2]"
   ]
  },
  {
   "cell_type": "code",
   "execution_count": 15,
   "id": "7577ac3f",
   "metadata": {},
   "outputs": [],
   "source": [
    "rating_tags=driver.find_elements_by_xpath('//span[@class=\"body-small\"]')"
   ]
  },
  {
   "cell_type": "code",
   "execution_count": 16,
   "id": "cd7eaa22",
   "metadata": {},
   "outputs": [
    {
     "data": {
      "text/plain": [
       "['4.0', '4.0', '3.7', '4.0', '3.8', '3.9', '4.1', '3.5', '4.3', '3.6']"
      ]
     },
     "execution_count": 16,
     "metadata": {},
     "output_type": "execute_result"
    }
   ],
   "source": [
    "for i in rating_tags:\n",
    "    ratings=i.text\n",
    "    rating.append(ratings)\n",
    "rating"
   ]
  },
  {
   "cell_type": "code",
   "execution_count": 19,
   "id": "2595cd21",
   "metadata": {},
   "outputs": [],
   "source": [
    "df=pd.DataFrame({})\n",
    "df['Company Name']=comp_name[1:11]\n",
    "df['No. of days ago when job was posted']=days[:20:2]\n",
    "df['Rating of the company']=rating[:10]"
   ]
  },
  {
   "cell_type": "code",
   "execution_count": 20,
   "id": "80554473",
   "metadata": {},
   "outputs": [
    {
     "data": {
      "text/html": [
       "<div>\n",
       "<style scoped>\n",
       "    .dataframe tbody tr th:only-of-type {\n",
       "        vertical-align: middle;\n",
       "    }\n",
       "\n",
       "    .dataframe tbody tr th {\n",
       "        vertical-align: top;\n",
       "    }\n",
       "\n",
       "    .dataframe thead th {\n",
       "        text-align: right;\n",
       "    }\n",
       "</style>\n",
       "<table border=\"1\" class=\"dataframe\">\n",
       "  <thead>\n",
       "    <tr style=\"text-align: right;\">\n",
       "      <th></th>\n",
       "      <th>Company Name</th>\n",
       "      <th>No. of days ago when job was posted</th>\n",
       "      <th>Rating of the company</th>\n",
       "    </tr>\n",
       "  </thead>\n",
       "  <tbody>\n",
       "    <tr>\n",
       "      <th>0</th>\n",
       "      <td>GENPACT India Private Limited</td>\n",
       "      <td>5d ago</td>\n",
       "      <td>4.0</td>\n",
       "    </tr>\n",
       "    <tr>\n",
       "      <th>1</th>\n",
       "      <td>GENPACT India Private Limited</td>\n",
       "      <td>10d ago</td>\n",
       "      <td>4.0</td>\n",
       "    </tr>\n",
       "    <tr>\n",
       "      <th>2</th>\n",
       "      <td>Tech Mahindra Ltd</td>\n",
       "      <td>24d ago</td>\n",
       "      <td>3.7</td>\n",
       "    </tr>\n",
       "    <tr>\n",
       "      <th>3</th>\n",
       "      <td>GENPACT India Private Limited</td>\n",
       "      <td>27d ago</td>\n",
       "      <td>4.0</td>\n",
       "    </tr>\n",
       "    <tr>\n",
       "      <th>4</th>\n",
       "      <td>HCL Technologies</td>\n",
       "      <td>1mon ago</td>\n",
       "      <td>3.8</td>\n",
       "    </tr>\n",
       "    <tr>\n",
       "      <th>5</th>\n",
       "      <td>Bristlecone India Limited</td>\n",
       "      <td>5d ago</td>\n",
       "      <td>3.9</td>\n",
       "    </tr>\n",
       "    <tr>\n",
       "      <th>6</th>\n",
       "      <td>Zyoin</td>\n",
       "      <td>9d ago</td>\n",
       "      <td>4.1</td>\n",
       "    </tr>\n",
       "    <tr>\n",
       "      <th>7</th>\n",
       "      <td>Newgen Software Technologies Ltd.</td>\n",
       "      <td>11d ago</td>\n",
       "      <td>3.5</td>\n",
       "    </tr>\n",
       "    <tr>\n",
       "      <th>8</th>\n",
       "      <td>Pitney Bowes India Pvt Ltd</td>\n",
       "      <td>1mon ago</td>\n",
       "      <td>4.3</td>\n",
       "    </tr>\n",
       "    <tr>\n",
       "      <th>9</th>\n",
       "      <td>JK Technosoft Ltd</td>\n",
       "      <td>20d ago</td>\n",
       "      <td>3.6</td>\n",
       "    </tr>\n",
       "  </tbody>\n",
       "</table>\n",
       "</div>"
      ],
      "text/plain": [
       "                        Company Name No. of days ago when job was posted  \\\n",
       "0      GENPACT India Private Limited                              5d ago   \n",
       "1      GENPACT India Private Limited                             10d ago   \n",
       "2                  Tech Mahindra Ltd                             24d ago   \n",
       "3      GENPACT India Private Limited                             27d ago   \n",
       "4                   HCL Technologies                            1mon ago   \n",
       "5          Bristlecone India Limited                              5d ago   \n",
       "6                              Zyoin                              9d ago   \n",
       "7  Newgen Software Technologies Ltd.                             11d ago   \n",
       "8         Pitney Bowes India Pvt Ltd                            1mon ago   \n",
       "9                  JK Technosoft Ltd                             20d ago   \n",
       "\n",
       "  Rating of the company  \n",
       "0                   4.0  \n",
       "1                   4.0  \n",
       "2                   3.7  \n",
       "3                   4.0  \n",
       "4                   3.8  \n",
       "5                   3.9  \n",
       "6                   4.1  \n",
       "7                   3.5  \n",
       "8                   4.3  \n",
       "9                   3.6  "
      ]
     },
     "execution_count": 20,
     "metadata": {},
     "output_type": "execute_result"
    }
   ],
   "source": [
    "df"
   ]
  },
  {
   "cell_type": "markdown",
   "id": "ddbd3f53",
   "metadata": {},
   "source": [
    "# Q10: Write a python program to scrape the salary data for Data Scientist designation.\n",
    "\n",
    "You have to scrape Company name, Number of salaries, Average salary, Minsalary, Max Salary.\n",
    "The above task will be, done as shown in the below steps:\n",
    "\n",
    "1. First get the webpage https://www.ambitionbox.com/\n",
    "\n",
    "2. Click on the salaries option as shown in the image.\n",
    "\n",
    "3. After reaching to the following webpage, In place of “Search Job Profile” enters “Data Scientist” and then click on “Data Scientist”.\n",
    "\n",
    "4. Scrape the data for the first 10 companies. Scrape the company name, total salary record, average salary, minimum salary, maximum salary, experience required.\n",
    "\n",
    "5. Store the data in a dataframe."
   ]
  },
  {
   "cell_type": "code",
   "execution_count": 1,
   "id": "634db859",
   "metadata": {},
   "outputs": [
    {
     "name": "stdout",
     "output_type": "stream",
     "text": [
      "Requirement already satisfied: selenium in c:\\users\\balub\\anaconda3\\lib\\site-packages (4.1.3)\n",
      "Requirement already satisfied: trio-websocket~=0.9 in c:\\users\\balub\\anaconda3\\lib\\site-packages (from selenium) (0.9.2)\n",
      "Requirement already satisfied: trio~=0.17 in c:\\users\\balub\\anaconda3\\lib\\site-packages (from selenium) (0.20.0)\n",
      "Requirement already satisfied: urllib3[secure,socks]~=1.26 in c:\\users\\balub\\anaconda3\\lib\\site-packages (from selenium) (1.26.7)\n",
      "Requirement already satisfied: outcome in c:\\users\\balub\\anaconda3\\lib\\site-packages (from trio~=0.17->selenium) (1.1.0)\n",
      "Requirement already satisfied: attrs>=19.2.0 in c:\\users\\balub\\anaconda3\\lib\\site-packages (from trio~=0.17->selenium) (21.2.0)\n",
      "Requirement already satisfied: cffi>=1.14 in c:\\users\\balub\\anaconda3\\lib\\site-packages (from trio~=0.17->selenium) (1.14.6)\n",
      "Requirement already satisfied: sortedcontainers in c:\\users\\balub\\anaconda3\\lib\\site-packages (from trio~=0.17->selenium) (2.4.0)\n",
      "Requirement already satisfied: idna in c:\\users\\balub\\anaconda3\\lib\\site-packages (from trio~=0.17->selenium) (3.2)\n",
      "Requirement already satisfied: async-generator>=1.9 in c:\\users\\balub\\anaconda3\\lib\\site-packages (from trio~=0.17->selenium) (1.10)\n",
      "Requirement already satisfied: sniffio in c:\\users\\balub\\anaconda3\\lib\\site-packages (from trio~=0.17->selenium) (1.2.0)\n",
      "Requirement already satisfied: pycparser in c:\\users\\balub\\anaconda3\\lib\\site-packages (from cffi>=1.14->trio~=0.17->selenium) (2.20)\n",
      "Requirement already satisfied: wsproto>=0.14 in c:\\users\\balub\\anaconda3\\lib\\site-packages (from trio-websocket~=0.9->selenium) (1.1.0)\n",
      "Requirement already satisfied: pyOpenSSL>=0.14 in c:\\users\\balub\\anaconda3\\lib\\site-packages (from urllib3[secure,socks]~=1.26->selenium) (21.0.0)\n",
      "Requirement already satisfied: cryptography>=1.3.4 in c:\\users\\balub\\anaconda3\\lib\\site-packages (from urllib3[secure,socks]~=1.26->selenium) (3.4.8)\n",
      "Requirement already satisfied: certifi in c:\\users\\balub\\anaconda3\\lib\\site-packages (from urllib3[secure,socks]~=1.26->selenium) (2021.10.8)\n",
      "Requirement already satisfied: PySocks!=1.5.7,<2.0,>=1.5.6 in c:\\users\\balub\\anaconda3\\lib\\site-packages (from urllib3[secure,socks]~=1.26->selenium) (1.7.1)\n",
      "Requirement already satisfied: six>=1.5.2 in c:\\users\\balub\\anaconda3\\lib\\site-packages (from pyOpenSSL>=0.14->urllib3[secure,socks]~=1.26->selenium) (1.16.0)\n",
      "Requirement already satisfied: h11<1,>=0.9.0 in c:\\users\\balub\\anaconda3\\lib\\site-packages (from wsproto>=0.14->trio-websocket~=0.9->selenium) (0.13.0)\n"
     ]
    }
   ],
   "source": [
    "!pip install selenium"
   ]
  },
  {
   "cell_type": "code",
   "execution_count": 2,
   "id": "8816d1fc",
   "metadata": {},
   "outputs": [],
   "source": [
    "import selenium\n",
    "import pandas as pd\n",
    "from selenium import webdriver\n",
    "import warnings\n",
    "warnings.filterwarnings(\"ignore\")\n",
    "import time"
   ]
  },
  {
   "cell_type": "code",
   "execution_count": 3,
   "id": "d437d94e",
   "metadata": {},
   "outputs": [],
   "source": [
    "driver=webdriver.Chrome(r\"C:\\Users\\balub\\Downloads\\chromedriver_win32\\chromedriver.exe\")"
   ]
  },
  {
   "cell_type": "code",
   "execution_count": 4,
   "id": "3e05f6ab",
   "metadata": {},
   "outputs": [],
   "source": [
    "driver=webdriver.Chrome(\"chromedriver.exe\")"
   ]
  },
  {
   "cell_type": "code",
   "execution_count": 5,
   "id": "27d2ce38",
   "metadata": {},
   "outputs": [],
   "source": [
    "driver.get('https://www.ambitionbox.com/')"
   ]
  },
  {
   "cell_type": "code",
   "execution_count": 6,
   "id": "57c84882",
   "metadata": {},
   "outputs": [],
   "source": [
    "salaries=driver.find_element_by_xpath('/html/body/div[1]/nav/nav/a[4]')\n",
    "salaries.click()"
   ]
  },
  {
   "cell_type": "code",
   "execution_count": 7,
   "id": "56c6fc96",
   "metadata": {},
   "outputs": [],
   "source": [
    "designation=driver.find_element_by_xpath(\"/html/body/div/div/div/main/section[1]/div[2]/div[1]/span/input\")\n",
    "designation.send_keys(\"Data Scientist\")"
   ]
  },
  {
   "cell_type": "code",
   "execution_count": 8,
   "id": "0ee10266",
   "metadata": {},
   "outputs": [],
   "source": [
    "search=driver.find_element_by_xpath(\"/html/body/div/div/div/main/section[1]/div[2]/div[1]/span/div/div/div[1]/div/div/p\")\n",
    "search.click()"
   ]
  },
  {
   "cell_type": "code",
   "execution_count": 9,
   "id": "6610da9d",
   "metadata": {},
   "outputs": [],
   "source": [
    "company_name=[]\n",
    "total_salary_record=[]\n",
    "average_salary=[]\n",
    "minimum_salary=[]\n",
    "maximum_salary=[]\n",
    "experience_required=[]"
   ]
  },
  {
   "cell_type": "code",
   "execution_count": 10,
   "id": "290b76be",
   "metadata": {},
   "outputs": [],
   "source": [
    "comp_tags=driver.find_elements_by_xpath('//div[@class=\"name\"]/a')"
   ]
  },
  {
   "cell_type": "code",
   "execution_count": 11,
   "id": "7b89739c",
   "metadata": {},
   "outputs": [
    {
     "data": {
      "text/plain": [
       "['Walmart',\n",
       " 'Ab Inbev',\n",
       " 'Reliance Jio',\n",
       " 'ZS',\n",
       " 'Optum',\n",
       " 'Fractal Analytics',\n",
       " 'Tiger Analytics',\n",
       " 'UnitedHealth',\n",
       " 'Verizon',\n",
       " 'Ganit Business Solutions']"
      ]
     },
     "execution_count": 11,
     "metadata": {},
     "output_type": "execute_result"
    }
   ],
   "source": [
    "for i in comp_tags:\n",
    "    comp=i.text\n",
    "    company_name.append(comp)\n",
    "company_name"
   ]
  },
  {
   "cell_type": "code",
   "execution_count": 12,
   "id": "3326ca20",
   "metadata": {},
   "outputs": [],
   "source": [
    "tsr_tags=driver.find_elements_by_xpath('//div[@class=\"name\"]/span')"
   ]
  },
  {
   "cell_type": "code",
   "execution_count": 13,
   "id": "bf1434a7",
   "metadata": {},
   "outputs": [
    {
     "data": {
      "text/plain": [
       "['based on 11 salaries',\n",
       " 'based on 32 salaries',\n",
       " 'based on 10 salaries',\n",
       " 'based on 15 salaries',\n",
       " 'based on 27 salaries',\n",
       " 'based on 81 salaries',\n",
       " 'based on 46 salaries',\n",
       " 'based on 53 salaries',\n",
       " 'based on 14 salaries',\n",
       " 'based on 13 salaries']"
      ]
     },
     "execution_count": 13,
     "metadata": {},
     "output_type": "execute_result"
    }
   ],
   "source": [
    "for i in tsr_tags:\n",
    "    tsr=i.text\n",
    "    total_salary_record.append(tsr)\n",
    "total_salary_record"
   ]
  },
  {
   "cell_type": "code",
   "execution_count": 14,
   "id": "6f507857",
   "metadata": {},
   "outputs": [],
   "source": [
    "avg_tags=driver.find_elements_by_xpath('//div[@class=\"average-indicator-wrapper\"]/p')"
   ]
  },
  {
   "cell_type": "code",
   "execution_count": 15,
   "id": "4b86d068",
   "metadata": {},
   "outputs": [
    {
     "data": {
      "text/plain": [
       "['₹ 29.7L',\n",
       " '₹ 20.5L',\n",
       " '₹ 18.9L',\n",
       " '₹ 15.9L',\n",
       " '₹ 15.2L',\n",
       " '₹ 15.2L',\n",
       " '₹ 14.8L',\n",
       " '₹ 14.0L',\n",
       " '₹ 12.7L',\n",
       " '₹ 12.4L']"
      ]
     },
     "execution_count": 15,
     "metadata": {},
     "output_type": "execute_result"
    }
   ],
   "source": [
    "for i in avg_tags:\n",
    "    avg=i.text\n",
    "    average_salary.append(avg)\n",
    "average_salary"
   ]
  },
  {
   "cell_type": "code",
   "execution_count": 16,
   "id": "1ae8fbd3",
   "metadata": {},
   "outputs": [],
   "source": [
    "min_tags=driver.find_elements_by_xpath('//div[@class=\"value body-medium\"]')"
   ]
  },
  {
   "cell_type": "code",
   "execution_count": 17,
   "id": "df12e5b1",
   "metadata": {},
   "outputs": [
    {
     "data": {
      "text/plain": [
       "['₹ 25.0L',\n",
       " '₹ 15.0L',\n",
       " '₹ 5.6L',\n",
       " '₹ 9.8L',\n",
       " '₹ 11.0L',\n",
       " '₹ 9.5L',\n",
       " '₹ 9.0L',\n",
       " '₹ 8.3L',\n",
       " '₹ 10.0L',\n",
       " '₹ 8.5L']"
      ]
     },
     "execution_count": 17,
     "metadata": {},
     "output_type": "execute_result"
    }
   ],
   "source": [
    "for i in min_tags:\n",
    "    min=i.text\n",
    "    minimum_salary.append(min)\n",
    "minimum_salary[:20:2]"
   ]
  },
  {
   "cell_type": "code",
   "execution_count": 18,
   "id": "55d46776",
   "metadata": {},
   "outputs": [],
   "source": [
    "max_tags=driver.find_elements_by_xpath('//div[@class=\"value body-medium\"]')"
   ]
  },
  {
   "cell_type": "code",
   "execution_count": 19,
   "id": "41d56008",
   "metadata": {},
   "outputs": [
    {
     "data": {
      "text/plain": [
       "['₹ 35.0L',\n",
       " '₹ 25.5L',\n",
       " '₹ 26.2L',\n",
       " '₹ 20.0L',\n",
       " '₹ 22.0L',\n",
       " '₹ 22.0L',\n",
       " '₹ 20.0L',\n",
       " '₹ 20.5L',\n",
       " '₹ 21.0L',\n",
       " '₹ 15.0L']"
      ]
     },
     "execution_count": 19,
     "metadata": {},
     "output_type": "execute_result"
    }
   ],
   "source": [
    "for i in max_tags:\n",
    "    max=i.text\n",
    "    maximum_salary.append(max)\n",
    "maximum_salary[1:20:2]"
   ]
  },
  {
   "cell_type": "code",
   "execution_count": 33,
   "id": "69836cfd",
   "metadata": {},
   "outputs": [],
   "source": [
    "exp_tags=driver.find_elements_by_xpath('//div[@class=\"salaries sbold-list-header\"]')"
   ]
  },
  {
   "cell_type": "code",
   "execution_count": 34,
   "id": "9c721868",
   "metadata": {},
   "outputs": [
    {
     "data": {
      "text/plain": [
       "[['4', 'yrs', 'exp'],\n",
       " ['4', 'yrs', 'exp'],\n",
       " ['4', 'yrs', 'exp'],\n",
       " ['4', 'yrs', 'exp'],\n",
       " ['4', 'yrs', 'exp'],\n",
       " ['4', 'yrs', 'exp'],\n",
       " ['4', 'yrs', 'exp'],\n",
       " ['4', 'yrs', 'exp'],\n",
       " ['4', 'yrs', 'exp'],\n",
       " ['4', 'yrs', 'exp']]"
      ]
     },
     "execution_count": 34,
     "metadata": {},
     "output_type": "execute_result"
    }
   ],
   "source": [
    "exp_tag=[]\n",
    "for i in dsexp_tags:\n",
    "    exp=i.text.split()[3:]\n",
    "    exp_tag.append(exp1)\n",
    "exp_tag"
   ]
  },
  {
   "cell_type": "code",
   "execution_count": 36,
   "id": "7d242133",
   "metadata": {},
   "outputs": [],
   "source": [
    "df=pd.DataFrame({})\n",
    "df['Company Name']=company_name[:10]\n",
    "df['Total Salary Record']=total_salary_record[:10]\n",
    "df['Average Salary']=average_salary[:10]\n",
    "df['Minimum Salary']=minimum_salary[:20:2]\n",
    "df['Maximum Salary']=maximum_salary[1:20:2]\n",
    "df['Experience Required']=exp_tag[:10]"
   ]
  },
  {
   "cell_type": "code",
   "execution_count": 37,
   "id": "37170636",
   "metadata": {},
   "outputs": [
    {
     "data": {
      "text/html": [
       "<div>\n",
       "<style scoped>\n",
       "    .dataframe tbody tr th:only-of-type {\n",
       "        vertical-align: middle;\n",
       "    }\n",
       "\n",
       "    .dataframe tbody tr th {\n",
       "        vertical-align: top;\n",
       "    }\n",
       "\n",
       "    .dataframe thead th {\n",
       "        text-align: right;\n",
       "    }\n",
       "</style>\n",
       "<table border=\"1\" class=\"dataframe\">\n",
       "  <thead>\n",
       "    <tr style=\"text-align: right;\">\n",
       "      <th></th>\n",
       "      <th>Company Name</th>\n",
       "      <th>Total Salary Record</th>\n",
       "      <th>Average Salary</th>\n",
       "      <th>Minimum Salary</th>\n",
       "      <th>Maximum Salary</th>\n",
       "      <th>Experience Required</th>\n",
       "    </tr>\n",
       "  </thead>\n",
       "  <tbody>\n",
       "    <tr>\n",
       "      <th>0</th>\n",
       "      <td>Walmart</td>\n",
       "      <td>based on 11 salaries</td>\n",
       "      <td>₹ 29.7L</td>\n",
       "      <td>₹ 25.0L</td>\n",
       "      <td>₹ 35.0L</td>\n",
       "      <td>[4, yrs, exp]</td>\n",
       "    </tr>\n",
       "    <tr>\n",
       "      <th>1</th>\n",
       "      <td>Ab Inbev</td>\n",
       "      <td>based on 32 salaries</td>\n",
       "      <td>₹ 20.5L</td>\n",
       "      <td>₹ 15.0L</td>\n",
       "      <td>₹ 25.5L</td>\n",
       "      <td>[4, yrs, exp]</td>\n",
       "    </tr>\n",
       "    <tr>\n",
       "      <th>2</th>\n",
       "      <td>Reliance Jio</td>\n",
       "      <td>based on 10 salaries</td>\n",
       "      <td>₹ 18.9L</td>\n",
       "      <td>₹ 5.6L</td>\n",
       "      <td>₹ 26.2L</td>\n",
       "      <td>[4, yrs, exp]</td>\n",
       "    </tr>\n",
       "    <tr>\n",
       "      <th>3</th>\n",
       "      <td>ZS</td>\n",
       "      <td>based on 15 salaries</td>\n",
       "      <td>₹ 15.9L</td>\n",
       "      <td>₹ 9.8L</td>\n",
       "      <td>₹ 20.0L</td>\n",
       "      <td>[4, yrs, exp]</td>\n",
       "    </tr>\n",
       "    <tr>\n",
       "      <th>4</th>\n",
       "      <td>Optum</td>\n",
       "      <td>based on 27 salaries</td>\n",
       "      <td>₹ 15.2L</td>\n",
       "      <td>₹ 11.0L</td>\n",
       "      <td>₹ 22.0L</td>\n",
       "      <td>[4, yrs, exp]</td>\n",
       "    </tr>\n",
       "    <tr>\n",
       "      <th>5</th>\n",
       "      <td>Fractal Analytics</td>\n",
       "      <td>based on 81 salaries</td>\n",
       "      <td>₹ 15.2L</td>\n",
       "      <td>₹ 9.5L</td>\n",
       "      <td>₹ 22.0L</td>\n",
       "      <td>[4, yrs, exp]</td>\n",
       "    </tr>\n",
       "    <tr>\n",
       "      <th>6</th>\n",
       "      <td>Tiger Analytics</td>\n",
       "      <td>based on 46 salaries</td>\n",
       "      <td>₹ 14.8L</td>\n",
       "      <td>₹ 9.0L</td>\n",
       "      <td>₹ 20.0L</td>\n",
       "      <td>[4, yrs, exp]</td>\n",
       "    </tr>\n",
       "    <tr>\n",
       "      <th>7</th>\n",
       "      <td>UnitedHealth</td>\n",
       "      <td>based on 53 salaries</td>\n",
       "      <td>₹ 14.0L</td>\n",
       "      <td>₹ 8.3L</td>\n",
       "      <td>₹ 20.5L</td>\n",
       "      <td>[4, yrs, exp]</td>\n",
       "    </tr>\n",
       "    <tr>\n",
       "      <th>8</th>\n",
       "      <td>Verizon</td>\n",
       "      <td>based on 14 salaries</td>\n",
       "      <td>₹ 12.7L</td>\n",
       "      <td>₹ 10.0L</td>\n",
       "      <td>₹ 21.0L</td>\n",
       "      <td>[4, yrs, exp]</td>\n",
       "    </tr>\n",
       "    <tr>\n",
       "      <th>9</th>\n",
       "      <td>Ganit Business Solutions</td>\n",
       "      <td>based on 13 salaries</td>\n",
       "      <td>₹ 12.4L</td>\n",
       "      <td>₹ 8.5L</td>\n",
       "      <td>₹ 15.0L</td>\n",
       "      <td>[4, yrs, exp]</td>\n",
       "    </tr>\n",
       "  </tbody>\n",
       "</table>\n",
       "</div>"
      ],
      "text/plain": [
       "               Company Name   Total Salary Record Average Salary  \\\n",
       "0                   Walmart  based on 11 salaries        ₹ 29.7L   \n",
       "1                  Ab Inbev  based on 32 salaries        ₹ 20.5L   \n",
       "2              Reliance Jio  based on 10 salaries        ₹ 18.9L   \n",
       "3                        ZS  based on 15 salaries        ₹ 15.9L   \n",
       "4                     Optum  based on 27 salaries        ₹ 15.2L   \n",
       "5         Fractal Analytics  based on 81 salaries        ₹ 15.2L   \n",
       "6           Tiger Analytics  based on 46 salaries        ₹ 14.8L   \n",
       "7              UnitedHealth  based on 53 salaries        ₹ 14.0L   \n",
       "8                   Verizon  based on 14 salaries        ₹ 12.7L   \n",
       "9  Ganit Business Solutions  based on 13 salaries        ₹ 12.4L   \n",
       "\n",
       "  Minimum Salary Maximum Salary Experience Required  \n",
       "0        ₹ 25.0L        ₹ 35.0L       [4, yrs, exp]  \n",
       "1        ₹ 15.0L        ₹ 25.5L       [4, yrs, exp]  \n",
       "2         ₹ 5.6L        ₹ 26.2L       [4, yrs, exp]  \n",
       "3         ₹ 9.8L        ₹ 20.0L       [4, yrs, exp]  \n",
       "4        ₹ 11.0L        ₹ 22.0L       [4, yrs, exp]  \n",
       "5         ₹ 9.5L        ₹ 22.0L       [4, yrs, exp]  \n",
       "6         ₹ 9.0L        ₹ 20.0L       [4, yrs, exp]  \n",
       "7         ₹ 8.3L        ₹ 20.5L       [4, yrs, exp]  \n",
       "8        ₹ 10.0L        ₹ 21.0L       [4, yrs, exp]  \n",
       "9         ₹ 8.5L        ₹ 15.0L       [4, yrs, exp]  "
      ]
     },
     "execution_count": 37,
     "metadata": {},
     "output_type": "execute_result"
    }
   ],
   "source": [
    "df"
   ]
  }
 ],
 "metadata": {
  "kernelspec": {
   "display_name": "Python 3 (ipykernel)",
   "language": "python",
   "name": "python3"
  },
  "language_info": {
   "codemirror_mode": {
    "name": "ipython",
    "version": 3
   },
   "file_extension": ".py",
   "mimetype": "text/x-python",
   "name": "python",
   "nbconvert_exporter": "python",
   "pygments_lexer": "ipython3",
   "version": "3.9.7"
  }
 },
 "nbformat": 4,
 "nbformat_minor": 5
}
